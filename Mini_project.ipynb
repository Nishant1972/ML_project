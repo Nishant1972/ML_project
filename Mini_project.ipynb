{
  "nbformat": 4,
  "nbformat_minor": 0,
  "metadata": {
    "colab": {
      "name": "Mini_project.ipynb",
      "provenance": [],
      "collapsed_sections": [],
      "include_colab_link": true
    },
    "kernelspec": {
      "display_name": "Python 3",
      "name": "python3"
    },
    "language_info": {
      "name": "python"
    }
  },
  "cells": [
    {
      "cell_type": "markdown",
      "metadata": {
        "id": "view-in-github",
        "colab_type": "text"
      },
      "source": [
        "<a href=\"https://colab.research.google.com/github/Nishant1972/ML_project/blob/main/Mini_project.ipynb\" target=\"_parent\"><img src=\"https://colab.research.google.com/assets/colab-badge.svg\" alt=\"Open In Colab\"/></a>"
      ]
    },
    {
      "cell_type": "markdown",
      "metadata": {
        "id": "qf15jDiO21ze"
      },
      "source": [
        "<p align='center'><b><font size=\"+7\" face='arial' color='orange'>MINI PROJECT</font></p>\n"
      ]
    },
    {
      "cell_type": "code",
      "metadata": {
        "id": "5pWLnP1m-clJ"
      },
      "source": [
        "#from google.colab import files\n",
        "#files.upload()"
      ],
      "execution_count": null,
      "outputs": []
    },
    {
      "cell_type": "code",
      "metadata": {
        "id": "4KeW9o2CidqU"
      },
      "source": [
        "#import pandas as pd\n",
        "\n",
        "#df = pd.read_csv(\"X_test.txt\", delimiter=',')"
      ],
      "execution_count": null,
      "outputs": []
    },
    {
      "cell_type": "code",
      "metadata": {
        "id": "RUClGrXFNS8-"
      },
      "source": [
        "from matplotlib import pyplot as plt\n",
        "import seaborn as sns\n",
        "from sklearn.utils import shuffle\n",
        "from sklearn.linear_model import LogisticRegression\n",
        "from sklearn.model_selection import KFold\n",
        "from sklearn.cluster import KMeans\n",
        "from sklearn.metrics import confusion_matrix, precision_score, recall_score, f1_score, accuracy_score, classification_report\n",
        "from sklearn.metrics import silhouette_samples, silhouette_score\n",
        "\n",
        "from sklearn.neural_network import MLPClassifier\n",
        "import numpy as np\n",
        "import pandas as pd\n",
        "import collections"
      ],
      "execution_count": null,
      "outputs": []
    },
    {
      "cell_type": "code",
      "metadata": {
        "colab": {
          "base_uri": "https://localhost:8080/"
        },
        "id": "ewcnuuzPLVYr",
        "outputId": "d57075f9-75c8-49c1-9f62-35b06580cac7"
      },
      "source": [
        "pip install sklearn-som"
      ],
      "execution_count": null,
      "outputs": [
        {
          "name": "stdout",
          "output_type": "stream",
          "text": [
            "Requirement already satisfied: sklearn-som in /usr/local/lib/python3.7/dist-packages (1.1.0)\n",
            "Requirement already satisfied: numpy in /usr/local/lib/python3.7/dist-packages (from sklearn-som) (1.21.4)\n"
          ]
        }
      ]
    },
    {
      "cell_type": "code",
      "metadata": {
        "id": "y_ZpnphlLv3h"
      },
      "source": [
        "from sklearn_som.som import SOM"
      ],
      "execution_count": null,
      "outputs": []
    },
    {
      "cell_type": "code",
      "metadata": {
        "colab": {
          "base_uri": "https://localhost:8080/"
        },
        "id": "D1TYSbTSepPy",
        "outputId": "9814b7e2-c341-4cbb-f14c-de959e2cc48d"
      },
      "source": [
        "pip install scikit-learn-extra"
      ],
      "execution_count": null,
      "outputs": [
        {
          "name": "stdout",
          "output_type": "stream",
          "text": [
            "Requirement already satisfied: scikit-learn-extra in /usr/local/lib/python3.7/dist-packages (0.2.0)\n",
            "Requirement already satisfied: scikit-learn>=0.23.0 in /usr/local/lib/python3.7/dist-packages (from scikit-learn-extra) (1.0.1)\n",
            "Requirement already satisfied: scipy>=0.19.1 in /usr/local/lib/python3.7/dist-packages (from scikit-learn-extra) (1.4.1)\n",
            "Requirement already satisfied: numpy>=1.13.3 in /usr/local/lib/python3.7/dist-packages (from scikit-learn-extra) (1.21.4)\n",
            "Requirement already satisfied: joblib>=0.11 in /usr/local/lib/python3.7/dist-packages (from scikit-learn>=0.23.0->scikit-learn-extra) (1.1.0)\n",
            "Requirement already satisfied: threadpoolctl>=2.0.0 in /usr/local/lib/python3.7/dist-packages (from scikit-learn>=0.23.0->scikit-learn-extra) (3.0.0)\n"
          ]
        }
      ]
    },
    {
      "cell_type": "code",
      "metadata": {
        "colab": {
          "base_uri": "https://localhost:8080/"
        },
        "id": "gIP8-RNH1-tB",
        "outputId": "ddaf92d7-0391-4024-8654-f0602e2a8bbe"
      },
      "source": [
        "pip install sklearn-som"
      ],
      "execution_count": null,
      "outputs": [
        {
          "name": "stdout",
          "output_type": "stream",
          "text": [
            "Requirement already satisfied: sklearn-som in /usr/local/lib/python3.7/dist-packages (1.1.0)\n",
            "Requirement already satisfied: numpy in /usr/local/lib/python3.7/dist-packages (from sklearn-som) (1.21.4)\n"
          ]
        }
      ]
    },
    {
      "cell_type": "code",
      "metadata": {
        "colab": {
          "base_uri": "https://localhost:8080/"
        },
        "id": "DivBCHdx2KQy",
        "outputId": "4ec90e0b-1a09-49b3-fa0a-166ed55f59c0"
      },
      "source": [
        "pip install fuzzy-c-means"
      ],
      "execution_count": null,
      "outputs": [
        {
          "name": "stdout",
          "output_type": "stream",
          "text": [
            "Requirement already satisfied: fuzzy-c-means in /usr/local/lib/python3.7/dist-packages (1.6.3)\n",
            "Requirement already satisfied: tabulate<0.9.0,>=0.8.9 in /usr/local/lib/python3.7/dist-packages (from fuzzy-c-means) (0.8.9)\n",
            "Requirement already satisfied: typer<0.4.0,>=0.3.2 in /usr/local/lib/python3.7/dist-packages (from fuzzy-c-means) (0.3.2)\n",
            "Requirement already satisfied: numpy<2.0.0,>=1.21.1 in /usr/local/lib/python3.7/dist-packages (from fuzzy-c-means) (1.21.4)\n",
            "Requirement already satisfied: pydantic<2.0.0,>=1.8.2 in /usr/local/lib/python3.7/dist-packages (from fuzzy-c-means) (1.8.2)\n",
            "Requirement already satisfied: typing-extensions>=3.7.4.3 in /usr/local/lib/python3.7/dist-packages (from pydantic<2.0.0,>=1.8.2->fuzzy-c-means) (3.10.0.2)\n",
            "Requirement already satisfied: click<7.2.0,>=7.1.1 in /usr/local/lib/python3.7/dist-packages (from typer<0.4.0,>=0.3.2->fuzzy-c-means) (7.1.2)\n"
          ]
        }
      ]
    },
    {
      "cell_type": "code",
      "metadata": {
        "id": "r173n2R42YIr"
      },
      "source": [
        "from sklearn_extra.cluster import KMedoids\n",
        "from sklearn_som.som import SOM\n",
        "from fcmeans import FCM"
      ],
      "execution_count": null,
      "outputs": []
    },
    {
      "cell_type": "markdown",
      "metadata": {
        "id": "MubGvmBN9e-t"
      },
      "source": [
        "###  "
      ]
    },
    {
      "cell_type": "markdown",
      "metadata": {
        "id": "ptLVD5X9vBJE"
      },
      "source": [
        "## Importing dataset through Opendataset api using kaggle"
      ]
    },
    {
      "cell_type": "code",
      "metadata": {
        "id": "dEmeLW1Su_xX"
      },
      "source": [
        "pip install opendatasets --upgrade --quiet"
      ],
      "execution_count": null,
      "outputs": []
    },
    {
      "cell_type": "code",
      "metadata": {
        "colab": {
          "base_uri": "https://localhost:8080/"
        },
        "id": "IQ-DYhevvSbX",
        "outputId": "d588b048-4885-4ac7-fbcf-9287a7c3158e"
      },
      "source": [
        "import opendatasets as od\n",
        "od.download('https://www.kaggle.com/uciml/human-activity-recognition-with-smartphones')"
      ],
      "execution_count": null,
      "outputs": [
        {
          "name": "stdout",
          "output_type": "stream",
          "text": [
            "Skipping, found downloaded files in \"./human-activity-recognition-with-smartphones\" (use force=True to force download)\n"
          ]
        }
      ]
    },
    {
      "cell_type": "markdown",
      "metadata": {
        "id": "NfYXFegT_Ve0"
      },
      "source": [
        "\n",
        "\n",
        "\n",
        "## 70% train set\n",
        "## 30% test set\n",
        "\n",
        "\n",
        "\n",
        "\n",
        "\n",
        "\n"
      ]
    },
    {
      "cell_type": "code",
      "metadata": {
        "id": "3ntDxrjBy6e-"
      },
      "source": [
        "train_file = './human-activity-recognition-with-smartphones/train.csv'\n",
        "test_file = './human-activity-recognition-with-smartphones/test.csv'"
      ],
      "execution_count": null,
      "outputs": []
    },
    {
      "cell_type": "markdown",
      "metadata": {
        "id": "zArvSI96_icR"
      },
      "source": [
        "#      "
      ]
    },
    {
      "cell_type": "code",
      "metadata": {
        "colab": {
          "base_uri": "https://localhost:8080/",
          "height": 470
        },
        "id": "SOAYFgrMzojF",
        "outputId": "a2a7aef5-d4a2-45bf-9ece-52cef7ecbf6c"
      },
      "source": [
        "train_df = pd.read_csv(train_file)\n",
        "train_df"
      ],
      "execution_count": null,
      "outputs": [
        {
          "data": {
            "text/html": [
              "<div>\n",
              "<style scoped>\n",
              "    .dataframe tbody tr th:only-of-type {\n",
              "        vertical-align: middle;\n",
              "    }\n",
              "\n",
              "    .dataframe tbody tr th {\n",
              "        vertical-align: top;\n",
              "    }\n",
              "\n",
              "    .dataframe thead th {\n",
              "        text-align: right;\n",
              "    }\n",
              "</style>\n",
              "<table border=\"1\" class=\"dataframe\">\n",
              "  <thead>\n",
              "    <tr style=\"text-align: right;\">\n",
              "      <th></th>\n",
              "      <th>tBodyAcc-mean()-X</th>\n",
              "      <th>tBodyAcc-mean()-Y</th>\n",
              "      <th>tBodyAcc-mean()-Z</th>\n",
              "      <th>tBodyAcc-std()-X</th>\n",
              "      <th>tBodyAcc-std()-Y</th>\n",
              "      <th>tBodyAcc-std()-Z</th>\n",
              "      <th>tBodyAcc-mad()-X</th>\n",
              "      <th>tBodyAcc-mad()-Y</th>\n",
              "      <th>tBodyAcc-mad()-Z</th>\n",
              "      <th>tBodyAcc-max()-X</th>\n",
              "      <th>tBodyAcc-max()-Y</th>\n",
              "      <th>tBodyAcc-max()-Z</th>\n",
              "      <th>tBodyAcc-min()-X</th>\n",
              "      <th>tBodyAcc-min()-Y</th>\n",
              "      <th>tBodyAcc-min()-Z</th>\n",
              "      <th>tBodyAcc-sma()</th>\n",
              "      <th>tBodyAcc-energy()-X</th>\n",
              "      <th>tBodyAcc-energy()-Y</th>\n",
              "      <th>tBodyAcc-energy()-Z</th>\n",
              "      <th>tBodyAcc-iqr()-X</th>\n",
              "      <th>tBodyAcc-iqr()-Y</th>\n",
              "      <th>tBodyAcc-iqr()-Z</th>\n",
              "      <th>tBodyAcc-entropy()-X</th>\n",
              "      <th>tBodyAcc-entropy()-Y</th>\n",
              "      <th>tBodyAcc-entropy()-Z</th>\n",
              "      <th>tBodyAcc-arCoeff()-X,1</th>\n",
              "      <th>tBodyAcc-arCoeff()-X,2</th>\n",
              "      <th>tBodyAcc-arCoeff()-X,3</th>\n",
              "      <th>tBodyAcc-arCoeff()-X,4</th>\n",
              "      <th>tBodyAcc-arCoeff()-Y,1</th>\n",
              "      <th>tBodyAcc-arCoeff()-Y,2</th>\n",
              "      <th>tBodyAcc-arCoeff()-Y,3</th>\n",
              "      <th>tBodyAcc-arCoeff()-Y,4</th>\n",
              "      <th>tBodyAcc-arCoeff()-Z,1</th>\n",
              "      <th>tBodyAcc-arCoeff()-Z,2</th>\n",
              "      <th>tBodyAcc-arCoeff()-Z,3</th>\n",
              "      <th>tBodyAcc-arCoeff()-Z,4</th>\n",
              "      <th>tBodyAcc-correlation()-X,Y</th>\n",
              "      <th>tBodyAcc-correlation()-X,Z</th>\n",
              "      <th>tBodyAcc-correlation()-Y,Z</th>\n",
              "      <th>...</th>\n",
              "      <th>fBodyBodyAccJerkMag-entropy()</th>\n",
              "      <th>fBodyBodyAccJerkMag-maxInds</th>\n",
              "      <th>fBodyBodyAccJerkMag-meanFreq()</th>\n",
              "      <th>fBodyBodyAccJerkMag-skewness()</th>\n",
              "      <th>fBodyBodyAccJerkMag-kurtosis()</th>\n",
              "      <th>fBodyBodyGyroMag-mean()</th>\n",
              "      <th>fBodyBodyGyroMag-std()</th>\n",
              "      <th>fBodyBodyGyroMag-mad()</th>\n",
              "      <th>fBodyBodyGyroMag-max()</th>\n",
              "      <th>fBodyBodyGyroMag-min()</th>\n",
              "      <th>fBodyBodyGyroMag-sma()</th>\n",
              "      <th>fBodyBodyGyroMag-energy()</th>\n",
              "      <th>fBodyBodyGyroMag-iqr()</th>\n",
              "      <th>fBodyBodyGyroMag-entropy()</th>\n",
              "      <th>fBodyBodyGyroMag-maxInds</th>\n",
              "      <th>fBodyBodyGyroMag-meanFreq()</th>\n",
              "      <th>fBodyBodyGyroMag-skewness()</th>\n",
              "      <th>fBodyBodyGyroMag-kurtosis()</th>\n",
              "      <th>fBodyBodyGyroJerkMag-mean()</th>\n",
              "      <th>fBodyBodyGyroJerkMag-std()</th>\n",
              "      <th>fBodyBodyGyroJerkMag-mad()</th>\n",
              "      <th>fBodyBodyGyroJerkMag-max()</th>\n",
              "      <th>fBodyBodyGyroJerkMag-min()</th>\n",
              "      <th>fBodyBodyGyroJerkMag-sma()</th>\n",
              "      <th>fBodyBodyGyroJerkMag-energy()</th>\n",
              "      <th>fBodyBodyGyroJerkMag-iqr()</th>\n",
              "      <th>fBodyBodyGyroJerkMag-entropy()</th>\n",
              "      <th>fBodyBodyGyroJerkMag-maxInds</th>\n",
              "      <th>fBodyBodyGyroJerkMag-meanFreq()</th>\n",
              "      <th>fBodyBodyGyroJerkMag-skewness()</th>\n",
              "      <th>fBodyBodyGyroJerkMag-kurtosis()</th>\n",
              "      <th>angle(tBodyAccMean,gravity)</th>\n",
              "      <th>angle(tBodyAccJerkMean),gravityMean)</th>\n",
              "      <th>angle(tBodyGyroMean,gravityMean)</th>\n",
              "      <th>angle(tBodyGyroJerkMean,gravityMean)</th>\n",
              "      <th>angle(X,gravityMean)</th>\n",
              "      <th>angle(Y,gravityMean)</th>\n",
              "      <th>angle(Z,gravityMean)</th>\n",
              "      <th>subject</th>\n",
              "      <th>Activity</th>\n",
              "    </tr>\n",
              "  </thead>\n",
              "  <tbody>\n",
              "    <tr>\n",
              "      <th>0</th>\n",
              "      <td>0.288585</td>\n",
              "      <td>-0.020294</td>\n",
              "      <td>-0.132905</td>\n",
              "      <td>-0.995279</td>\n",
              "      <td>-0.983111</td>\n",
              "      <td>-0.913526</td>\n",
              "      <td>-0.995112</td>\n",
              "      <td>-0.983185</td>\n",
              "      <td>-0.923527</td>\n",
              "      <td>-0.934724</td>\n",
              "      <td>-0.567378</td>\n",
              "      <td>-0.744413</td>\n",
              "      <td>0.852947</td>\n",
              "      <td>0.685845</td>\n",
              "      <td>0.814263</td>\n",
              "      <td>-0.965523</td>\n",
              "      <td>-0.999945</td>\n",
              "      <td>-0.999863</td>\n",
              "      <td>-0.994612</td>\n",
              "      <td>-0.994231</td>\n",
              "      <td>-0.987614</td>\n",
              "      <td>-0.943220</td>\n",
              "      <td>-0.407747</td>\n",
              "      <td>-0.679338</td>\n",
              "      <td>-0.602122</td>\n",
              "      <td>0.929294</td>\n",
              "      <td>-0.853011</td>\n",
              "      <td>0.359910</td>\n",
              "      <td>-0.058526</td>\n",
              "      <td>0.256892</td>\n",
              "      <td>-0.224848</td>\n",
              "      <td>0.264106</td>\n",
              "      <td>-0.095246</td>\n",
              "      <td>0.278851</td>\n",
              "      <td>-0.465085</td>\n",
              "      <td>0.491936</td>\n",
              "      <td>-0.190884</td>\n",
              "      <td>0.376314</td>\n",
              "      <td>0.435129</td>\n",
              "      <td>0.660790</td>\n",
              "      <td>...</td>\n",
              "      <td>-1.000000</td>\n",
              "      <td>-0.936508</td>\n",
              "      <td>0.346989</td>\n",
              "      <td>-0.516080</td>\n",
              "      <td>-0.802760</td>\n",
              "      <td>-0.980135</td>\n",
              "      <td>-0.961309</td>\n",
              "      <td>-0.973653</td>\n",
              "      <td>-0.952264</td>\n",
              "      <td>-0.989498</td>\n",
              "      <td>-0.980135</td>\n",
              "      <td>-0.999240</td>\n",
              "      <td>-0.992656</td>\n",
              "      <td>-0.701291</td>\n",
              "      <td>-1.000000</td>\n",
              "      <td>-0.128989</td>\n",
              "      <td>0.586156</td>\n",
              "      <td>0.374605</td>\n",
              "      <td>-0.991990</td>\n",
              "      <td>-0.990697</td>\n",
              "      <td>-0.989941</td>\n",
              "      <td>-0.992448</td>\n",
              "      <td>-0.991048</td>\n",
              "      <td>-0.991990</td>\n",
              "      <td>-0.999937</td>\n",
              "      <td>-0.990458</td>\n",
              "      <td>-0.871306</td>\n",
              "      <td>-1.000000</td>\n",
              "      <td>-0.074323</td>\n",
              "      <td>-0.298676</td>\n",
              "      <td>-0.710304</td>\n",
              "      <td>-0.112754</td>\n",
              "      <td>0.030400</td>\n",
              "      <td>-0.464761</td>\n",
              "      <td>-0.018446</td>\n",
              "      <td>-0.841247</td>\n",
              "      <td>0.179941</td>\n",
              "      <td>-0.058627</td>\n",
              "      <td>1</td>\n",
              "      <td>STANDING</td>\n",
              "    </tr>\n",
              "    <tr>\n",
              "      <th>1</th>\n",
              "      <td>0.278419</td>\n",
              "      <td>-0.016411</td>\n",
              "      <td>-0.123520</td>\n",
              "      <td>-0.998245</td>\n",
              "      <td>-0.975300</td>\n",
              "      <td>-0.960322</td>\n",
              "      <td>-0.998807</td>\n",
              "      <td>-0.974914</td>\n",
              "      <td>-0.957686</td>\n",
              "      <td>-0.943068</td>\n",
              "      <td>-0.557851</td>\n",
              "      <td>-0.818409</td>\n",
              "      <td>0.849308</td>\n",
              "      <td>0.685845</td>\n",
              "      <td>0.822637</td>\n",
              "      <td>-0.981930</td>\n",
              "      <td>-0.999991</td>\n",
              "      <td>-0.999788</td>\n",
              "      <td>-0.998405</td>\n",
              "      <td>-0.999150</td>\n",
              "      <td>-0.977866</td>\n",
              "      <td>-0.948225</td>\n",
              "      <td>-0.714892</td>\n",
              "      <td>-0.500930</td>\n",
              "      <td>-0.570979</td>\n",
              "      <td>0.611627</td>\n",
              "      <td>-0.329549</td>\n",
              "      <td>0.284213</td>\n",
              "      <td>0.284595</td>\n",
              "      <td>0.115705</td>\n",
              "      <td>-0.090963</td>\n",
              "      <td>0.294310</td>\n",
              "      <td>-0.281211</td>\n",
              "      <td>0.085988</td>\n",
              "      <td>-0.022153</td>\n",
              "      <td>-0.016657</td>\n",
              "      <td>-0.220643</td>\n",
              "      <td>-0.013429</td>\n",
              "      <td>-0.072692</td>\n",
              "      <td>0.579382</td>\n",
              "      <td>...</td>\n",
              "      <td>-1.000000</td>\n",
              "      <td>-0.841270</td>\n",
              "      <td>0.532061</td>\n",
              "      <td>-0.624871</td>\n",
              "      <td>-0.900160</td>\n",
              "      <td>-0.988296</td>\n",
              "      <td>-0.983322</td>\n",
              "      <td>-0.982659</td>\n",
              "      <td>-0.986321</td>\n",
              "      <td>-0.991829</td>\n",
              "      <td>-0.988296</td>\n",
              "      <td>-0.999811</td>\n",
              "      <td>-0.993979</td>\n",
              "      <td>-0.720683</td>\n",
              "      <td>-0.948718</td>\n",
              "      <td>-0.271958</td>\n",
              "      <td>-0.336310</td>\n",
              "      <td>-0.720015</td>\n",
              "      <td>-0.995854</td>\n",
              "      <td>-0.996399</td>\n",
              "      <td>-0.995442</td>\n",
              "      <td>-0.996866</td>\n",
              "      <td>-0.994440</td>\n",
              "      <td>-0.995854</td>\n",
              "      <td>-0.999981</td>\n",
              "      <td>-0.994544</td>\n",
              "      <td>-1.000000</td>\n",
              "      <td>-1.000000</td>\n",
              "      <td>0.158075</td>\n",
              "      <td>-0.595051</td>\n",
              "      <td>-0.861499</td>\n",
              "      <td>0.053477</td>\n",
              "      <td>-0.007435</td>\n",
              "      <td>-0.732626</td>\n",
              "      <td>0.703511</td>\n",
              "      <td>-0.844788</td>\n",
              "      <td>0.180289</td>\n",
              "      <td>-0.054317</td>\n",
              "      <td>1</td>\n",
              "      <td>STANDING</td>\n",
              "    </tr>\n",
              "    <tr>\n",
              "      <th>2</th>\n",
              "      <td>0.279653</td>\n",
              "      <td>-0.019467</td>\n",
              "      <td>-0.113462</td>\n",
              "      <td>-0.995380</td>\n",
              "      <td>-0.967187</td>\n",
              "      <td>-0.978944</td>\n",
              "      <td>-0.996520</td>\n",
              "      <td>-0.963668</td>\n",
              "      <td>-0.977469</td>\n",
              "      <td>-0.938692</td>\n",
              "      <td>-0.557851</td>\n",
              "      <td>-0.818409</td>\n",
              "      <td>0.843609</td>\n",
              "      <td>0.682401</td>\n",
              "      <td>0.839344</td>\n",
              "      <td>-0.983478</td>\n",
              "      <td>-0.999969</td>\n",
              "      <td>-0.999660</td>\n",
              "      <td>-0.999470</td>\n",
              "      <td>-0.997130</td>\n",
              "      <td>-0.964810</td>\n",
              "      <td>-0.974675</td>\n",
              "      <td>-0.592235</td>\n",
              "      <td>-0.485821</td>\n",
              "      <td>-0.570979</td>\n",
              "      <td>0.273025</td>\n",
              "      <td>-0.086309</td>\n",
              "      <td>0.337202</td>\n",
              "      <td>-0.164739</td>\n",
              "      <td>0.017150</td>\n",
              "      <td>-0.074507</td>\n",
              "      <td>0.342256</td>\n",
              "      <td>-0.332564</td>\n",
              "      <td>0.239281</td>\n",
              "      <td>-0.136204</td>\n",
              "      <td>0.173863</td>\n",
              "      <td>-0.299493</td>\n",
              "      <td>-0.124698</td>\n",
              "      <td>-0.181105</td>\n",
              "      <td>0.608900</td>\n",
              "      <td>...</td>\n",
              "      <td>-1.000000</td>\n",
              "      <td>-0.904762</td>\n",
              "      <td>0.660795</td>\n",
              "      <td>-0.724697</td>\n",
              "      <td>-0.928539</td>\n",
              "      <td>-0.989255</td>\n",
              "      <td>-0.986028</td>\n",
              "      <td>-0.984274</td>\n",
              "      <td>-0.990979</td>\n",
              "      <td>-0.995703</td>\n",
              "      <td>-0.989255</td>\n",
              "      <td>-0.999854</td>\n",
              "      <td>-0.993238</td>\n",
              "      <td>-0.736521</td>\n",
              "      <td>-0.794872</td>\n",
              "      <td>-0.212728</td>\n",
              "      <td>-0.535352</td>\n",
              "      <td>-0.871914</td>\n",
              "      <td>-0.995031</td>\n",
              "      <td>-0.995127</td>\n",
              "      <td>-0.994640</td>\n",
              "      <td>-0.996060</td>\n",
              "      <td>-0.995866</td>\n",
              "      <td>-0.995031</td>\n",
              "      <td>-0.999973</td>\n",
              "      <td>-0.993755</td>\n",
              "      <td>-1.000000</td>\n",
              "      <td>-0.555556</td>\n",
              "      <td>0.414503</td>\n",
              "      <td>-0.390748</td>\n",
              "      <td>-0.760104</td>\n",
              "      <td>-0.118559</td>\n",
              "      <td>0.177899</td>\n",
              "      <td>0.100699</td>\n",
              "      <td>0.808529</td>\n",
              "      <td>-0.848933</td>\n",
              "      <td>0.180637</td>\n",
              "      <td>-0.049118</td>\n",
              "      <td>1</td>\n",
              "      <td>STANDING</td>\n",
              "    </tr>\n",
              "    <tr>\n",
              "      <th>3</th>\n",
              "      <td>0.279174</td>\n",
              "      <td>-0.026201</td>\n",
              "      <td>-0.123283</td>\n",
              "      <td>-0.996091</td>\n",
              "      <td>-0.983403</td>\n",
              "      <td>-0.990675</td>\n",
              "      <td>-0.997099</td>\n",
              "      <td>-0.982750</td>\n",
              "      <td>-0.989302</td>\n",
              "      <td>-0.938692</td>\n",
              "      <td>-0.576159</td>\n",
              "      <td>-0.829711</td>\n",
              "      <td>0.843609</td>\n",
              "      <td>0.682401</td>\n",
              "      <td>0.837869</td>\n",
              "      <td>-0.986093</td>\n",
              "      <td>-0.999976</td>\n",
              "      <td>-0.999736</td>\n",
              "      <td>-0.999504</td>\n",
              "      <td>-0.997180</td>\n",
              "      <td>-0.983799</td>\n",
              "      <td>-0.986007</td>\n",
              "      <td>-0.627446</td>\n",
              "      <td>-0.850930</td>\n",
              "      <td>-0.911872</td>\n",
              "      <td>0.061436</td>\n",
              "      <td>0.074840</td>\n",
              "      <td>0.198204</td>\n",
              "      <td>-0.264307</td>\n",
              "      <td>0.072545</td>\n",
              "      <td>-0.155320</td>\n",
              "      <td>0.323154</td>\n",
              "      <td>-0.170813</td>\n",
              "      <td>0.294938</td>\n",
              "      <td>-0.306081</td>\n",
              "      <td>0.482148</td>\n",
              "      <td>-0.470129</td>\n",
              "      <td>-0.305693</td>\n",
              "      <td>-0.362654</td>\n",
              "      <td>0.507459</td>\n",
              "      <td>...</td>\n",
              "      <td>-1.000000</td>\n",
              "      <td>1.000000</td>\n",
              "      <td>0.678921</td>\n",
              "      <td>-0.701131</td>\n",
              "      <td>-0.909639</td>\n",
              "      <td>-0.989413</td>\n",
              "      <td>-0.987836</td>\n",
              "      <td>-0.986850</td>\n",
              "      <td>-0.986749</td>\n",
              "      <td>-0.996199</td>\n",
              "      <td>-0.989413</td>\n",
              "      <td>-0.999876</td>\n",
              "      <td>-0.989136</td>\n",
              "      <td>-0.720891</td>\n",
              "      <td>-1.000000</td>\n",
              "      <td>-0.035684</td>\n",
              "      <td>-0.230091</td>\n",
              "      <td>-0.511217</td>\n",
              "      <td>-0.995221</td>\n",
              "      <td>-0.995237</td>\n",
              "      <td>-0.995722</td>\n",
              "      <td>-0.995273</td>\n",
              "      <td>-0.995732</td>\n",
              "      <td>-0.995221</td>\n",
              "      <td>-0.999974</td>\n",
              "      <td>-0.995226</td>\n",
              "      <td>-0.955696</td>\n",
              "      <td>-0.936508</td>\n",
              "      <td>0.404573</td>\n",
              "      <td>-0.117290</td>\n",
              "      <td>-0.482845</td>\n",
              "      <td>-0.036788</td>\n",
              "      <td>-0.012892</td>\n",
              "      <td>0.640011</td>\n",
              "      <td>-0.485366</td>\n",
              "      <td>-0.848649</td>\n",
              "      <td>0.181935</td>\n",
              "      <td>-0.047663</td>\n",
              "      <td>1</td>\n",
              "      <td>STANDING</td>\n",
              "    </tr>\n",
              "    <tr>\n",
              "      <th>4</th>\n",
              "      <td>0.276629</td>\n",
              "      <td>-0.016570</td>\n",
              "      <td>-0.115362</td>\n",
              "      <td>-0.998139</td>\n",
              "      <td>-0.980817</td>\n",
              "      <td>-0.990482</td>\n",
              "      <td>-0.998321</td>\n",
              "      <td>-0.979672</td>\n",
              "      <td>-0.990441</td>\n",
              "      <td>-0.942469</td>\n",
              "      <td>-0.569174</td>\n",
              "      <td>-0.824705</td>\n",
              "      <td>0.849095</td>\n",
              "      <td>0.683250</td>\n",
              "      <td>0.837869</td>\n",
              "      <td>-0.992653</td>\n",
              "      <td>-0.999991</td>\n",
              "      <td>-0.999856</td>\n",
              "      <td>-0.999757</td>\n",
              "      <td>-0.998004</td>\n",
              "      <td>-0.981232</td>\n",
              "      <td>-0.991325</td>\n",
              "      <td>-0.786553</td>\n",
              "      <td>-0.559477</td>\n",
              "      <td>-0.761434</td>\n",
              "      <td>0.313276</td>\n",
              "      <td>-0.131208</td>\n",
              "      <td>0.191161</td>\n",
              "      <td>0.086904</td>\n",
              "      <td>0.257615</td>\n",
              "      <td>-0.272505</td>\n",
              "      <td>0.434728</td>\n",
              "      <td>-0.315375</td>\n",
              "      <td>0.439744</td>\n",
              "      <td>-0.269069</td>\n",
              "      <td>0.179414</td>\n",
              "      <td>-0.088952</td>\n",
              "      <td>-0.155804</td>\n",
              "      <td>-0.189763</td>\n",
              "      <td>0.599213</td>\n",
              "      <td>...</td>\n",
              "      <td>-1.000000</td>\n",
              "      <td>-1.000000</td>\n",
              "      <td>0.559058</td>\n",
              "      <td>-0.528901</td>\n",
              "      <td>-0.858933</td>\n",
              "      <td>-0.991433</td>\n",
              "      <td>-0.989059</td>\n",
              "      <td>-0.987744</td>\n",
              "      <td>-0.991462</td>\n",
              "      <td>-0.998353</td>\n",
              "      <td>-0.991433</td>\n",
              "      <td>-0.999902</td>\n",
              "      <td>-0.989321</td>\n",
              "      <td>-0.763372</td>\n",
              "      <td>-0.897436</td>\n",
              "      <td>-0.273582</td>\n",
              "      <td>-0.510282</td>\n",
              "      <td>-0.830702</td>\n",
              "      <td>-0.995093</td>\n",
              "      <td>-0.995465</td>\n",
              "      <td>-0.995279</td>\n",
              "      <td>-0.995609</td>\n",
              "      <td>-0.997418</td>\n",
              "      <td>-0.995093</td>\n",
              "      <td>-0.999974</td>\n",
              "      <td>-0.995487</td>\n",
              "      <td>-1.000000</td>\n",
              "      <td>-0.936508</td>\n",
              "      <td>0.087753</td>\n",
              "      <td>-0.351471</td>\n",
              "      <td>-0.699205</td>\n",
              "      <td>0.123320</td>\n",
              "      <td>0.122542</td>\n",
              "      <td>0.693578</td>\n",
              "      <td>-0.615971</td>\n",
              "      <td>-0.847865</td>\n",
              "      <td>0.185151</td>\n",
              "      <td>-0.043892</td>\n",
              "      <td>1</td>\n",
              "      <td>STANDING</td>\n",
              "    </tr>\n",
              "    <tr>\n",
              "      <th>...</th>\n",
              "      <td>...</td>\n",
              "      <td>...</td>\n",
              "      <td>...</td>\n",
              "      <td>...</td>\n",
              "      <td>...</td>\n",
              "      <td>...</td>\n",
              "      <td>...</td>\n",
              "      <td>...</td>\n",
              "      <td>...</td>\n",
              "      <td>...</td>\n",
              "      <td>...</td>\n",
              "      <td>...</td>\n",
              "      <td>...</td>\n",
              "      <td>...</td>\n",
              "      <td>...</td>\n",
              "      <td>...</td>\n",
              "      <td>...</td>\n",
              "      <td>...</td>\n",
              "      <td>...</td>\n",
              "      <td>...</td>\n",
              "      <td>...</td>\n",
              "      <td>...</td>\n",
              "      <td>...</td>\n",
              "      <td>...</td>\n",
              "      <td>...</td>\n",
              "      <td>...</td>\n",
              "      <td>...</td>\n",
              "      <td>...</td>\n",
              "      <td>...</td>\n",
              "      <td>...</td>\n",
              "      <td>...</td>\n",
              "      <td>...</td>\n",
              "      <td>...</td>\n",
              "      <td>...</td>\n",
              "      <td>...</td>\n",
              "      <td>...</td>\n",
              "      <td>...</td>\n",
              "      <td>...</td>\n",
              "      <td>...</td>\n",
              "      <td>...</td>\n",
              "      <td>...</td>\n",
              "      <td>...</td>\n",
              "      <td>...</td>\n",
              "      <td>...</td>\n",
              "      <td>...</td>\n",
              "      <td>...</td>\n",
              "      <td>...</td>\n",
              "      <td>...</td>\n",
              "      <td>...</td>\n",
              "      <td>...</td>\n",
              "      <td>...</td>\n",
              "      <td>...</td>\n",
              "      <td>...</td>\n",
              "      <td>...</td>\n",
              "      <td>...</td>\n",
              "      <td>...</td>\n",
              "      <td>...</td>\n",
              "      <td>...</td>\n",
              "      <td>...</td>\n",
              "      <td>...</td>\n",
              "      <td>...</td>\n",
              "      <td>...</td>\n",
              "      <td>...</td>\n",
              "      <td>...</td>\n",
              "      <td>...</td>\n",
              "      <td>...</td>\n",
              "      <td>...</td>\n",
              "      <td>...</td>\n",
              "      <td>...</td>\n",
              "      <td>...</td>\n",
              "      <td>...</td>\n",
              "      <td>...</td>\n",
              "      <td>...</td>\n",
              "      <td>...</td>\n",
              "      <td>...</td>\n",
              "      <td>...</td>\n",
              "      <td>...</td>\n",
              "      <td>...</td>\n",
              "      <td>...</td>\n",
              "      <td>...</td>\n",
              "      <td>...</td>\n",
              "    </tr>\n",
              "    <tr>\n",
              "      <th>7347</th>\n",
              "      <td>0.299665</td>\n",
              "      <td>-0.057193</td>\n",
              "      <td>-0.181233</td>\n",
              "      <td>-0.195387</td>\n",
              "      <td>0.039905</td>\n",
              "      <td>0.077078</td>\n",
              "      <td>-0.282301</td>\n",
              "      <td>0.043616</td>\n",
              "      <td>0.060410</td>\n",
              "      <td>0.210795</td>\n",
              "      <td>0.029369</td>\n",
              "      <td>-0.076700</td>\n",
              "      <td>0.273480</td>\n",
              "      <td>0.186626</td>\n",
              "      <td>0.266917</td>\n",
              "      <td>0.000698</td>\n",
              "      <td>-0.674986</td>\n",
              "      <td>-0.788077</td>\n",
              "      <td>-0.473463</td>\n",
              "      <td>-0.501092</td>\n",
              "      <td>-0.166197</td>\n",
              "      <td>0.034015</td>\n",
              "      <td>0.195643</td>\n",
              "      <td>0.140158</td>\n",
              "      <td>-0.082077</td>\n",
              "      <td>-0.561607</td>\n",
              "      <td>0.426433</td>\n",
              "      <td>-0.078255</td>\n",
              "      <td>-0.056751</td>\n",
              "      <td>-0.094106</td>\n",
              "      <td>0.099141</td>\n",
              "      <td>-0.119821</td>\n",
              "      <td>0.293112</td>\n",
              "      <td>-0.425386</td>\n",
              "      <td>0.267986</td>\n",
              "      <td>-0.205315</td>\n",
              "      <td>0.142117</td>\n",
              "      <td>-0.211822</td>\n",
              "      <td>-0.251582</td>\n",
              "      <td>-0.283335</td>\n",
              "      <td>...</td>\n",
              "      <td>0.354983</td>\n",
              "      <td>-0.904762</td>\n",
              "      <td>-0.066650</td>\n",
              "      <td>-0.076714</td>\n",
              "      <td>-0.426588</td>\n",
              "      <td>-0.332753</td>\n",
              "      <td>-0.129727</td>\n",
              "      <td>-0.128549</td>\n",
              "      <td>-0.251258</td>\n",
              "      <td>-0.995117</td>\n",
              "      <td>-0.332753</td>\n",
              "      <td>-0.605727</td>\n",
              "      <td>-0.292601</td>\n",
              "      <td>0.577573</td>\n",
              "      <td>-0.897436</td>\n",
              "      <td>-0.376234</td>\n",
              "      <td>-0.170845</td>\n",
              "      <td>-0.551898</td>\n",
              "      <td>-0.681097</td>\n",
              "      <td>-0.723951</td>\n",
              "      <td>-0.647418</td>\n",
              "      <td>-0.799450</td>\n",
              "      <td>-0.925241</td>\n",
              "      <td>-0.681097</td>\n",
              "      <td>-0.951092</td>\n",
              "      <td>-0.599074</td>\n",
              "      <td>0.310836</td>\n",
              "      <td>-0.904762</td>\n",
              "      <td>-0.070157</td>\n",
              "      <td>-0.588433</td>\n",
              "      <td>-0.880324</td>\n",
              "      <td>-0.190437</td>\n",
              "      <td>0.829718</td>\n",
              "      <td>0.206972</td>\n",
              "      <td>-0.425619</td>\n",
              "      <td>-0.791883</td>\n",
              "      <td>0.238604</td>\n",
              "      <td>0.049819</td>\n",
              "      <td>30</td>\n",
              "      <td>WALKING_UPSTAIRS</td>\n",
              "    </tr>\n",
              "    <tr>\n",
              "      <th>7348</th>\n",
              "      <td>0.273853</td>\n",
              "      <td>-0.007749</td>\n",
              "      <td>-0.147468</td>\n",
              "      <td>-0.235309</td>\n",
              "      <td>0.004816</td>\n",
              "      <td>0.059280</td>\n",
              "      <td>-0.322552</td>\n",
              "      <td>-0.029456</td>\n",
              "      <td>0.080585</td>\n",
              "      <td>0.117440</td>\n",
              "      <td>0.029369</td>\n",
              "      <td>-0.031966</td>\n",
              "      <td>0.282174</td>\n",
              "      <td>0.202880</td>\n",
              "      <td>0.266917</td>\n",
              "      <td>-0.041310</td>\n",
              "      <td>-0.706359</td>\n",
              "      <td>-0.804546</td>\n",
              "      <td>-0.495789</td>\n",
              "      <td>-0.520057</td>\n",
              "      <td>-0.279863</td>\n",
              "      <td>0.026565</td>\n",
              "      <td>0.178138</td>\n",
              "      <td>0.293566</td>\n",
              "      <td>-0.051532</td>\n",
              "      <td>-0.361660</td>\n",
              "      <td>0.149854</td>\n",
              "      <td>0.206839</td>\n",
              "      <td>-0.154722</td>\n",
              "      <td>0.032725</td>\n",
              "      <td>-0.057240</td>\n",
              "      <td>0.034260</td>\n",
              "      <td>0.239835</td>\n",
              "      <td>-0.364480</td>\n",
              "      <td>0.121335</td>\n",
              "      <td>0.188717</td>\n",
              "      <td>-0.207505</td>\n",
              "      <td>-0.198555</td>\n",
              "      <td>-0.225866</td>\n",
              "      <td>-0.274504</td>\n",
              "      <td>...</td>\n",
              "      <td>0.361739</td>\n",
              "      <td>-0.904762</td>\n",
              "      <td>-0.193946</td>\n",
              "      <td>-0.151879</td>\n",
              "      <td>-0.509448</td>\n",
              "      <td>-0.357992</td>\n",
              "      <td>-0.187114</td>\n",
              "      <td>-0.210320</td>\n",
              "      <td>-0.131733</td>\n",
              "      <td>-0.916112</td>\n",
              "      <td>-0.357992</td>\n",
              "      <td>-0.649987</td>\n",
              "      <td>-0.427577</td>\n",
              "      <td>0.620646</td>\n",
              "      <td>-0.846154</td>\n",
              "      <td>-0.296176</td>\n",
              "      <td>0.019626</td>\n",
              "      <td>-0.277183</td>\n",
              "      <td>-0.682756</td>\n",
              "      <td>-0.771183</td>\n",
              "      <td>-0.727039</td>\n",
              "      <td>-0.779350</td>\n",
              "      <td>-0.761880</td>\n",
              "      <td>-0.682756</td>\n",
              "      <td>-0.957032</td>\n",
              "      <td>-0.670062</td>\n",
              "      <td>0.207930</td>\n",
              "      <td>-0.904762</td>\n",
              "      <td>0.165259</td>\n",
              "      <td>-0.390738</td>\n",
              "      <td>-0.680744</td>\n",
              "      <td>0.064907</td>\n",
              "      <td>0.875679</td>\n",
              "      <td>-0.879033</td>\n",
              "      <td>0.400219</td>\n",
              "      <td>-0.771840</td>\n",
              "      <td>0.252676</td>\n",
              "      <td>0.050053</td>\n",
              "      <td>30</td>\n",
              "      <td>WALKING_UPSTAIRS</td>\n",
              "    </tr>\n",
              "    <tr>\n",
              "      <th>7349</th>\n",
              "      <td>0.273387</td>\n",
              "      <td>-0.017011</td>\n",
              "      <td>-0.045022</td>\n",
              "      <td>-0.218218</td>\n",
              "      <td>-0.103822</td>\n",
              "      <td>0.274533</td>\n",
              "      <td>-0.304515</td>\n",
              "      <td>-0.098913</td>\n",
              "      <td>0.332584</td>\n",
              "      <td>0.043999</td>\n",
              "      <td>-0.110405</td>\n",
              "      <td>0.055411</td>\n",
              "      <td>0.263175</td>\n",
              "      <td>0.202880</td>\n",
              "      <td>0.264670</td>\n",
              "      <td>0.008034</td>\n",
              "      <td>-0.693162</td>\n",
              "      <td>-0.844279</td>\n",
              "      <td>-0.271194</td>\n",
              "      <td>-0.488620</td>\n",
              "      <td>-0.250723</td>\n",
              "      <td>0.334376</td>\n",
              "      <td>0.173131</td>\n",
              "      <td>0.276040</td>\n",
              "      <td>0.152003</td>\n",
              "      <td>-0.376773</td>\n",
              "      <td>0.200784</td>\n",
              "      <td>0.063584</td>\n",
              "      <td>-0.017019</td>\n",
              "      <td>-0.004323</td>\n",
              "      <td>-0.023053</td>\n",
              "      <td>0.119962</td>\n",
              "      <td>0.080689</td>\n",
              "      <td>-0.420093</td>\n",
              "      <td>0.197763</td>\n",
              "      <td>-0.033780</td>\n",
              "      <td>0.016677</td>\n",
              "      <td>-0.226826</td>\n",
              "      <td>-0.184700</td>\n",
              "      <td>-0.198452</td>\n",
              "      <td>...</td>\n",
              "      <td>0.189903</td>\n",
              "      <td>-0.904762</td>\n",
              "      <td>0.007099</td>\n",
              "      <td>0.331457</td>\n",
              "      <td>0.083984</td>\n",
              "      <td>-0.351948</td>\n",
              "      <td>-0.032290</td>\n",
              "      <td>-0.193130</td>\n",
              "      <td>0.167388</td>\n",
              "      <td>-0.972099</td>\n",
              "      <td>-0.351948</td>\n",
              "      <td>-0.545002</td>\n",
              "      <td>-0.241789</td>\n",
              "      <td>0.584816</td>\n",
              "      <td>-0.846154</td>\n",
              "      <td>-0.320249</td>\n",
              "      <td>0.490169</td>\n",
              "      <td>0.313280</td>\n",
              "      <td>-0.685851</td>\n",
              "      <td>-0.726372</td>\n",
              "      <td>-0.724976</td>\n",
              "      <td>-0.709270</td>\n",
              "      <td>-0.692582</td>\n",
              "      <td>-0.685851</td>\n",
              "      <td>-0.952309</td>\n",
              "      <td>-0.696373</td>\n",
              "      <td>0.158936</td>\n",
              "      <td>-0.904762</td>\n",
              "      <td>0.195034</td>\n",
              "      <td>0.025145</td>\n",
              "      <td>-0.304029</td>\n",
              "      <td>0.052806</td>\n",
              "      <td>-0.266724</td>\n",
              "      <td>0.864404</td>\n",
              "      <td>0.701169</td>\n",
              "      <td>-0.779133</td>\n",
              "      <td>0.249145</td>\n",
              "      <td>0.040811</td>\n",
              "      <td>30</td>\n",
              "      <td>WALKING_UPSTAIRS</td>\n",
              "    </tr>\n",
              "    <tr>\n",
              "      <th>7350</th>\n",
              "      <td>0.289654</td>\n",
              "      <td>-0.018843</td>\n",
              "      <td>-0.158281</td>\n",
              "      <td>-0.219139</td>\n",
              "      <td>-0.111412</td>\n",
              "      <td>0.268893</td>\n",
              "      <td>-0.310487</td>\n",
              "      <td>-0.068200</td>\n",
              "      <td>0.319473</td>\n",
              "      <td>0.101702</td>\n",
              "      <td>-0.149495</td>\n",
              "      <td>0.055411</td>\n",
              "      <td>0.234850</td>\n",
              "      <td>0.237784</td>\n",
              "      <td>0.264670</td>\n",
              "      <td>0.020011</td>\n",
              "      <td>-0.693855</td>\n",
              "      <td>-0.846871</td>\n",
              "      <td>-0.279718</td>\n",
              "      <td>-0.488245</td>\n",
              "      <td>-0.196204</td>\n",
              "      <td>0.239455</td>\n",
              "      <td>0.160333</td>\n",
              "      <td>0.246561</td>\n",
              "      <td>0.021678</td>\n",
              "      <td>-0.475165</td>\n",
              "      <td>0.296546</td>\n",
              "      <td>0.009588</td>\n",
              "      <td>-0.038354</td>\n",
              "      <td>-0.277801</td>\n",
              "      <td>0.201032</td>\n",
              "      <td>0.101761</td>\n",
              "      <td>-0.108375</td>\n",
              "      <td>-0.438356</td>\n",
              "      <td>0.250837</td>\n",
              "      <td>-0.234309</td>\n",
              "      <td>0.232444</td>\n",
              "      <td>-0.257775</td>\n",
              "      <td>-0.231103</td>\n",
              "      <td>-0.189915</td>\n",
              "      <td>...</td>\n",
              "      <td>0.240644</td>\n",
              "      <td>-0.904762</td>\n",
              "      <td>-0.109902</td>\n",
              "      <td>0.038175</td>\n",
              "      <td>-0.305554</td>\n",
              "      <td>-0.415004</td>\n",
              "      <td>0.039199</td>\n",
              "      <td>-0.171131</td>\n",
              "      <td>0.115989</td>\n",
              "      <td>-0.959329</td>\n",
              "      <td>-0.415004</td>\n",
              "      <td>-0.510548</td>\n",
              "      <td>-0.513205</td>\n",
              "      <td>0.445207</td>\n",
              "      <td>-0.846154</td>\n",
              "      <td>-0.412332</td>\n",
              "      <td>0.308105</td>\n",
              "      <td>-0.042502</td>\n",
              "      <td>-0.712131</td>\n",
              "      <td>-0.689421</td>\n",
              "      <td>-0.702221</td>\n",
              "      <td>-0.694807</td>\n",
              "      <td>-0.886154</td>\n",
              "      <td>-0.712131</td>\n",
              "      <td>-0.951972</td>\n",
              "      <td>-0.760044</td>\n",
              "      <td>0.210070</td>\n",
              "      <td>-0.904762</td>\n",
              "      <td>0.013865</td>\n",
              "      <td>0.063907</td>\n",
              "      <td>-0.344314</td>\n",
              "      <td>-0.101360</td>\n",
              "      <td>0.700740</td>\n",
              "      <td>0.936674</td>\n",
              "      <td>-0.589479</td>\n",
              "      <td>-0.785181</td>\n",
              "      <td>0.246432</td>\n",
              "      <td>0.025339</td>\n",
              "      <td>30</td>\n",
              "      <td>WALKING_UPSTAIRS</td>\n",
              "    </tr>\n",
              "    <tr>\n",
              "      <th>7351</th>\n",
              "      <td>0.351503</td>\n",
              "      <td>-0.012423</td>\n",
              "      <td>-0.203867</td>\n",
              "      <td>-0.269270</td>\n",
              "      <td>-0.087212</td>\n",
              "      <td>0.177404</td>\n",
              "      <td>-0.377404</td>\n",
              "      <td>-0.038678</td>\n",
              "      <td>0.229430</td>\n",
              "      <td>0.269013</td>\n",
              "      <td>-0.147028</td>\n",
              "      <td>-0.133749</td>\n",
              "      <td>0.234850</td>\n",
              "      <td>0.237784</td>\n",
              "      <td>0.301579</td>\n",
              "      <td>-0.027958</td>\n",
              "      <td>-0.730624</td>\n",
              "      <td>-0.838478</td>\n",
              "      <td>-0.368309</td>\n",
              "      <td>-0.627128</td>\n",
              "      <td>-0.112288</td>\n",
              "      <td>0.262496</td>\n",
              "      <td>0.312180</td>\n",
              "      <td>0.333536</td>\n",
              "      <td>-0.099101</td>\n",
              "      <td>-0.442905</td>\n",
              "      <td>0.386497</td>\n",
              "      <td>-0.230562</td>\n",
              "      <td>0.139282</td>\n",
              "      <td>-0.446446</td>\n",
              "      <td>0.391569</td>\n",
              "      <td>-0.156435</td>\n",
              "      <td>0.097870</td>\n",
              "      <td>-0.405691</td>\n",
              "      <td>0.183340</td>\n",
              "      <td>-0.056556</td>\n",
              "      <td>0.054368</td>\n",
              "      <td>-0.266442</td>\n",
              "      <td>-0.291113</td>\n",
              "      <td>-0.200293</td>\n",
              "      <td>...</td>\n",
              "      <td>0.298694</td>\n",
              "      <td>-0.904762</td>\n",
              "      <td>-0.242448</td>\n",
              "      <td>-0.321950</td>\n",
              "      <td>-0.768542</td>\n",
              "      <td>-0.330780</td>\n",
              "      <td>-0.106002</td>\n",
              "      <td>-0.106450</td>\n",
              "      <td>-0.090538</td>\n",
              "      <td>-0.779153</td>\n",
              "      <td>-0.330780</td>\n",
              "      <td>-0.589429</td>\n",
              "      <td>-0.290645</td>\n",
              "      <td>0.436453</td>\n",
              "      <td>-0.846154</td>\n",
              "      <td>-0.389084</td>\n",
              "      <td>-0.057581</td>\n",
              "      <td>-0.387956</td>\n",
              "      <td>-0.715588</td>\n",
              "      <td>-0.745120</td>\n",
              "      <td>-0.697404</td>\n",
              "      <td>-0.783571</td>\n",
              "      <td>-0.758685</td>\n",
              "      <td>-0.715588</td>\n",
              "      <td>-0.959988</td>\n",
              "      <td>-0.677185</td>\n",
              "      <td>0.202026</td>\n",
              "      <td>-0.904762</td>\n",
              "      <td>-0.058402</td>\n",
              "      <td>-0.387052</td>\n",
              "      <td>-0.740738</td>\n",
              "      <td>-0.280088</td>\n",
              "      <td>-0.007739</td>\n",
              "      <td>-0.056088</td>\n",
              "      <td>-0.616956</td>\n",
              "      <td>-0.783267</td>\n",
              "      <td>0.246809</td>\n",
              "      <td>0.036695</td>\n",
              "      <td>30</td>\n",
              "      <td>WALKING_UPSTAIRS</td>\n",
              "    </tr>\n",
              "  </tbody>\n",
              "</table>\n",
              "<p>7352 rows × 563 columns</p>\n",
              "</div>"
            ],
            "text/plain": [
              "      tBodyAcc-mean()-X  tBodyAcc-mean()-Y  ...  subject          Activity\n",
              "0              0.288585          -0.020294  ...        1          STANDING\n",
              "1              0.278419          -0.016411  ...        1          STANDING\n",
              "2              0.279653          -0.019467  ...        1          STANDING\n",
              "3              0.279174          -0.026201  ...        1          STANDING\n",
              "4              0.276629          -0.016570  ...        1          STANDING\n",
              "...                 ...                ...  ...      ...               ...\n",
              "7347           0.299665          -0.057193  ...       30  WALKING_UPSTAIRS\n",
              "7348           0.273853          -0.007749  ...       30  WALKING_UPSTAIRS\n",
              "7349           0.273387          -0.017011  ...       30  WALKING_UPSTAIRS\n",
              "7350           0.289654          -0.018843  ...       30  WALKING_UPSTAIRS\n",
              "7351           0.351503          -0.012423  ...       30  WALKING_UPSTAIRS\n",
              "\n",
              "[7352 rows x 563 columns]"
            ]
          },
          "execution_count": 72,
          "metadata": {},
          "output_type": "execute_result"
        }
      ]
    },
    {
      "cell_type": "code",
      "metadata": {
        "colab": {
          "base_uri": "https://localhost:8080/",
          "height": 470
        },
        "id": "ggjTbuL030hs",
        "outputId": "ed0deeea-5bbc-45b2-92a5-e3738976d6df"
      },
      "source": [
        "test_df = pd.read_csv(test_file)\n",
        "test_df"
      ],
      "execution_count": null,
      "outputs": [
        {
          "data": {
            "text/html": [
              "<div>\n",
              "<style scoped>\n",
              "    .dataframe tbody tr th:only-of-type {\n",
              "        vertical-align: middle;\n",
              "    }\n",
              "\n",
              "    .dataframe tbody tr th {\n",
              "        vertical-align: top;\n",
              "    }\n",
              "\n",
              "    .dataframe thead th {\n",
              "        text-align: right;\n",
              "    }\n",
              "</style>\n",
              "<table border=\"1\" class=\"dataframe\">\n",
              "  <thead>\n",
              "    <tr style=\"text-align: right;\">\n",
              "      <th></th>\n",
              "      <th>tBodyAcc-mean()-X</th>\n",
              "      <th>tBodyAcc-mean()-Y</th>\n",
              "      <th>tBodyAcc-mean()-Z</th>\n",
              "      <th>tBodyAcc-std()-X</th>\n",
              "      <th>tBodyAcc-std()-Y</th>\n",
              "      <th>tBodyAcc-std()-Z</th>\n",
              "      <th>tBodyAcc-mad()-X</th>\n",
              "      <th>tBodyAcc-mad()-Y</th>\n",
              "      <th>tBodyAcc-mad()-Z</th>\n",
              "      <th>tBodyAcc-max()-X</th>\n",
              "      <th>tBodyAcc-max()-Y</th>\n",
              "      <th>tBodyAcc-max()-Z</th>\n",
              "      <th>tBodyAcc-min()-X</th>\n",
              "      <th>tBodyAcc-min()-Y</th>\n",
              "      <th>tBodyAcc-min()-Z</th>\n",
              "      <th>tBodyAcc-sma()</th>\n",
              "      <th>tBodyAcc-energy()-X</th>\n",
              "      <th>tBodyAcc-energy()-Y</th>\n",
              "      <th>tBodyAcc-energy()-Z</th>\n",
              "      <th>tBodyAcc-iqr()-X</th>\n",
              "      <th>tBodyAcc-iqr()-Y</th>\n",
              "      <th>tBodyAcc-iqr()-Z</th>\n",
              "      <th>tBodyAcc-entropy()-X</th>\n",
              "      <th>tBodyAcc-entropy()-Y</th>\n",
              "      <th>tBodyAcc-entropy()-Z</th>\n",
              "      <th>tBodyAcc-arCoeff()-X,1</th>\n",
              "      <th>tBodyAcc-arCoeff()-X,2</th>\n",
              "      <th>tBodyAcc-arCoeff()-X,3</th>\n",
              "      <th>tBodyAcc-arCoeff()-X,4</th>\n",
              "      <th>tBodyAcc-arCoeff()-Y,1</th>\n",
              "      <th>tBodyAcc-arCoeff()-Y,2</th>\n",
              "      <th>tBodyAcc-arCoeff()-Y,3</th>\n",
              "      <th>tBodyAcc-arCoeff()-Y,4</th>\n",
              "      <th>tBodyAcc-arCoeff()-Z,1</th>\n",
              "      <th>tBodyAcc-arCoeff()-Z,2</th>\n",
              "      <th>tBodyAcc-arCoeff()-Z,3</th>\n",
              "      <th>tBodyAcc-arCoeff()-Z,4</th>\n",
              "      <th>tBodyAcc-correlation()-X,Y</th>\n",
              "      <th>tBodyAcc-correlation()-X,Z</th>\n",
              "      <th>tBodyAcc-correlation()-Y,Z</th>\n",
              "      <th>...</th>\n",
              "      <th>fBodyBodyAccJerkMag-entropy()</th>\n",
              "      <th>fBodyBodyAccJerkMag-maxInds</th>\n",
              "      <th>fBodyBodyAccJerkMag-meanFreq()</th>\n",
              "      <th>fBodyBodyAccJerkMag-skewness()</th>\n",
              "      <th>fBodyBodyAccJerkMag-kurtosis()</th>\n",
              "      <th>fBodyBodyGyroMag-mean()</th>\n",
              "      <th>fBodyBodyGyroMag-std()</th>\n",
              "      <th>fBodyBodyGyroMag-mad()</th>\n",
              "      <th>fBodyBodyGyroMag-max()</th>\n",
              "      <th>fBodyBodyGyroMag-min()</th>\n",
              "      <th>fBodyBodyGyroMag-sma()</th>\n",
              "      <th>fBodyBodyGyroMag-energy()</th>\n",
              "      <th>fBodyBodyGyroMag-iqr()</th>\n",
              "      <th>fBodyBodyGyroMag-entropy()</th>\n",
              "      <th>fBodyBodyGyroMag-maxInds</th>\n",
              "      <th>fBodyBodyGyroMag-meanFreq()</th>\n",
              "      <th>fBodyBodyGyroMag-skewness()</th>\n",
              "      <th>fBodyBodyGyroMag-kurtosis()</th>\n",
              "      <th>fBodyBodyGyroJerkMag-mean()</th>\n",
              "      <th>fBodyBodyGyroJerkMag-std()</th>\n",
              "      <th>fBodyBodyGyroJerkMag-mad()</th>\n",
              "      <th>fBodyBodyGyroJerkMag-max()</th>\n",
              "      <th>fBodyBodyGyroJerkMag-min()</th>\n",
              "      <th>fBodyBodyGyroJerkMag-sma()</th>\n",
              "      <th>fBodyBodyGyroJerkMag-energy()</th>\n",
              "      <th>fBodyBodyGyroJerkMag-iqr()</th>\n",
              "      <th>fBodyBodyGyroJerkMag-entropy()</th>\n",
              "      <th>fBodyBodyGyroJerkMag-maxInds</th>\n",
              "      <th>fBodyBodyGyroJerkMag-meanFreq()</th>\n",
              "      <th>fBodyBodyGyroJerkMag-skewness()</th>\n",
              "      <th>fBodyBodyGyroJerkMag-kurtosis()</th>\n",
              "      <th>angle(tBodyAccMean,gravity)</th>\n",
              "      <th>angle(tBodyAccJerkMean),gravityMean)</th>\n",
              "      <th>angle(tBodyGyroMean,gravityMean)</th>\n",
              "      <th>angle(tBodyGyroJerkMean,gravityMean)</th>\n",
              "      <th>angle(X,gravityMean)</th>\n",
              "      <th>angle(Y,gravityMean)</th>\n",
              "      <th>angle(Z,gravityMean)</th>\n",
              "      <th>subject</th>\n",
              "      <th>Activity</th>\n",
              "    </tr>\n",
              "  </thead>\n",
              "  <tbody>\n",
              "    <tr>\n",
              "      <th>0</th>\n",
              "      <td>0.257178</td>\n",
              "      <td>-0.023285</td>\n",
              "      <td>-0.014654</td>\n",
              "      <td>-0.938404</td>\n",
              "      <td>-0.920091</td>\n",
              "      <td>-0.667683</td>\n",
              "      <td>-0.952501</td>\n",
              "      <td>-0.925249</td>\n",
              "      <td>-0.674302</td>\n",
              "      <td>-0.894088</td>\n",
              "      <td>-0.554577</td>\n",
              "      <td>-0.466223</td>\n",
              "      <td>0.717208</td>\n",
              "      <td>0.635502</td>\n",
              "      <td>0.789497</td>\n",
              "      <td>-0.877764</td>\n",
              "      <td>-0.997766</td>\n",
              "      <td>-0.998414</td>\n",
              "      <td>-0.934345</td>\n",
              "      <td>-0.975669</td>\n",
              "      <td>-0.949824</td>\n",
              "      <td>-0.830478</td>\n",
              "      <td>-0.168084</td>\n",
              "      <td>-0.378996</td>\n",
              "      <td>0.246217</td>\n",
              "      <td>0.521204</td>\n",
              "      <td>-0.487793</td>\n",
              "      <td>0.482280</td>\n",
              "      <td>-0.045462</td>\n",
              "      <td>0.211955</td>\n",
              "      <td>-0.134894</td>\n",
              "      <td>0.130858</td>\n",
              "      <td>-0.014176</td>\n",
              "      <td>-0.105971</td>\n",
              "      <td>0.073544</td>\n",
              "      <td>-0.171516</td>\n",
              "      <td>0.040063</td>\n",
              "      <td>0.076989</td>\n",
              "      <td>-0.490546</td>\n",
              "      <td>-0.709003</td>\n",
              "      <td>...</td>\n",
              "      <td>-0.484619</td>\n",
              "      <td>-1.000000</td>\n",
              "      <td>-0.035356</td>\n",
              "      <td>-0.254248</td>\n",
              "      <td>-0.700326</td>\n",
              "      <td>-0.770610</td>\n",
              "      <td>-0.797113</td>\n",
              "      <td>-0.764485</td>\n",
              "      <td>-0.820188</td>\n",
              "      <td>-0.937959</td>\n",
              "      <td>-0.770610</td>\n",
              "      <td>-0.970958</td>\n",
              "      <td>-0.798387</td>\n",
              "      <td>0.179435</td>\n",
              "      <td>-1.000000</td>\n",
              "      <td>-0.047391</td>\n",
              "      <td>-0.467849</td>\n",
              "      <td>-0.761326</td>\n",
              "      <td>-0.890165</td>\n",
              "      <td>-0.907308</td>\n",
              "      <td>-0.895301</td>\n",
              "      <td>-0.917883</td>\n",
              "      <td>-0.909829</td>\n",
              "      <td>-0.890165</td>\n",
              "      <td>-0.994105</td>\n",
              "      <td>-0.898022</td>\n",
              "      <td>-0.234815</td>\n",
              "      <td>-1.000000</td>\n",
              "      <td>0.071645</td>\n",
              "      <td>-0.330370</td>\n",
              "      <td>-0.705974</td>\n",
              "      <td>0.006462</td>\n",
              "      <td>0.162920</td>\n",
              "      <td>-0.825886</td>\n",
              "      <td>0.271151</td>\n",
              "      <td>-0.720009</td>\n",
              "      <td>0.276801</td>\n",
              "      <td>-0.057978</td>\n",
              "      <td>2</td>\n",
              "      <td>STANDING</td>\n",
              "    </tr>\n",
              "    <tr>\n",
              "      <th>1</th>\n",
              "      <td>0.286027</td>\n",
              "      <td>-0.013163</td>\n",
              "      <td>-0.119083</td>\n",
              "      <td>-0.975415</td>\n",
              "      <td>-0.967458</td>\n",
              "      <td>-0.944958</td>\n",
              "      <td>-0.986799</td>\n",
              "      <td>-0.968401</td>\n",
              "      <td>-0.945823</td>\n",
              "      <td>-0.894088</td>\n",
              "      <td>-0.554577</td>\n",
              "      <td>-0.806013</td>\n",
              "      <td>0.768031</td>\n",
              "      <td>0.683698</td>\n",
              "      <td>0.796706</td>\n",
              "      <td>-0.969097</td>\n",
              "      <td>-0.999580</td>\n",
              "      <td>-0.999646</td>\n",
              "      <td>-0.997720</td>\n",
              "      <td>-0.994006</td>\n",
              "      <td>-0.973637</td>\n",
              "      <td>-0.950720</td>\n",
              "      <td>-0.302437</td>\n",
              "      <td>-0.348243</td>\n",
              "      <td>-0.404785</td>\n",
              "      <td>0.507492</td>\n",
              "      <td>-0.156495</td>\n",
              "      <td>0.040674</td>\n",
              "      <td>0.272991</td>\n",
              "      <td>0.197566</td>\n",
              "      <td>-0.194556</td>\n",
              "      <td>0.411411</td>\n",
              "      <td>-0.340466</td>\n",
              "      <td>0.077555</td>\n",
              "      <td>-0.084024</td>\n",
              "      <td>0.035305</td>\n",
              "      <td>-0.010083</td>\n",
              "      <td>-0.104983</td>\n",
              "      <td>-0.429134</td>\n",
              "      <td>0.399177</td>\n",
              "      <td>...</td>\n",
              "      <td>-0.723642</td>\n",
              "      <td>-1.000000</td>\n",
              "      <td>-0.491213</td>\n",
              "      <td>-0.215404</td>\n",
              "      <td>-0.666004</td>\n",
              "      <td>-0.924461</td>\n",
              "      <td>-0.916774</td>\n",
              "      <td>-0.919383</td>\n",
              "      <td>-0.917983</td>\n",
              "      <td>-0.991121</td>\n",
              "      <td>-0.924461</td>\n",
              "      <td>-0.995727</td>\n",
              "      <td>-0.933127</td>\n",
              "      <td>-0.218860</td>\n",
              "      <td>-1.000000</td>\n",
              "      <td>-0.031474</td>\n",
              "      <td>-0.090655</td>\n",
              "      <td>-0.461801</td>\n",
              "      <td>-0.951977</td>\n",
              "      <td>-0.938212</td>\n",
              "      <td>-0.938008</td>\n",
              "      <td>-0.949922</td>\n",
              "      <td>-0.986902</td>\n",
              "      <td>-0.951977</td>\n",
              "      <td>-0.998272</td>\n",
              "      <td>-0.951255</td>\n",
              "      <td>-0.431053</td>\n",
              "      <td>-1.000000</td>\n",
              "      <td>-0.401189</td>\n",
              "      <td>-0.121845</td>\n",
              "      <td>-0.594944</td>\n",
              "      <td>-0.083495</td>\n",
              "      <td>0.017500</td>\n",
              "      <td>-0.434375</td>\n",
              "      <td>0.920593</td>\n",
              "      <td>-0.698091</td>\n",
              "      <td>0.281343</td>\n",
              "      <td>-0.083898</td>\n",
              "      <td>2</td>\n",
              "      <td>STANDING</td>\n",
              "    </tr>\n",
              "    <tr>\n",
              "      <th>2</th>\n",
              "      <td>0.275485</td>\n",
              "      <td>-0.026050</td>\n",
              "      <td>-0.118152</td>\n",
              "      <td>-0.993819</td>\n",
              "      <td>-0.969926</td>\n",
              "      <td>-0.962748</td>\n",
              "      <td>-0.994403</td>\n",
              "      <td>-0.970735</td>\n",
              "      <td>-0.963483</td>\n",
              "      <td>-0.939260</td>\n",
              "      <td>-0.568512</td>\n",
              "      <td>-0.799116</td>\n",
              "      <td>0.848305</td>\n",
              "      <td>0.667864</td>\n",
              "      <td>0.822442</td>\n",
              "      <td>-0.976782</td>\n",
              "      <td>-0.999954</td>\n",
              "      <td>-0.999570</td>\n",
              "      <td>-0.998720</td>\n",
              "      <td>-0.993456</td>\n",
              "      <td>-0.974266</td>\n",
              "      <td>-0.964976</td>\n",
              "      <td>-0.617916</td>\n",
              "      <td>-0.695490</td>\n",
              "      <td>-0.536693</td>\n",
              "      <td>0.242147</td>\n",
              "      <td>-0.114997</td>\n",
              "      <td>0.032703</td>\n",
              "      <td>0.192385</td>\n",
              "      <td>-0.011945</td>\n",
              "      <td>-0.063363</td>\n",
              "      <td>0.470819</td>\n",
              "      <td>-0.507395</td>\n",
              "      <td>0.188536</td>\n",
              "      <td>-0.231575</td>\n",
              "      <td>0.632120</td>\n",
              "      <td>-0.550708</td>\n",
              "      <td>0.305653</td>\n",
              "      <td>-0.323848</td>\n",
              "      <td>0.279786</td>\n",
              "      <td>...</td>\n",
              "      <td>-0.898000</td>\n",
              "      <td>-1.000000</td>\n",
              "      <td>0.140729</td>\n",
              "      <td>-0.206062</td>\n",
              "      <td>-0.639809</td>\n",
              "      <td>-0.975209</td>\n",
              "      <td>-0.973998</td>\n",
              "      <td>-0.967097</td>\n",
              "      <td>-0.982849</td>\n",
              "      <td>-0.997663</td>\n",
              "      <td>-0.975209</td>\n",
              "      <td>-0.999504</td>\n",
              "      <td>-0.968260</td>\n",
              "      <td>-0.561266</td>\n",
              "      <td>-0.897436</td>\n",
              "      <td>-0.168805</td>\n",
              "      <td>-0.662317</td>\n",
              "      <td>-0.925364</td>\n",
              "      <td>-0.985689</td>\n",
              "      <td>-0.983273</td>\n",
              "      <td>-0.983422</td>\n",
              "      <td>-0.986857</td>\n",
              "      <td>-0.989609</td>\n",
              "      <td>-0.985689</td>\n",
              "      <td>-0.999831</td>\n",
              "      <td>-0.986148</td>\n",
              "      <td>-0.809976</td>\n",
              "      <td>-0.936508</td>\n",
              "      <td>0.062891</td>\n",
              "      <td>-0.190422</td>\n",
              "      <td>-0.640736</td>\n",
              "      <td>-0.034956</td>\n",
              "      <td>0.202302</td>\n",
              "      <td>0.064103</td>\n",
              "      <td>0.145068</td>\n",
              "      <td>-0.702771</td>\n",
              "      <td>0.280083</td>\n",
              "      <td>-0.079346</td>\n",
              "      <td>2</td>\n",
              "      <td>STANDING</td>\n",
              "    </tr>\n",
              "    <tr>\n",
              "      <th>3</th>\n",
              "      <td>0.270298</td>\n",
              "      <td>-0.032614</td>\n",
              "      <td>-0.117520</td>\n",
              "      <td>-0.994743</td>\n",
              "      <td>-0.973268</td>\n",
              "      <td>-0.967091</td>\n",
              "      <td>-0.995274</td>\n",
              "      <td>-0.974471</td>\n",
              "      <td>-0.968897</td>\n",
              "      <td>-0.938610</td>\n",
              "      <td>-0.568512</td>\n",
              "      <td>-0.799116</td>\n",
              "      <td>0.848305</td>\n",
              "      <td>0.667864</td>\n",
              "      <td>0.822442</td>\n",
              "      <td>-0.974418</td>\n",
              "      <td>-0.999953</td>\n",
              "      <td>-0.999330</td>\n",
              "      <td>-0.998933</td>\n",
              "      <td>-0.995236</td>\n",
              "      <td>-0.978739</td>\n",
              "      <td>-0.969982</td>\n",
              "      <td>-0.749578</td>\n",
              "      <td>-0.899226</td>\n",
              "      <td>-0.553813</td>\n",
              "      <td>0.174684</td>\n",
              "      <td>-0.051332</td>\n",
              "      <td>0.034200</td>\n",
              "      <td>0.153639</td>\n",
              "      <td>0.030767</td>\n",
              "      <td>-0.129277</td>\n",
              "      <td>0.446100</td>\n",
              "      <td>-0.419496</td>\n",
              "      <td>0.271493</td>\n",
              "      <td>-0.225769</td>\n",
              "      <td>0.416376</td>\n",
              "      <td>-0.286445</td>\n",
              "      <td>-0.063792</td>\n",
              "      <td>-0.167111</td>\n",
              "      <td>0.544916</td>\n",
              "      <td>...</td>\n",
              "      <td>-1.000000</td>\n",
              "      <td>-0.968254</td>\n",
              "      <td>0.148649</td>\n",
              "      <td>-0.619905</td>\n",
              "      <td>-0.887178</td>\n",
              "      <td>-0.976297</td>\n",
              "      <td>-0.971248</td>\n",
              "      <td>-0.966029</td>\n",
              "      <td>-0.974878</td>\n",
              "      <td>-0.996129</td>\n",
              "      <td>-0.976297</td>\n",
              "      <td>-0.999458</td>\n",
              "      <td>-0.975174</td>\n",
              "      <td>-0.566733</td>\n",
              "      <td>-0.948718</td>\n",
              "      <td>-0.285636</td>\n",
              "      <td>-0.446478</td>\n",
              "      <td>-0.756855</td>\n",
              "      <td>-0.985562</td>\n",
              "      <td>-0.985843</td>\n",
              "      <td>-0.984217</td>\n",
              "      <td>-0.988566</td>\n",
              "      <td>-0.992021</td>\n",
              "      <td>-0.985562</td>\n",
              "      <td>-0.999850</td>\n",
              "      <td>-0.984015</td>\n",
              "      <td>-0.849081</td>\n",
              "      <td>-0.936508</td>\n",
              "      <td>0.116695</td>\n",
              "      <td>-0.344418</td>\n",
              "      <td>-0.736124</td>\n",
              "      <td>-0.017067</td>\n",
              "      <td>0.154438</td>\n",
              "      <td>0.340134</td>\n",
              "      <td>0.296407</td>\n",
              "      <td>-0.698954</td>\n",
              "      <td>0.284114</td>\n",
              "      <td>-0.077108</td>\n",
              "      <td>2</td>\n",
              "      <td>STANDING</td>\n",
              "    </tr>\n",
              "    <tr>\n",
              "      <th>4</th>\n",
              "      <td>0.274833</td>\n",
              "      <td>-0.027848</td>\n",
              "      <td>-0.129527</td>\n",
              "      <td>-0.993852</td>\n",
              "      <td>-0.967445</td>\n",
              "      <td>-0.978295</td>\n",
              "      <td>-0.994111</td>\n",
              "      <td>-0.965953</td>\n",
              "      <td>-0.977346</td>\n",
              "      <td>-0.938610</td>\n",
              "      <td>-0.560831</td>\n",
              "      <td>-0.825894</td>\n",
              "      <td>0.849179</td>\n",
              "      <td>0.670700</td>\n",
              "      <td>0.829897</td>\n",
              "      <td>-0.975283</td>\n",
              "      <td>-0.999954</td>\n",
              "      <td>-0.999467</td>\n",
              "      <td>-0.998823</td>\n",
              "      <td>-0.993498</td>\n",
              "      <td>-0.967032</td>\n",
              "      <td>-0.976257</td>\n",
              "      <td>-0.590576</td>\n",
              "      <td>-0.740206</td>\n",
              "      <td>-0.799419</td>\n",
              "      <td>0.115570</td>\n",
              "      <td>-0.028923</td>\n",
              "      <td>-0.032804</td>\n",
              "      <td>0.294340</td>\n",
              "      <td>0.000630</td>\n",
              "      <td>-0.045272</td>\n",
              "      <td>0.168419</td>\n",
              "      <td>-0.068156</td>\n",
              "      <td>0.074384</td>\n",
              "      <td>0.027138</td>\n",
              "      <td>-0.145931</td>\n",
              "      <td>-0.050197</td>\n",
              "      <td>0.235151</td>\n",
              "      <td>0.290487</td>\n",
              "      <td>0.457718</td>\n",
              "      <td>...</td>\n",
              "      <td>-1.000000</td>\n",
              "      <td>-0.809524</td>\n",
              "      <td>0.422249</td>\n",
              "      <td>-0.543096</td>\n",
              "      <td>-0.831313</td>\n",
              "      <td>-0.977007</td>\n",
              "      <td>-0.969619</td>\n",
              "      <td>-0.968915</td>\n",
              "      <td>-0.973746</td>\n",
              "      <td>-0.996970</td>\n",
              "      <td>-0.977007</td>\n",
              "      <td>-0.999429</td>\n",
              "      <td>-0.976111</td>\n",
              "      <td>-0.555564</td>\n",
              "      <td>-1.000000</td>\n",
              "      <td>-0.349061</td>\n",
              "      <td>-0.319763</td>\n",
              "      <td>-0.691739</td>\n",
              "      <td>-0.990498</td>\n",
              "      <td>-0.990572</td>\n",
              "      <td>-0.988406</td>\n",
              "      <td>-0.992653</td>\n",
              "      <td>-0.992505</td>\n",
              "      <td>-0.990498</td>\n",
              "      <td>-0.999925</td>\n",
              "      <td>-0.986376</td>\n",
              "      <td>-0.895847</td>\n",
              "      <td>-0.936508</td>\n",
              "      <td>-0.121711</td>\n",
              "      <td>-0.534685</td>\n",
              "      <td>-0.846595</td>\n",
              "      <td>-0.002223</td>\n",
              "      <td>-0.040046</td>\n",
              "      <td>0.736715</td>\n",
              "      <td>-0.118545</td>\n",
              "      <td>-0.692245</td>\n",
              "      <td>0.290722</td>\n",
              "      <td>-0.073857</td>\n",
              "      <td>2</td>\n",
              "      <td>STANDING</td>\n",
              "    </tr>\n",
              "    <tr>\n",
              "      <th>...</th>\n",
              "      <td>...</td>\n",
              "      <td>...</td>\n",
              "      <td>...</td>\n",
              "      <td>...</td>\n",
              "      <td>...</td>\n",
              "      <td>...</td>\n",
              "      <td>...</td>\n",
              "      <td>...</td>\n",
              "      <td>...</td>\n",
              "      <td>...</td>\n",
              "      <td>...</td>\n",
              "      <td>...</td>\n",
              "      <td>...</td>\n",
              "      <td>...</td>\n",
              "      <td>...</td>\n",
              "      <td>...</td>\n",
              "      <td>...</td>\n",
              "      <td>...</td>\n",
              "      <td>...</td>\n",
              "      <td>...</td>\n",
              "      <td>...</td>\n",
              "      <td>...</td>\n",
              "      <td>...</td>\n",
              "      <td>...</td>\n",
              "      <td>...</td>\n",
              "      <td>...</td>\n",
              "      <td>...</td>\n",
              "      <td>...</td>\n",
              "      <td>...</td>\n",
              "      <td>...</td>\n",
              "      <td>...</td>\n",
              "      <td>...</td>\n",
              "      <td>...</td>\n",
              "      <td>...</td>\n",
              "      <td>...</td>\n",
              "      <td>...</td>\n",
              "      <td>...</td>\n",
              "      <td>...</td>\n",
              "      <td>...</td>\n",
              "      <td>...</td>\n",
              "      <td>...</td>\n",
              "      <td>...</td>\n",
              "      <td>...</td>\n",
              "      <td>...</td>\n",
              "      <td>...</td>\n",
              "      <td>...</td>\n",
              "      <td>...</td>\n",
              "      <td>...</td>\n",
              "      <td>...</td>\n",
              "      <td>...</td>\n",
              "      <td>...</td>\n",
              "      <td>...</td>\n",
              "      <td>...</td>\n",
              "      <td>...</td>\n",
              "      <td>...</td>\n",
              "      <td>...</td>\n",
              "      <td>...</td>\n",
              "      <td>...</td>\n",
              "      <td>...</td>\n",
              "      <td>...</td>\n",
              "      <td>...</td>\n",
              "      <td>...</td>\n",
              "      <td>...</td>\n",
              "      <td>...</td>\n",
              "      <td>...</td>\n",
              "      <td>...</td>\n",
              "      <td>...</td>\n",
              "      <td>...</td>\n",
              "      <td>...</td>\n",
              "      <td>...</td>\n",
              "      <td>...</td>\n",
              "      <td>...</td>\n",
              "      <td>...</td>\n",
              "      <td>...</td>\n",
              "      <td>...</td>\n",
              "      <td>...</td>\n",
              "      <td>...</td>\n",
              "      <td>...</td>\n",
              "      <td>...</td>\n",
              "      <td>...</td>\n",
              "      <td>...</td>\n",
              "    </tr>\n",
              "    <tr>\n",
              "      <th>2942</th>\n",
              "      <td>0.310155</td>\n",
              "      <td>-0.053391</td>\n",
              "      <td>-0.099109</td>\n",
              "      <td>-0.287866</td>\n",
              "      <td>-0.140589</td>\n",
              "      <td>-0.215088</td>\n",
              "      <td>-0.356083</td>\n",
              "      <td>-0.148775</td>\n",
              "      <td>-0.232057</td>\n",
              "      <td>0.185361</td>\n",
              "      <td>-0.160309</td>\n",
              "      <td>-0.131106</td>\n",
              "      <td>0.354922</td>\n",
              "      <td>0.188452</td>\n",
              "      <td>0.362922</td>\n",
              "      <td>-0.197803</td>\n",
              "      <td>-0.744913</td>\n",
              "      <td>-0.854291</td>\n",
              "      <td>-0.721311</td>\n",
              "      <td>-0.567761</td>\n",
              "      <td>-0.368876</td>\n",
              "      <td>-0.277531</td>\n",
              "      <td>0.128951</td>\n",
              "      <td>0.250479</td>\n",
              "      <td>0.204483</td>\n",
              "      <td>-0.336571</td>\n",
              "      <td>0.119363</td>\n",
              "      <td>0.114556</td>\n",
              "      <td>0.069925</td>\n",
              "      <td>-0.225459</td>\n",
              "      <td>0.131274</td>\n",
              "      <td>0.013961</td>\n",
              "      <td>0.163305</td>\n",
              "      <td>-0.510918</td>\n",
              "      <td>0.525957</td>\n",
              "      <td>-0.467399</td>\n",
              "      <td>0.117754</td>\n",
              "      <td>-0.258908</td>\n",
              "      <td>-0.310537</td>\n",
              "      <td>-0.022682</td>\n",
              "      <td>...</td>\n",
              "      <td>0.214449</td>\n",
              "      <td>-0.904762</td>\n",
              "      <td>-0.110967</td>\n",
              "      <td>-0.157943</td>\n",
              "      <td>-0.583573</td>\n",
              "      <td>-0.477844</td>\n",
              "      <td>-0.571234</td>\n",
              "      <td>-0.515544</td>\n",
              "      <td>-0.605614</td>\n",
              "      <td>-0.861894</td>\n",
              "      <td>-0.477844</td>\n",
              "      <td>-0.862898</td>\n",
              "      <td>-0.498797</td>\n",
              "      <td>0.491522</td>\n",
              "      <td>-0.897436</td>\n",
              "      <td>0.093839</td>\n",
              "      <td>-0.410787</td>\n",
              "      <td>-0.711904</td>\n",
              "      <td>-0.601424</td>\n",
              "      <td>-0.618829</td>\n",
              "      <td>-0.558146</td>\n",
              "      <td>-0.698564</td>\n",
              "      <td>-0.770173</td>\n",
              "      <td>-0.601424</td>\n",
              "      <td>-0.917701</td>\n",
              "      <td>-0.536164</td>\n",
              "      <td>0.365783</td>\n",
              "      <td>-0.904762</td>\n",
              "      <td>0.074472</td>\n",
              "      <td>-0.376278</td>\n",
              "      <td>-0.750809</td>\n",
              "      <td>-0.337422</td>\n",
              "      <td>0.346295</td>\n",
              "      <td>0.884904</td>\n",
              "      <td>-0.698885</td>\n",
              "      <td>-0.651732</td>\n",
              "      <td>0.274627</td>\n",
              "      <td>0.184784</td>\n",
              "      <td>24</td>\n",
              "      <td>WALKING_UPSTAIRS</td>\n",
              "    </tr>\n",
              "    <tr>\n",
              "      <th>2943</th>\n",
              "      <td>0.363385</td>\n",
              "      <td>-0.039214</td>\n",
              "      <td>-0.105915</td>\n",
              "      <td>-0.305388</td>\n",
              "      <td>0.028148</td>\n",
              "      <td>-0.196373</td>\n",
              "      <td>-0.373540</td>\n",
              "      <td>-0.030036</td>\n",
              "      <td>-0.270237</td>\n",
              "      <td>0.185361</td>\n",
              "      <td>-0.035922</td>\n",
              "      <td>-0.131106</td>\n",
              "      <td>0.414650</td>\n",
              "      <td>-0.021580</td>\n",
              "      <td>0.218490</td>\n",
              "      <td>-0.186842</td>\n",
              "      <td>-0.755958</td>\n",
              "      <td>-0.794744</td>\n",
              "      <td>-0.708265</td>\n",
              "      <td>-0.549364</td>\n",
              "      <td>-0.353944</td>\n",
              "      <td>-0.386571</td>\n",
              "      <td>0.311991</td>\n",
              "      <td>0.277052</td>\n",
              "      <td>0.112971</td>\n",
              "      <td>-0.141648</td>\n",
              "      <td>-0.020623</td>\n",
              "      <td>0.124019</td>\n",
              "      <td>0.133963</td>\n",
              "      <td>-0.171622</td>\n",
              "      <td>0.087886</td>\n",
              "      <td>0.070093</td>\n",
              "      <td>0.085764</td>\n",
              "      <td>-0.416882</td>\n",
              "      <td>0.387530</td>\n",
              "      <td>-0.225698</td>\n",
              "      <td>-0.039828</td>\n",
              "      <td>-0.249325</td>\n",
              "      <td>-0.293864</td>\n",
              "      <td>0.031417</td>\n",
              "      <td>...</td>\n",
              "      <td>0.267662</td>\n",
              "      <td>-0.904762</td>\n",
              "      <td>0.125434</td>\n",
              "      <td>-0.223759</td>\n",
              "      <td>-0.689000</td>\n",
              "      <td>-0.491855</td>\n",
              "      <td>-0.556577</td>\n",
              "      <td>-0.525429</td>\n",
              "      <td>-0.664599</td>\n",
              "      <td>-0.682096</td>\n",
              "      <td>-0.491855</td>\n",
              "      <td>-0.861670</td>\n",
              "      <td>-0.639320</td>\n",
              "      <td>0.469640</td>\n",
              "      <td>-1.000000</td>\n",
              "      <td>0.092162</td>\n",
              "      <td>-0.449349</td>\n",
              "      <td>-0.795229</td>\n",
              "      <td>-0.566344</td>\n",
              "      <td>-0.592507</td>\n",
              "      <td>-0.530253</td>\n",
              "      <td>-0.662435</td>\n",
              "      <td>-0.947627</td>\n",
              "      <td>-0.566344</td>\n",
              "      <td>-0.904083</td>\n",
              "      <td>-0.534418</td>\n",
              "      <td>0.402907</td>\n",
              "      <td>-0.904762</td>\n",
              "      <td>0.101859</td>\n",
              "      <td>-0.320418</td>\n",
              "      <td>-0.700274</td>\n",
              "      <td>-0.736701</td>\n",
              "      <td>-0.372889</td>\n",
              "      <td>-0.657421</td>\n",
              "      <td>0.322549</td>\n",
              "      <td>-0.655181</td>\n",
              "      <td>0.273578</td>\n",
              "      <td>0.182412</td>\n",
              "      <td>24</td>\n",
              "      <td>WALKING_UPSTAIRS</td>\n",
              "    </tr>\n",
              "    <tr>\n",
              "      <th>2944</th>\n",
              "      <td>0.349966</td>\n",
              "      <td>0.030077</td>\n",
              "      <td>-0.115788</td>\n",
              "      <td>-0.329638</td>\n",
              "      <td>-0.042143</td>\n",
              "      <td>-0.250181</td>\n",
              "      <td>-0.388017</td>\n",
              "      <td>-0.133257</td>\n",
              "      <td>-0.347029</td>\n",
              "      <td>0.007471</td>\n",
              "      <td>-0.035922</td>\n",
              "      <td>-0.172677</td>\n",
              "      <td>0.402517</td>\n",
              "      <td>-0.021580</td>\n",
              "      <td>0.218490</td>\n",
              "      <td>-0.232233</td>\n",
              "      <td>-0.772925</td>\n",
              "      <td>-0.818344</td>\n",
              "      <td>-0.745217</td>\n",
              "      <td>-0.536007</td>\n",
              "      <td>-0.527129</td>\n",
              "      <td>-0.560587</td>\n",
              "      <td>0.342902</td>\n",
              "      <td>0.411568</td>\n",
              "      <td>0.167789</td>\n",
              "      <td>-0.093074</td>\n",
              "      <td>-0.146011</td>\n",
              "      <td>0.400424</td>\n",
              "      <td>-0.123618</td>\n",
              "      <td>-0.117599</td>\n",
              "      <td>0.006040</td>\n",
              "      <td>0.170446</td>\n",
              "      <td>0.047362</td>\n",
              "      <td>-0.204792</td>\n",
              "      <td>0.077011</td>\n",
              "      <td>0.291691</td>\n",
              "      <td>-0.347075</td>\n",
              "      <td>-0.351080</td>\n",
              "      <td>-0.417738</td>\n",
              "      <td>0.118835</td>\n",
              "      <td>...</td>\n",
              "      <td>0.239540</td>\n",
              "      <td>-0.904762</td>\n",
              "      <td>0.111669</td>\n",
              "      <td>0.182278</td>\n",
              "      <td>-0.095859</td>\n",
              "      <td>-0.601283</td>\n",
              "      <td>-0.563327</td>\n",
              "      <td>-0.557262</td>\n",
              "      <td>-0.619462</td>\n",
              "      <td>-0.807723</td>\n",
              "      <td>-0.601283</td>\n",
              "      <td>-0.888421</td>\n",
              "      <td>-0.708982</td>\n",
              "      <td>0.363492</td>\n",
              "      <td>-0.846154</td>\n",
              "      <td>-0.122065</td>\n",
              "      <td>-0.283911</td>\n",
              "      <td>-0.659556</td>\n",
              "      <td>-0.592331</td>\n",
              "      <td>-0.617948</td>\n",
              "      <td>-0.605500</td>\n",
              "      <td>-0.619598</td>\n",
              "      <td>-0.930426</td>\n",
              "      <td>-0.592331</td>\n",
              "      <td>-0.915349</td>\n",
              "      <td>-0.633343</td>\n",
              "      <td>0.364393</td>\n",
              "      <td>-0.904762</td>\n",
              "      <td>-0.066249</td>\n",
              "      <td>-0.118854</td>\n",
              "      <td>-0.467179</td>\n",
              "      <td>-0.181560</td>\n",
              "      <td>0.088574</td>\n",
              "      <td>0.696663</td>\n",
              "      <td>0.363139</td>\n",
              "      <td>-0.655357</td>\n",
              "      <td>0.274479</td>\n",
              "      <td>0.181184</td>\n",
              "      <td>24</td>\n",
              "      <td>WALKING_UPSTAIRS</td>\n",
              "    </tr>\n",
              "    <tr>\n",
              "      <th>2945</th>\n",
              "      <td>0.237594</td>\n",
              "      <td>0.018467</td>\n",
              "      <td>-0.096499</td>\n",
              "      <td>-0.323114</td>\n",
              "      <td>-0.229775</td>\n",
              "      <td>-0.207574</td>\n",
              "      <td>-0.392380</td>\n",
              "      <td>-0.279610</td>\n",
              "      <td>-0.289477</td>\n",
              "      <td>0.007471</td>\n",
              "      <td>-0.106078</td>\n",
              "      <td>-0.172677</td>\n",
              "      <td>0.357500</td>\n",
              "      <td>0.275632</td>\n",
              "      <td>0.246700</td>\n",
              "      <td>-0.251372</td>\n",
              "      <td>-0.769266</td>\n",
              "      <td>-0.882274</td>\n",
              "      <td>-0.715982</td>\n",
              "      <td>-0.561646</td>\n",
              "      <td>-0.545999</td>\n",
              "      <td>-0.551268</td>\n",
              "      <td>0.194918</td>\n",
              "      <td>0.383999</td>\n",
              "      <td>0.352585</td>\n",
              "      <td>-0.100123</td>\n",
              "      <td>-0.218944</td>\n",
              "      <td>0.541771</td>\n",
              "      <td>-0.204716</td>\n",
              "      <td>-0.133353</td>\n",
              "      <td>-0.032318</td>\n",
              "      <td>0.233641</td>\n",
              "      <td>0.047228</td>\n",
              "      <td>-0.208363</td>\n",
              "      <td>0.195608</td>\n",
              "      <td>-0.054894</td>\n",
              "      <td>-0.038834</td>\n",
              "      <td>-0.190791</td>\n",
              "      <td>-0.507067</td>\n",
              "      <td>0.122642</td>\n",
              "      <td>...</td>\n",
              "      <td>0.200361</td>\n",
              "      <td>-0.904762</td>\n",
              "      <td>-0.022033</td>\n",
              "      <td>0.049927</td>\n",
              "      <td>-0.311128</td>\n",
              "      <td>-0.638555</td>\n",
              "      <td>-0.565917</td>\n",
              "      <td>-0.561972</td>\n",
              "      <td>-0.626121</td>\n",
              "      <td>-0.918150</td>\n",
              "      <td>-0.638555</td>\n",
              "      <td>-0.896280</td>\n",
              "      <td>-0.703218</td>\n",
              "      <td>0.326637</td>\n",
              "      <td>-0.846154</td>\n",
              "      <td>-0.220897</td>\n",
              "      <td>-0.266982</td>\n",
              "      <td>-0.658132</td>\n",
              "      <td>-0.679711</td>\n",
              "      <td>-0.654960</td>\n",
              "      <td>-0.631239</td>\n",
              "      <td>-0.695836</td>\n",
              "      <td>-0.785712</td>\n",
              "      <td>-0.679711</td>\n",
              "      <td>-0.940736</td>\n",
              "      <td>-0.636292</td>\n",
              "      <td>0.238363</td>\n",
              "      <td>-0.904762</td>\n",
              "      <td>-0.046467</td>\n",
              "      <td>-0.205445</td>\n",
              "      <td>-0.617737</td>\n",
              "      <td>0.444558</td>\n",
              "      <td>-0.819188</td>\n",
              "      <td>0.929294</td>\n",
              "      <td>-0.008398</td>\n",
              "      <td>-0.659719</td>\n",
              "      <td>0.264782</td>\n",
              "      <td>0.187563</td>\n",
              "      <td>24</td>\n",
              "      <td>WALKING_UPSTAIRS</td>\n",
              "    </tr>\n",
              "    <tr>\n",
              "      <th>2946</th>\n",
              "      <td>0.153627</td>\n",
              "      <td>-0.018437</td>\n",
              "      <td>-0.137018</td>\n",
              "      <td>-0.330046</td>\n",
              "      <td>-0.195253</td>\n",
              "      <td>-0.164339</td>\n",
              "      <td>-0.430974</td>\n",
              "      <td>-0.218295</td>\n",
              "      <td>-0.229933</td>\n",
              "      <td>-0.111527</td>\n",
              "      <td>-0.078502</td>\n",
              "      <td>-0.163373</td>\n",
              "      <td>0.241857</td>\n",
              "      <td>0.168188</td>\n",
              "      <td>0.213778</td>\n",
              "      <td>-0.236150</td>\n",
              "      <td>-0.771160</td>\n",
              "      <td>-0.874113</td>\n",
              "      <td>-0.683822</td>\n",
              "      <td>-0.616286</td>\n",
              "      <td>-0.408888</td>\n",
              "      <td>-0.427172</td>\n",
              "      <td>0.028807</td>\n",
              "      <td>0.213367</td>\n",
              "      <td>0.260762</td>\n",
              "      <td>-0.260698</td>\n",
              "      <td>-0.052927</td>\n",
              "      <td>0.406554</td>\n",
              "      <td>-0.151102</td>\n",
              "      <td>-0.242816</td>\n",
              "      <td>0.021422</td>\n",
              "      <td>0.338025</td>\n",
              "      <td>-0.123040</td>\n",
              "      <td>-0.331906</td>\n",
              "      <td>0.298205</td>\n",
              "      <td>-0.001256</td>\n",
              "      <td>-0.179223</td>\n",
              "      <td>-0.080295</td>\n",
              "      <td>-0.522901</td>\n",
              "      <td>0.056253</td>\n",
              "      <td>...</td>\n",
              "      <td>0.234105</td>\n",
              "      <td>-0.904762</td>\n",
              "      <td>0.136257</td>\n",
              "      <td>-0.054515</td>\n",
              "      <td>-0.404297</td>\n",
              "      <td>-0.518640</td>\n",
              "      <td>-0.563947</td>\n",
              "      <td>-0.540954</td>\n",
              "      <td>-0.588064</td>\n",
              "      <td>-0.941227</td>\n",
              "      <td>-0.518640</td>\n",
              "      <td>-0.870644</td>\n",
              "      <td>-0.572266</td>\n",
              "      <td>0.492207</td>\n",
              "      <td>-0.846154</td>\n",
              "      <td>0.037595</td>\n",
              "      <td>-0.329078</td>\n",
              "      <td>-0.648504</td>\n",
              "      <td>-0.615991</td>\n",
              "      <td>-0.625207</td>\n",
              "      <td>-0.600041</td>\n",
              "      <td>-0.627018</td>\n",
              "      <td>-0.852277</td>\n",
              "      <td>-0.615991</td>\n",
              "      <td>-0.922248</td>\n",
              "      <td>-0.615746</td>\n",
              "      <td>0.333726</td>\n",
              "      <td>-0.904762</td>\n",
              "      <td>-0.010386</td>\n",
              "      <td>-0.072237</td>\n",
              "      <td>-0.436940</td>\n",
              "      <td>0.598808</td>\n",
              "      <td>-0.287951</td>\n",
              "      <td>0.876030</td>\n",
              "      <td>-0.024965</td>\n",
              "      <td>-0.660080</td>\n",
              "      <td>0.263936</td>\n",
              "      <td>0.188103</td>\n",
              "      <td>24</td>\n",
              "      <td>WALKING_UPSTAIRS</td>\n",
              "    </tr>\n",
              "  </tbody>\n",
              "</table>\n",
              "<p>2947 rows × 563 columns</p>\n",
              "</div>"
            ],
            "text/plain": [
              "      tBodyAcc-mean()-X  tBodyAcc-mean()-Y  ...  subject          Activity\n",
              "0              0.257178          -0.023285  ...        2          STANDING\n",
              "1              0.286027          -0.013163  ...        2          STANDING\n",
              "2              0.275485          -0.026050  ...        2          STANDING\n",
              "3              0.270298          -0.032614  ...        2          STANDING\n",
              "4              0.274833          -0.027848  ...        2          STANDING\n",
              "...                 ...                ...  ...      ...               ...\n",
              "2942           0.310155          -0.053391  ...       24  WALKING_UPSTAIRS\n",
              "2943           0.363385          -0.039214  ...       24  WALKING_UPSTAIRS\n",
              "2944           0.349966           0.030077  ...       24  WALKING_UPSTAIRS\n",
              "2945           0.237594           0.018467  ...       24  WALKING_UPSTAIRS\n",
              "2946           0.153627          -0.018437  ...       24  WALKING_UPSTAIRS\n",
              "\n",
              "[2947 rows x 563 columns]"
            ]
          },
          "execution_count": 73,
          "metadata": {},
          "output_type": "execute_result"
        }
      ]
    },
    {
      "cell_type": "markdown",
      "metadata": {
        "id": "9TMnjVli2kcF"
      },
      "source": [
        "#### From above data we can observe that acceleration, gravity measure are all done in 3 Dimension.\n"
      ]
    },
    {
      "cell_type": "markdown",
      "metadata": {
        "id": "MyL1KIAhRaNJ"
      },
      "source": [
        "#  \n"
      ]
    },
    {
      "cell_type": "code",
      "metadata": {
        "colab": {
          "base_uri": "https://localhost:8080/"
        },
        "id": "9XdK5PZ81DH3",
        "outputId": "5107cff2-2c59-4179-cdb9-50eca07e4bad"
      },
      "source": [
        "print(train_df.info())\n",
        "print()\n",
        "print(test_df.info())"
      ],
      "execution_count": null,
      "outputs": [
        {
          "name": "stdout",
          "output_type": "stream",
          "text": [
            "<class 'pandas.core.frame.DataFrame'>\n",
            "RangeIndex: 7352 entries, 0 to 7351\n",
            "Columns: 563 entries, tBodyAcc-mean()-X to Activity\n",
            "dtypes: float64(561), int64(1), object(1)\n",
            "memory usage: 31.6+ MB\n",
            "None\n",
            "\n",
            "<class 'pandas.core.frame.DataFrame'>\n",
            "RangeIndex: 2947 entries, 0 to 2946\n",
            "Columns: 563 entries, tBodyAcc-mean()-X to Activity\n",
            "dtypes: float64(561), int64(1), object(1)\n",
            "memory usage: 12.7+ MB\n",
            "None\n"
          ]
        }
      ]
    },
    {
      "cell_type": "markdown",
      "metadata": {
        "id": "WcXaaMPLdl3N"
      },
      "source": [
        "."
      ]
    },
    {
      "cell_type": "markdown",
      "metadata": {
        "id": "CSZJd1zFNusy"
      },
      "source": [
        "### LABEL assigning"
      ]
    },
    {
      "cell_type": "code",
      "metadata": {
        "id": "Ynociyx_2Zbz"
      },
      "source": [
        "def set_target(df) :\n",
        "  l = []\n",
        "  for x in df['Activity'] :\n",
        "    if x == 'WALKING' :\n",
        "      l.append(1)\n",
        "    elif x == 'WALKING_UPSTAIRS' :\n",
        "      l.append(2)\n",
        "    elif x == 'WALKING_DOWNSTAIRS' :\n",
        "      l.append(3)\n",
        "    elif x == 'SITTING' :\n",
        "      l.append(4)\n",
        "    elif x == 'STANDING' :\n",
        "      l.append(5)\n",
        "    else :\n",
        "      l.append(6)\n",
        "  return l"
      ],
      "execution_count": null,
      "outputs": []
    },
    {
      "cell_type": "code",
      "metadata": {
        "id": "6lvc18MZ2Yjx"
      },
      "source": [
        "train_df['target'] = set_target(train_df)\n",
        "test_df['target'] = set_target(test_df)"
      ],
      "execution_count": null,
      "outputs": []
    },
    {
      "cell_type": "markdown",
      "metadata": {
        "id": "alYPCdVWd4WI"
      },
      "source": [
        "."
      ]
    },
    {
      "cell_type": "markdown",
      "metadata": {
        "id": "4YfUEBtodbaw"
      },
      "source": [
        "###For data cleaning, Finding missing outliers and k-fold. It is easy to have merged data."
      ]
    },
    {
      "cell_type": "code",
      "metadata": {
        "id": "TGiiH7TbdUkl"
      },
      "source": [
        "df = pd.concat([train_df,test_df])"
      ],
      "execution_count": null,
      "outputs": []
    },
    {
      "cell_type": "markdown",
      "metadata": {
        "id": "H2ipYAiCSc2R"
      },
      "source": [
        "."
      ]
    },
    {
      "cell_type": "markdown",
      "metadata": {
        "id": "OYmh-DJdSSbO"
      },
      "source": [
        "### Co-relation for eliminating unnecessary columns"
      ]
    },
    {
      "cell_type": "code",
      "metadata": {
        "colab": {
          "base_uri": "https://localhost:8080/"
        },
        "id": "9zETcUYNSRqw",
        "outputId": "1859ac04-d851-4a21-8950-f824e6e989d2"
      },
      "source": [
        "train_df.corr()['target']"
      ],
      "execution_count": null,
      "outputs": [
        {
          "data": {
            "text/plain": [
              "tBodyAcc-mean()-X      -0.001508\n",
              "tBodyAcc-mean()-Y       0.035346\n",
              "tBodyAcc-mean()-Z       0.038644\n",
              "tBodyAcc-std()-X       -0.721896\n",
              "tBodyAcc-std()-Y       -0.816971\n",
              "                          ...   \n",
              "angle(X,gravityMean)    0.612318\n",
              "angle(Y,gravityMean)   -0.632656\n",
              "angle(Z,gravityMean)   -0.538593\n",
              "subject                 0.057717\n",
              "target                  1.000000\n",
              "Name: target, Length: 563, dtype: float64"
            ]
          },
          "execution_count": 78,
          "metadata": {},
          "output_type": "execute_result"
        }
      ]
    },
    {
      "cell_type": "markdown",
      "metadata": {
        "id": "mbB3EAtySzn-"
      },
      "source": [
        ".\n",
        "##### The above co-relation is not sufficient enough to eliminate columns. So, we need to do it manually."
      ]
    },
    {
      "cell_type": "code",
      "metadata": {
        "id": "W_3nFaN5kkXE"
      },
      "source": [
        "features = ['tBodyAcc-mean()-X','tBodyAcc-mean()-Y','tBodyAcc-mean()-Y','tBodyAcc-mean()-Z','tBodyAcc-std()-X','tBodyAcc-std()-Y',\n",
        " 'tBodyAcc-std()-Z','fBodyAcc-mean()-X','fBodyAcc-mean()-Y','fBodyAcc-mean()-Z','fBodyAcc-std()-X', 'fBodyAcc-std()-Y', \n",
        " 'fBodyAcc-std()-Z','angle(tBodyAccMean,gravity)','angle(tBodyAccJerkMean),gravityMean)','angle(tBodyGyroMean,gravityMean)',\n",
        " 'angle(tBodyGyroJerkMean,gravityMean)','angle(X,gravityMean)','angle(Y,gravityMean)','angle(Z,gravityMean)']"
      ],
      "execution_count": null,
      "outputs": []
    },
    {
      "cell_type": "markdown",
      "metadata": {
        "id": "pSoRpgXZAuL7"
      },
      "source": [
        "#                      "
      ]
    },
    {
      "cell_type": "code",
      "metadata": {
        "id": "BLXa86n40nSr"
      },
      "source": [
        "X = train_df[features]\n",
        "y = train_df['target']\n",
        "X_test = test_df[features]\n",
        "y_test = test_df['target']\n"
      ],
      "execution_count": null,
      "outputs": []
    },
    {
      "cell_type": "markdown",
      "metadata": {
        "id": "lZHUiZJ6gBt_"
      },
      "source": [
        "<p align='center'><b><font size=\"+3\" face='arial'>Data Analysis</font></p>"
      ]
    },
    {
      "cell_type": "markdown",
      "metadata": {
        "id": "fi-m32UYUPLU"
      },
      "source": [
        "."
      ]
    },
    {
      "cell_type": "markdown",
      "metadata": {
        "id": "UN1nFnpe9PnL"
      },
      "source": [
        "##Missing Data\n",
        "\n",
        "checking if there is any Nan value in dataset"
      ]
    },
    {
      "cell_type": "code",
      "metadata": {
        "colab": {
          "base_uri": "https://localhost:8080/"
        },
        "id": "kP1ZUOj_1ZhG",
        "outputId": "e6dfd3aa-5629-4174-bc39-8579c405adf5"
      },
      "source": [
        "[x for x in train_df if train_df.isna == True]"
      ],
      "execution_count": null,
      "outputs": [
        {
          "data": {
            "text/plain": [
              "[]"
            ]
          },
          "execution_count": 81,
          "metadata": {},
          "output_type": "execute_result"
        }
      ]
    },
    {
      "cell_type": "code",
      "metadata": {
        "colab": {
          "base_uri": "https://localhost:8080/"
        },
        "id": "fQOVDEqGjJOR",
        "outputId": "8ebac240-cb4a-4f19-9645-e3a9d3784a1f"
      },
      "source": [
        "[x for x in test_df if test_df.isna == True]"
      ],
      "execution_count": null,
      "outputs": [
        {
          "data": {
            "text/plain": [
              "[]"
            ]
          },
          "execution_count": 82,
          "metadata": {},
          "output_type": "execute_result"
        }
      ]
    },
    {
      "cell_type": "code",
      "metadata": {
        "colab": {
          "base_uri": "https://localhost:8080/"
        },
        "id": "tQ-Q_V6Q48iH",
        "outputId": "59369753-5ec8-4803-fa38-aed5549ed95b"
      },
      "source": [
        "y_train=train_df.iloc[:,-2]\n",
        "Category_count=np.array(y_train.value_counts())\n",
        "activity=sorted(y_train.unique())\n",
        "activity\n"
      ],
      "execution_count": null,
      "outputs": [
        {
          "data": {
            "text/plain": [
              "['LAYING',\n",
              " 'SITTING',\n",
              " 'STANDING',\n",
              " 'WALKING',\n",
              " 'WALKING_DOWNSTAIRS',\n",
              " 'WALKING_UPSTAIRS']"
            ]
          },
          "execution_count": 83,
          "metadata": {},
          "output_type": "execute_result"
        }
      ]
    },
    {
      "cell_type": "markdown",
      "metadata": {
        "id": "FTRxkvr7Teuf"
      },
      "source": [
        "."
      ]
    },
    {
      "cell_type": "markdown",
      "metadata": {
        "id": "o158AFMoAwIa"
      },
      "source": [
        "## PLOT of percentage of activity in the training data sample"
      ]
    },
    {
      "cell_type": "code",
      "metadata": {
        "colab": {
          "base_uri": "https://localhost:8080/",
          "height": 674
        },
        "id": "uwh4rB935MDu",
        "outputId": "8bad760e-8d9f-4d5e-9c57-46b42c9fa249"
      },
      "source": [
        "plt.figure(figsize=(16,6))\n",
        "plt.pie(Category_count,labels=activity, autopct = '%0.2f')"
      ],
      "execution_count": null,
      "outputs": [
        {
          "data": {
            "text/plain": [
              "([<matplotlib.patches.Wedge at 0x7fd4c5fd80d0>,\n",
              "  <matplotlib.patches.Wedge at 0x7fd4c5ef6590>,\n",
              "  <matplotlib.patches.Wedge at 0x7fd4c5ef6e10>,\n",
              "  <matplotlib.patches.Wedge at 0x7fd4c5ee9750>,\n",
              "  <matplotlib.patches.Wedge at 0x7fd4c600c2d0>,\n",
              "  <matplotlib.patches.Wedge at 0x7fd4c600cc10>],\n",
              " [Text(0.9071064061014833, 0.6222201925441275, 'LAYING'),\n",
              "  Text(-0.23874635466468208, 1.073778458591122, 'SITTING'),\n",
              "  Text(-1.0745883152841482, 0.2350743555872831, 'STANDING'),\n",
              "  Text(-0.7193129027755119, -0.832219290752544, 'WALKING'),\n",
              "  Text(0.29301586483507763, -1.0602554894717366, 'WALKING_DOWNSTAIRS'),\n",
              "  Text(1.0038008332903794, -0.4498709671511826, 'WALKING_UPSTAIRS')],\n",
              " [Text(0.4947853124189908, 0.3393928322967968, '19.14'),\n",
              "  Text(-0.13022528436255384, 0.5856973410497028, '18.69'),\n",
              "  Text(-0.5861390810640807, 0.12822237577488166, '17.49'),\n",
              "  Text(-0.3923524924230064, -0.453937794955933, '16.68'),\n",
              "  Text(0.15982683536458778, -0.5783211760754926, '14.59'),\n",
              "  Text(0.5475277272492978, -0.24538416390064502, '13.41')])"
            ]
          },
          "execution_count": 84,
          "metadata": {},
          "output_type": "execute_result"
        },
        {
          "data": {
            "image/png": "[encoded data removed]",
            "text/plain": [
              "<Figure size 1152x432 with 1 Axes>"
            ]
          },
          "metadata": {},
          "output_type": "display_data"
        }
      ]
    },
    {
      "cell_type": "markdown",
      "metadata": {
        "id": "-o2ieFh1BDpS"
      },
      "source": [
        "#                        "
      ]
    },
    {
      "cell_type": "markdown",
      "metadata": {
        "id": "43L5gmk4BFUr"
      },
      "source": [
        "###  Below data shows exact np of samples for each activity \n",
        "\n"
      ]
    },
    {
      "cell_type": "code",
      "metadata": {
        "colab": {
          "base_uri": "https://localhost:8080/",
          "height": 597
        },
        "id": "EEefRM3JAidW",
        "outputId": "29dbf7bb-a79a-42b6-eeb5-8c2b0140cc0b"
      },
      "source": [
        "fig = plt.figure(figsize = (10, 6))\n",
        "ax = fig.add_axes([0,0,1,1])\n",
        "ax.set_title(\"Count of each activity\", fontsize = 15)\n",
        "plt.tick_params(labelsize = 10)\n",
        "sns.countplot(x = \"Activity\", data = train_df)\n",
        "for i in ax.patches:\n",
        "    ax.text(x = i.get_x() + 0.2, y = i.get_height()+10, s = str(i.get_height()), fontsize = 20, color = \"grey\")\n",
        "plt.xlabel('')\n",
        "plt.ylabel(\"Count\", fontsize = 15)\n",
        "plt.tick_params(labelsize = 13)\n",
        "plt.xticks(rotation = 40)\n",
        "plt.show()"
      ],
      "execution_count": null,
      "outputs": [
        {
          "data": {
            "image/png": "[encoded data removed]",
            "text/plain": [
              "<Figure size 720x432 with 1 Axes>"
            ]
          },
          "metadata": {},
          "output_type": "display_data"
        }
      ]
    },
    {
      "cell_type": "markdown",
      "metadata": {
        "id": "iN4kwGXOBZaL"
      },
      "source": [
        "#### There is lesser amount of sample in case of person walking upstair and downstairs. As, the activity is possible in certain situation only (in case of stairs only.)"
      ]
    },
    {
      "cell_type": "markdown",
      "metadata": {
        "id": "QQiDfUswAAGI"
      },
      "source": [
        "#                          "
      ]
    },
    {
      "cell_type": "code",
      "metadata": {
        "colab": {
          "base_uri": "https://localhost:8080/",
          "height": 666
        },
        "id": "nTfnDRy9Diaq",
        "outputId": "92f4be40-4b9f-450d-ef0e-3d7ad84a6af3"
      },
      "source": [
        "#to check if no of sample is very less in some case then to eliminate that column.\n",
        "#basically need to check class imbalance\n",
        "\n",
        "fig = plt.figure(figsize = (12, 8))\n",
        "ax = fig.add_axes([0,0,1,1])\n",
        "ax.set_title(\"Activity by each test subject\", fontsize = 15)\n",
        "plt.tick_params(labelsize = 15)\n",
        "sns.countplot(x = \"subject\", hue = \"Activity\", data = train_df)\n",
        "plt.xlabel(\"Subject ID\", fontsize = 15)\n",
        "plt.ylabel(\"Count\", fontsize = 15)\n",
        "plt.show()"
      ],
      "execution_count": null,
      "outputs": [
        {
          "data": {
            "image/png": "[encoded data removed]",
            "text/plain": [
              "<Figure size 864x576 with 1 Axes>"
            ]
          },
          "metadata": {},
          "output_type": "display_data"
        }
      ]
    },
    {
      "cell_type": "markdown",
      "metadata": {
        "id": "TsvapElyUXvu"
      },
      "source": [
        "#### For subject-1, we can notice that class imbalance problem arrise. Training sample for walking i.e. class-1. "
      ]
    },
    {
      "cell_type": "markdown",
      "metadata": {
        "id": "sip6nrihUuJ2"
      },
      "source": [
        "."
      ]
    },
    {
      "cell_type": "markdown",
      "metadata": {
        "id": "HFqqlhKQAECI"
      },
      "source": [
        "<p align='center'><b><font size=\"+3\" face='arial'>Classification</font></p>"
      ]
    },
    {
      "cell_type": "markdown",
      "metadata": {
        "id": "pmNXKAdxKcf-"
      },
      "source": [
        "."
      ]
    },
    {
      "cell_type": "markdown",
      "metadata": {
        "id": "PVbpz1TUKcMG"
      },
      "source": [
        "###(**1**) Logistic Regression"
      ]
    },
    {
      "cell_type": "code",
      "metadata": {
        "colab": {
          "base_uri": "https://localhost:8080/"
        },
        "id": "iInCwLrYCgwO",
        "outputId": "cf2fd8af-0909-4a5c-a01c-d06f7c30fffb"
      },
      "source": [
        "clf = LogisticRegression(max_iter=1000)\n",
        "clf.fit(X, y)"
      ],
      "execution_count": null,
      "outputs": [
        {
          "data": {
            "text/plain": [
              "LogisticRegression(C=1.0, class_weight=None, dual=False, fit_intercept=True,\n",
              "                   intercept_scaling=1, l1_ratio=None, max_iter=1000,\n",
              "                   multi_class='auto', n_jobs=None, penalty='l2',\n",
              "                   random_state=None, solver='lbfgs', tol=0.0001, verbose=0,\n",
              "                   warm_start=False)"
            ]
          },
          "execution_count": 87,
          "metadata": {},
          "output_type": "execute_result"
        }
      ]
    },
    {
      "cell_type": "code",
      "metadata": {
        "colab": {
          "base_uri": "https://localhost:8080/",
          "height": 326
        },
        "id": "W7OWa1q5g3QS",
        "outputId": "9c95e584-43c0-4d56-979a-7ff404e15a92"
      },
      "source": [
        "predicted = clf.predict(X)\n",
        "report = classification_report(train_df['target'],predicted,digits=4, output_dict=True)\n",
        "fi = pd.DataFrame(report).transpose()\n",
        "fi.to_csv('result.csv', mode='a', header=False)\n",
        "fi\n"
      ],
      "execution_count": null,
      "outputs": [
        {
          "data": {
            "text/html": [
              "<div>\n",
              "<style scoped>\n",
              "    .dataframe tbody tr th:only-of-type {\n",
              "        vertical-align: middle;\n",
              "    }\n",
              "\n",
              "    .dataframe tbody tr th {\n",
              "        vertical-align: top;\n",
              "    }\n",
              "\n",
              "    .dataframe thead th {\n",
              "        text-align: right;\n",
              "    }\n",
              "</style>\n",
              "<table border=\"1\" class=\"dataframe\">\n",
              "  <thead>\n",
              "    <tr style=\"text-align: right;\">\n",
              "      <th></th>\n",
              "      <th>precision</th>\n",
              "      <th>recall</th>\n",
              "      <th>f1-score</th>\n",
              "      <th>support</th>\n",
              "    </tr>\n",
              "  </thead>\n",
              "  <tbody>\n",
              "    <tr>\n",
              "      <th>1</th>\n",
              "      <td>0.828958</td>\n",
              "      <td>0.849918</td>\n",
              "      <td>0.839307</td>\n",
              "      <td>1226.000000</td>\n",
              "    </tr>\n",
              "    <tr>\n",
              "      <th>2</th>\n",
              "      <td>0.872263</td>\n",
              "      <td>0.890960</td>\n",
              "      <td>0.881512</td>\n",
              "      <td>1073.000000</td>\n",
              "    </tr>\n",
              "    <tr>\n",
              "      <th>3</th>\n",
              "      <td>0.893617</td>\n",
              "      <td>0.851927</td>\n",
              "      <td>0.872274</td>\n",
              "      <td>986.000000</td>\n",
              "    </tr>\n",
              "    <tr>\n",
              "      <th>4</th>\n",
              "      <td>0.868197</td>\n",
              "      <td>0.793935</td>\n",
              "      <td>0.829407</td>\n",
              "      <td>1286.000000</td>\n",
              "    </tr>\n",
              "    <tr>\n",
              "      <th>5</th>\n",
              "      <td>0.833676</td>\n",
              "      <td>0.886463</td>\n",
              "      <td>0.859259</td>\n",
              "      <td>1374.000000</td>\n",
              "    </tr>\n",
              "    <tr>\n",
              "      <th>6</th>\n",
              "      <td>0.988748</td>\n",
              "      <td>0.999289</td>\n",
              "      <td>0.993991</td>\n",
              "      <td>1407.000000</td>\n",
              "    </tr>\n",
              "    <tr>\n",
              "      <th>accuracy</th>\n",
              "      <td>0.881801</td>\n",
              "      <td>0.881801</td>\n",
              "      <td>0.881801</td>\n",
              "      <td>0.881801</td>\n",
              "    </tr>\n",
              "    <tr>\n",
              "      <th>macro avg</th>\n",
              "      <td>0.880910</td>\n",
              "      <td>0.878749</td>\n",
              "      <td>0.879292</td>\n",
              "      <td>7352.000000</td>\n",
              "    </tr>\n",
              "    <tr>\n",
              "      <th>weighted avg</th>\n",
              "      <td>0.882275</td>\n",
              "      <td>0.881801</td>\n",
              "      <td>0.881488</td>\n",
              "      <td>7352.000000</td>\n",
              "    </tr>\n",
              "  </tbody>\n",
              "</table>\n",
              "</div>"
            ],
            "text/plain": [
              "              precision    recall  f1-score      support\n",
              "1              0.828958  0.849918  0.839307  1226.000000\n",
              "2              0.872263  0.890960  0.881512  1073.000000\n",
              "3              0.893617  0.851927  0.872274   986.000000\n",
              "4              0.868197  0.793935  0.829407  1286.000000\n",
              "5              0.833676  0.886463  0.859259  1374.000000\n",
              "6              0.988748  0.999289  0.993991  1407.000000\n",
              "accuracy       0.881801  0.881801  0.881801     0.881801\n",
              "macro avg      0.880910  0.878749  0.879292  7352.000000\n",
              "weighted avg   0.882275  0.881801  0.881488  7352.000000"
            ]
          },
          "execution_count": 88,
          "metadata": {},
          "output_type": "execute_result"
        }
      ]
    },
    {
      "cell_type": "code",
      "metadata": {
        "colab": {
          "base_uri": "https://localhost:8080/"
        },
        "id": "cs7JlHxAa8ie",
        "outputId": "43f25f70-51ee-4e9d-cc8d-886a31290290"
      },
      "source": [
        "predicted = clf.predict(X_test)\n",
        "print(classification_report(y_test,predicted,digits=4))"
      ],
      "execution_count": null,
      "outputs": [
        {
          "name": "stdout",
          "output_type": "stream",
          "text": [
            "              precision    recall  f1-score   support\n",
            "\n",
            "           1     0.6587    0.8367    0.7371       496\n",
            "           2     0.8663    0.6879    0.7669       471\n",
            "           3     0.7326    0.6786    0.7046       420\n",
            "           4     0.8244    0.7556    0.7885       491\n",
            "           5     0.7609    0.8496    0.8028       532\n",
            "           6     1.0000    0.9497    0.9742       537\n",
            "\n",
            "    accuracy                         0.7998      2947\n",
            "   macro avg     0.8072    0.7930    0.7957      2947\n",
            "weighted avg     0.8107    0.7998    0.8009      2947\n",
            "\n"
          ]
        }
      ]
    },
    {
      "cell_type": "markdown",
      "metadata": {
        "id": "FpgeZe-UKvyg"
      },
      "source": [
        "."
      ]
    },
    {
      "cell_type": "code",
      "metadata": {
        "id": "lbKsdtiIBhWJ"
      },
      "source": [
        "import numpy as np\n",
        "x = np.array(df[features])\n",
        "y = np.array(df['target'])"
      ],
      "execution_count": null,
      "outputs": []
    },
    {
      "cell_type": "code",
      "metadata": {
        "id": "I2FXMZtTD1Aa"
      },
      "source": [
        "x, y = shuffle(x, y, random_state=100)"
      ],
      "execution_count": null,
      "outputs": []
    },
    {
      "cell_type": "code",
      "metadata": {
        "id": "VYsKz6N_zxaf"
      },
      "source": [
        "def kfold(features,y_actual):\n",
        "  kf = KFold(n_splits=5,random_state=1000, shuffle=True)\n",
        "  kf.get_n_splits(features)\n",
        "  all_x_train = []\n",
        "  all_x_test = []\n",
        "  all_y_train = []\n",
        "  all_y_test = []\n",
        "  for train_index, test_index in kf.split(features):\n",
        "    X_train, X_test = features[train_index], features[test_index]\n",
        "    y_train, y_test = y_actual[train_index], y_actual[test_index]\n",
        "    all_x_train.append(X_train)\n",
        "    all_x_test.append(X_test)\n",
        "    all_y_train.append(y_train)\n",
        "    all_y_test.append(y_test)\n",
        "  all_x_train, all_x_test, all_y_train, all_y_test  = np.array(all_x_train), np.array(all_x_test), np.array(all_y_train), np.array(all_y_test)\n",
        "  for i in range(0, 5):\n",
        "    all_y_train[i] = all_y_train[i].flatten()\n",
        "  return all_x_train, all_x_test, all_y_train, all_y_test"
      ],
      "execution_count": null,
      "outputs": []
    },
    {
      "cell_type": "code",
      "metadata": {
        "id": "hqACOdJtFqek"
      },
      "source": [
        "import warnings\n",
        "warnings.filterwarnings('ignore')"
      ],
      "execution_count": null,
      "outputs": []
    },
    {
      "cell_type": "code",
      "metadata": {
        "id": "dzzELU7BEFok"
      },
      "source": [
        "all_x_train, all_x_test, all_y_train, all_y_test = kfold(x, y)"
      ],
      "execution_count": null,
      "outputs": []
    },
    {
      "cell_type": "markdown",
      "metadata": {
        "id": "vXx0JWWoMXe_"
      },
      "source": [
        "."
      ]
    },
    {
      "cell_type": "markdown",
      "metadata": {
        "id": "Uq3yFRDnKxV5"
      },
      "source": [
        "###(2) 5-Fold logistic regression "
      ]
    },
    {
      "cell_type": "code",
      "metadata": {
        "colab": {
          "base_uri": "https://localhost:8080/",
          "height": 1000
        },
        "id": "tTjw69V2FsgY",
        "outputId": "c6a2d4ca-c891-44b6-a5db-965a038e9511"
      },
      "source": [
        "for i in range(0, 5): \n",
        "  \n",
        "  print('\\n')\n",
        "  print(\"For fold no:\", i+1)\n",
        "  print()\n",
        "\n",
        "  logistic_reg_classifier = LogisticRegression(penalty = 'none', random_state=67, solver = 'sag', max_iter = 100).fit(all_x_train[i], all_y_train[i])\n",
        "  \n",
        "  #Accuracy for train set\n",
        "  print(\"Accuracy on training data: \" + str(logistic_reg_classifier.score(all_x_train[i], all_y_train[i])))\n",
        "  predicted = logistic_reg_classifier.predict(all_x_test[i])\n",
        "  \n",
        "  print(\"Testing Accuracy Score: \" + str(accuracy_score(all_y_test[i], predicted)*100))\n",
        "  \n",
        "  #confusion matrix using heat map\n",
        "  print('Confusion Matrix : \\n')\n",
        "  array=confusion_matrix(all_y_test[i], predicted)\n",
        "  df_cm = pd.DataFrame(array, index = [i for i in \"012345\"],columns = [i for i in \"012345\"])\n",
        "  plt.figure(figsize = (10,7))\n",
        "  sns.heatmap(df_cm, annot=True)\n",
        "  plt.show()\n",
        "\n",
        "  print(\"\\nClassification Report: \")\n",
        "  report = classification_report(all_y_test[i], predicted, labels =[1,2,3,4,5,6], digits=5, output_dict=True)\n",
        "  fi = pd.DataFrame(report).transpose()\n",
        "  fi.to_csv('result.csv', mode='a', header=False)\n",
        "  display(fi)\n",
        "  print()"
      ],
      "execution_count": null,
      "outputs": [
        {
          "name": "stdout",
          "output_type": "stream",
          "text": [
            "\n",
            "\n",
            "For fold no: 1\n",
            "\n",
            "Accuracy on training data: 0.8723146012865639\n",
            "Testing Accuracy Score: 87.23300970873787\n",
            "Confusion Matrix : \n",
            "\n"
          ]
        },
        {
          "data": {
            "image/png": "[encoded data removed]",
            "text/plain": [
              "<Figure size 720x504 with 2 Axes>"
            ]
          },
          "metadata": {},
          "output_type": "display_data"
        },
        {
          "name": "stdout",
          "output_type": "stream",
          "text": [
            "\n",
            "Classification Report: \n"
          ]
        },
        {
          "data": {
            "text/html": [
              "<div>\n",
              "<style scoped>\n",
              "    .dataframe tbody tr th:only-of-type {\n",
              "        vertical-align: middle;\n",
              "    }\n",
              "\n",
              "    .dataframe tbody tr th {\n",
              "        vertical-align: top;\n",
              "    }\n",
              "\n",
              "    .dataframe thead th {\n",
              "        text-align: right;\n",
              "    }\n",
              "</style>\n",
              "<table border=\"1\" class=\"dataframe\">\n",
              "  <thead>\n",
              "    <tr style=\"text-align: right;\">\n",
              "      <th></th>\n",
              "      <th>precision</th>\n",
              "      <th>recall</th>\n",
              "      <th>f1-score</th>\n",
              "      <th>support</th>\n",
              "    </tr>\n",
              "  </thead>\n",
              "  <tbody>\n",
              "    <tr>\n",
              "      <th>1</th>\n",
              "      <td>0.774566</td>\n",
              "      <td>0.853503</td>\n",
              "      <td>0.812121</td>\n",
              "      <td>314.00000</td>\n",
              "    </tr>\n",
              "    <tr>\n",
              "      <th>2</th>\n",
              "      <td>0.882143</td>\n",
              "      <td>0.857639</td>\n",
              "      <td>0.869718</td>\n",
              "      <td>288.00000</td>\n",
              "    </tr>\n",
              "    <tr>\n",
              "      <th>3</th>\n",
              "      <td>0.890071</td>\n",
              "      <td>0.820261</td>\n",
              "      <td>0.853741</td>\n",
              "      <td>306.00000</td>\n",
              "    </tr>\n",
              "    <tr>\n",
              "      <th>4</th>\n",
              "      <td>0.871642</td>\n",
              "      <td>0.789189</td>\n",
              "      <td>0.828369</td>\n",
              "      <td>370.00000</td>\n",
              "    </tr>\n",
              "    <tr>\n",
              "      <th>5</th>\n",
              "      <td>0.818182</td>\n",
              "      <td>0.895408</td>\n",
              "      <td>0.855055</td>\n",
              "      <td>392.00000</td>\n",
              "    </tr>\n",
              "    <tr>\n",
              "      <th>6</th>\n",
              "      <td>1.000000</td>\n",
              "      <td>0.994872</td>\n",
              "      <td>0.997429</td>\n",
              "      <td>390.00000</td>\n",
              "    </tr>\n",
              "    <tr>\n",
              "      <th>accuracy</th>\n",
              "      <td>0.872330</td>\n",
              "      <td>0.872330</td>\n",
              "      <td>0.872330</td>\n",
              "      <td>0.87233</td>\n",
              "    </tr>\n",
              "    <tr>\n",
              "      <th>macro avg</th>\n",
              "      <td>0.872767</td>\n",
              "      <td>0.868479</td>\n",
              "      <td>0.869406</td>\n",
              "      <td>2060.00000</td>\n",
              "    </tr>\n",
              "    <tr>\n",
              "      <th>weighted avg</th>\n",
              "      <td>0.875178</td>\n",
              "      <td>0.872330</td>\n",
              "      <td>0.872527</td>\n",
              "      <td>2060.00000</td>\n",
              "    </tr>\n",
              "  </tbody>\n",
              "</table>\n",
              "</div>"
            ],
            "text/plain": [
              "              precision    recall  f1-score     support\n",
              "1              0.774566  0.853503  0.812121   314.00000\n",
              "2              0.882143  0.857639  0.869718   288.00000\n",
              "3              0.890071  0.820261  0.853741   306.00000\n",
              "4              0.871642  0.789189  0.828369   370.00000\n",
              "5              0.818182  0.895408  0.855055   392.00000\n",
              "6              1.000000  0.994872  0.997429   390.00000\n",
              "accuracy       0.872330  0.872330  0.872330     0.87233\n",
              "macro avg      0.872767  0.868479  0.869406  2060.00000\n",
              "weighted avg   0.875178  0.872330  0.872527  2060.00000"
            ]
          },
          "metadata": {},
          "output_type": "display_data"
        },
        {
          "name": "stdout",
          "output_type": "stream",
          "text": [
            "\n",
            "\n",
            "\n",
            "For fold no: 2\n",
            "\n",
            "Accuracy on training data: 0.874013836630659\n",
            "Testing Accuracy Score: 86.60194174757282\n",
            "Confusion Matrix : \n",
            "\n"
          ]
        },
        {
          "data": {
            "image/png": "[encoded data removed]",
            "text/plain": [
              "<Figure size 720x504 with 2 Axes>"
            ]
          },
          "metadata": {},
          "output_type": "display_data"
        },
        {
          "name": "stdout",
          "output_type": "stream",
          "text": [
            "\n",
            "Classification Report: \n"
          ]
        },
        {
          "data": {
            "text/html": [
              "<div>\n",
              "<style scoped>\n",
              "    .dataframe tbody tr th:only-of-type {\n",
              "        vertical-align: middle;\n",
              "    }\n",
              "\n",
              "    .dataframe tbody tr th {\n",
              "        vertical-align: top;\n",
              "    }\n",
              "\n",
              "    .dataframe thead th {\n",
              "        text-align: right;\n",
              "    }\n",
              "</style>\n",
              "<table border=\"1\" class=\"dataframe\">\n",
              "  <thead>\n",
              "    <tr style=\"text-align: right;\">\n",
              "      <th></th>\n",
              "      <th>precision</th>\n",
              "      <th>recall</th>\n",
              "      <th>f1-score</th>\n",
              "      <th>support</th>\n",
              "    </tr>\n",
              "  </thead>\n",
              "  <tbody>\n",
              "    <tr>\n",
              "      <th>1</th>\n",
              "      <td>0.816092</td>\n",
              "      <td>0.825581</td>\n",
              "      <td>0.820809</td>\n",
              "      <td>344.000000</td>\n",
              "    </tr>\n",
              "    <tr>\n",
              "      <th>2</th>\n",
              "      <td>0.863492</td>\n",
              "      <td>0.858044</td>\n",
              "      <td>0.860759</td>\n",
              "      <td>317.000000</td>\n",
              "    </tr>\n",
              "    <tr>\n",
              "      <th>3</th>\n",
              "      <td>0.831461</td>\n",
              "      <td>0.822222</td>\n",
              "      <td>0.826816</td>\n",
              "      <td>270.000000</td>\n",
              "    </tr>\n",
              "    <tr>\n",
              "      <th>4</th>\n",
              "      <td>0.890675</td>\n",
              "      <td>0.756831</td>\n",
              "      <td>0.818316</td>\n",
              "      <td>366.000000</td>\n",
              "    </tr>\n",
              "    <tr>\n",
              "      <th>5</th>\n",
              "      <td>0.792148</td>\n",
              "      <td>0.909814</td>\n",
              "      <td>0.846914</td>\n",
              "      <td>377.000000</td>\n",
              "    </tr>\n",
              "    <tr>\n",
              "      <th>6</th>\n",
              "      <td>1.000000</td>\n",
              "      <td>1.000000</td>\n",
              "      <td>1.000000</td>\n",
              "      <td>386.000000</td>\n",
              "    </tr>\n",
              "    <tr>\n",
              "      <th>accuracy</th>\n",
              "      <td>0.866019</td>\n",
              "      <td>0.866019</td>\n",
              "      <td>0.866019</td>\n",
              "      <td>0.866019</td>\n",
              "    </tr>\n",
              "    <tr>\n",
              "      <th>macro avg</th>\n",
              "      <td>0.865645</td>\n",
              "      <td>0.862082</td>\n",
              "      <td>0.862269</td>\n",
              "      <td>2060.000000</td>\n",
              "    </tr>\n",
              "    <tr>\n",
              "      <th>weighted avg</th>\n",
              "      <td>0.868730</td>\n",
              "      <td>0.866019</td>\n",
              "      <td>0.865655</td>\n",
              "      <td>2060.000000</td>\n",
              "    </tr>\n",
              "  </tbody>\n",
              "</table>\n",
              "</div>"
            ],
            "text/plain": [
              "              precision    recall  f1-score      support\n",
              "1              0.816092  0.825581  0.820809   344.000000\n",
              "2              0.863492  0.858044  0.860759   317.000000\n",
              "3              0.831461  0.822222  0.826816   270.000000\n",
              "4              0.890675  0.756831  0.818316   366.000000\n",
              "5              0.792148  0.909814  0.846914   377.000000\n",
              "6              1.000000  1.000000  1.000000   386.000000\n",
              "accuracy       0.866019  0.866019  0.866019     0.866019\n",
              "macro avg      0.865645  0.862082  0.862269  2060.000000\n",
              "weighted avg   0.868730  0.866019  0.865655  2060.000000"
            ]
          },
          "metadata": {},
          "output_type": "display_data"
        },
        {
          "name": "stdout",
          "output_type": "stream",
          "text": [
            "\n",
            "\n",
            "\n",
            "For fold no: 3\n",
            "\n",
            "Accuracy on training data: 0.8714649836145163\n",
            "Testing Accuracy Score: 88.68932038834951\n",
            "Confusion Matrix : \n",
            "\n"
          ]
        },
        {
          "data": {
            "image/png": "[encoded data removed]",
            "text/plain": [
              "<Figure size 720x504 with 2 Axes>"
            ]
          },
          "metadata": {},
          "output_type": "display_data"
        },
        {
          "name": "stdout",
          "output_type": "stream",
          "text": [
            "\n",
            "Classification Report: \n"
          ]
        },
        {
          "data": {
            "text/html": [
              "<div>\n",
              "<style scoped>\n",
              "    .dataframe tbody tr th:only-of-type {\n",
              "        vertical-align: middle;\n",
              "    }\n",
              "\n",
              "    .dataframe tbody tr th {\n",
              "        vertical-align: top;\n",
              "    }\n",
              "\n",
              "    .dataframe thead th {\n",
              "        text-align: right;\n",
              "    }\n",
              "</style>\n",
              "<table border=\"1\" class=\"dataframe\">\n",
              "  <thead>\n",
              "    <tr style=\"text-align: right;\">\n",
              "      <th></th>\n",
              "      <th>precision</th>\n",
              "      <th>recall</th>\n",
              "      <th>f1-score</th>\n",
              "      <th>support</th>\n",
              "    </tr>\n",
              "  </thead>\n",
              "  <tbody>\n",
              "    <tr>\n",
              "      <th>1</th>\n",
              "      <td>0.876751</td>\n",
              "      <td>0.812987</td>\n",
              "      <td>0.843666</td>\n",
              "      <td>385.000000</td>\n",
              "    </tr>\n",
              "    <tr>\n",
              "      <th>2</th>\n",
              "      <td>0.859701</td>\n",
              "      <td>0.897196</td>\n",
              "      <td>0.878049</td>\n",
              "      <td>321.000000</td>\n",
              "    </tr>\n",
              "    <tr>\n",
              "      <th>3</th>\n",
              "      <td>0.830935</td>\n",
              "      <td>0.875000</td>\n",
              "      <td>0.852399</td>\n",
              "      <td>264.000000</td>\n",
              "    </tr>\n",
              "    <tr>\n",
              "      <th>4</th>\n",
              "      <td>0.866450</td>\n",
              "      <td>0.831250</td>\n",
              "      <td>0.848485</td>\n",
              "      <td>320.000000</td>\n",
              "    </tr>\n",
              "    <tr>\n",
              "      <th>5</th>\n",
              "      <td>0.859008</td>\n",
              "      <td>0.889189</td>\n",
              "      <td>0.873838</td>\n",
              "      <td>370.000000</td>\n",
              "    </tr>\n",
              "    <tr>\n",
              "      <th>6</th>\n",
              "      <td>1.000000</td>\n",
              "      <td>1.000000</td>\n",
              "      <td>1.000000</td>\n",
              "      <td>400.000000</td>\n",
              "    </tr>\n",
              "    <tr>\n",
              "      <th>accuracy</th>\n",
              "      <td>0.886893</td>\n",
              "      <td>0.886893</td>\n",
              "      <td>0.886893</td>\n",
              "      <td>0.886893</td>\n",
              "    </tr>\n",
              "    <tr>\n",
              "      <th>macro avg</th>\n",
              "      <td>0.882141</td>\n",
              "      <td>0.884270</td>\n",
              "      <td>0.882739</td>\n",
              "      <td>2060.000000</td>\n",
              "    </tr>\n",
              "    <tr>\n",
              "      <th>weighted avg</th>\n",
              "      <td>0.887367</td>\n",
              "      <td>0.886893</td>\n",
              "      <td>0.886667</td>\n",
              "      <td>2060.000000</td>\n",
              "    </tr>\n",
              "  </tbody>\n",
              "</table>\n",
              "</div>"
            ],
            "text/plain": [
              "              precision    recall  f1-score      support\n",
              "1              0.876751  0.812987  0.843666   385.000000\n",
              "2              0.859701  0.897196  0.878049   321.000000\n",
              "3              0.830935  0.875000  0.852399   264.000000\n",
              "4              0.866450  0.831250  0.848485   320.000000\n",
              "5              0.859008  0.889189  0.873838   370.000000\n",
              "6              1.000000  1.000000  1.000000   400.000000\n",
              "accuracy       0.886893  0.886893  0.886893     0.886893\n",
              "macro avg      0.882141  0.884270  0.882739  2060.000000\n",
              "weighted avg   0.887367  0.886893  0.886667  2060.000000"
            ]
          },
          "metadata": {},
          "output_type": "display_data"
        },
        {
          "name": "stdout",
          "output_type": "stream",
          "text": [
            "\n",
            "\n",
            "\n",
            "For fold no: 4\n",
            "\n",
            "Accuracy on training data: 0.8758344459279038\n",
            "Testing Accuracy Score: 86.89320388349515\n",
            "Confusion Matrix : \n",
            "\n"
          ]
        },
        {
          "data": {
            "image/png": "[encoded data removed]",
            "text/plain": [
              "<Figure size 720x504 with 2 Axes>"
            ]
          },
          "metadata": {},
          "output_type": "display_data"
        },
        {
          "name": "stdout",
          "output_type": "stream",
          "text": [
            "\n",
            "Classification Report: \n"
          ]
        },
        {
          "data": {
            "text/html": [
              "<div>\n",
              "<style scoped>\n",
              "    .dataframe tbody tr th:only-of-type {\n",
              "        vertical-align: middle;\n",
              "    }\n",
              "\n",
              "    .dataframe tbody tr th {\n",
              "        vertical-align: top;\n",
              "    }\n",
              "\n",
              "    .dataframe thead th {\n",
              "        text-align: right;\n",
              "    }\n",
              "</style>\n",
              "<table border=\"1\" class=\"dataframe\">\n",
              "  <thead>\n",
              "    <tr style=\"text-align: right;\">\n",
              "      <th></th>\n",
              "      <th>precision</th>\n",
              "      <th>recall</th>\n",
              "      <th>f1-score</th>\n",
              "      <th>support</th>\n",
              "    </tr>\n",
              "  </thead>\n",
              "  <tbody>\n",
              "    <tr>\n",
              "      <th>1</th>\n",
              "      <td>0.833333</td>\n",
              "      <td>0.816619</td>\n",
              "      <td>0.824891</td>\n",
              "      <td>349.000000</td>\n",
              "    </tr>\n",
              "    <tr>\n",
              "      <th>2</th>\n",
              "      <td>0.845638</td>\n",
              "      <td>0.848485</td>\n",
              "      <td>0.847059</td>\n",
              "      <td>297.000000</td>\n",
              "    </tr>\n",
              "    <tr>\n",
              "      <th>3</th>\n",
              "      <td>0.830935</td>\n",
              "      <td>0.849265</td>\n",
              "      <td>0.840000</td>\n",
              "      <td>272.000000</td>\n",
              "    </tr>\n",
              "    <tr>\n",
              "      <th>4</th>\n",
              "      <td>0.848297</td>\n",
              "      <td>0.794203</td>\n",
              "      <td>0.820359</td>\n",
              "      <td>345.000000</td>\n",
              "    </tr>\n",
              "    <tr>\n",
              "      <th>5</th>\n",
              "      <td>0.829327</td>\n",
              "      <td>0.875635</td>\n",
              "      <td>0.851852</td>\n",
              "      <td>394.000000</td>\n",
              "    </tr>\n",
              "    <tr>\n",
              "      <th>6</th>\n",
              "      <td>1.000000</td>\n",
              "      <td>1.000000</td>\n",
              "      <td>1.000000</td>\n",
              "      <td>403.000000</td>\n",
              "    </tr>\n",
              "    <tr>\n",
              "      <th>accuracy</th>\n",
              "      <td>0.868932</td>\n",
              "      <td>0.868932</td>\n",
              "      <td>0.868932</td>\n",
              "      <td>0.868932</td>\n",
              "    </tr>\n",
              "    <tr>\n",
              "      <th>macro avg</th>\n",
              "      <td>0.864588</td>\n",
              "      <td>0.864034</td>\n",
              "      <td>0.864027</td>\n",
              "      <td>2060.000000</td>\n",
              "    </tr>\n",
              "    <tr>\n",
              "      <th>weighted avg</th>\n",
              "      <td>0.869136</td>\n",
              "      <td>0.868932</td>\n",
              "      <td>0.868736</td>\n",
              "      <td>2060.000000</td>\n",
              "    </tr>\n",
              "  </tbody>\n",
              "</table>\n",
              "</div>"
            ],
            "text/plain": [
              "              precision    recall  f1-score      support\n",
              "1              0.833333  0.816619  0.824891   349.000000\n",
              "2              0.845638  0.848485  0.847059   297.000000\n",
              "3              0.830935  0.849265  0.840000   272.000000\n",
              "4              0.848297  0.794203  0.820359   345.000000\n",
              "5              0.829327  0.875635  0.851852   394.000000\n",
              "6              1.000000  1.000000  1.000000   403.000000\n",
              "accuracy       0.868932  0.868932  0.868932     0.868932\n",
              "macro avg      0.864588  0.864034  0.864027  2060.000000\n",
              "weighted avg   0.869136  0.868932  0.868736  2060.000000"
            ]
          },
          "metadata": {},
          "output_type": "display_data"
        },
        {
          "name": "stdout",
          "output_type": "stream",
          "text": [
            "\n",
            "\n",
            "\n",
            "For fold no: 5\n",
            "\n",
            "Accuracy on training data: 0.8762135922330098\n",
            "Testing Accuracy Score: 86.1583292860612\n",
            "Confusion Matrix : \n",
            "\n"
          ]
        },
        {
          "data": {
            "image/png": "[encoded data removed]",
            "text/plain": [
              "<Figure size 720x504 with 2 Axes>"
            ]
          },
          "metadata": {},
          "output_type": "display_data"
        },
        {
          "name": "stdout",
          "output_type": "stream",
          "text": [
            "\n",
            "Classification Report: \n"
          ]
        },
        {
          "data": {
            "text/html": [
              "<div>\n",
              "<style scoped>\n",
              "    .dataframe tbody tr th:only-of-type {\n",
              "        vertical-align: middle;\n",
              "    }\n",
              "\n",
              "    .dataframe tbody tr th {\n",
              "        vertical-align: top;\n",
              "    }\n",
              "\n",
              "    .dataframe thead th {\n",
              "        text-align: right;\n",
              "    }\n",
              "</style>\n",
              "<table border=\"1\" class=\"dataframe\">\n",
              "  <thead>\n",
              "    <tr style=\"text-align: right;\">\n",
              "      <th></th>\n",
              "      <th>precision</th>\n",
              "      <th>recall</th>\n",
              "      <th>f1-score</th>\n",
              "      <th>support</th>\n",
              "    </tr>\n",
              "  </thead>\n",
              "  <tbody>\n",
              "    <tr>\n",
              "      <th>1</th>\n",
              "      <td>0.786704</td>\n",
              "      <td>0.860606</td>\n",
              "      <td>0.821997</td>\n",
              "      <td>330.000000</td>\n",
              "    </tr>\n",
              "    <tr>\n",
              "      <th>2</th>\n",
              "      <td>0.862620</td>\n",
              "      <td>0.841121</td>\n",
              "      <td>0.851735</td>\n",
              "      <td>321.000000</td>\n",
              "    </tr>\n",
              "    <tr>\n",
              "      <th>3</th>\n",
              "      <td>0.845588</td>\n",
              "      <td>0.782313</td>\n",
              "      <td>0.812721</td>\n",
              "      <td>294.000000</td>\n",
              "    </tr>\n",
              "    <tr>\n",
              "      <th>4</th>\n",
              "      <td>0.851955</td>\n",
              "      <td>0.811170</td>\n",
              "      <td>0.831063</td>\n",
              "      <td>376.000000</td>\n",
              "    </tr>\n",
              "    <tr>\n",
              "      <th>5</th>\n",
              "      <td>0.820513</td>\n",
              "      <td>0.857909</td>\n",
              "      <td>0.838794</td>\n",
              "      <td>373.000000</td>\n",
              "    </tr>\n",
              "    <tr>\n",
              "      <th>6</th>\n",
              "      <td>1.000000</td>\n",
              "      <td>1.000000</td>\n",
              "      <td>1.000000</td>\n",
              "      <td>365.000000</td>\n",
              "    </tr>\n",
              "    <tr>\n",
              "      <th>accuracy</th>\n",
              "      <td>0.861583</td>\n",
              "      <td>0.861583</td>\n",
              "      <td>0.861583</td>\n",
              "      <td>0.861583</td>\n",
              "    </tr>\n",
              "    <tr>\n",
              "      <th>macro avg</th>\n",
              "      <td>0.861230</td>\n",
              "      <td>0.858853</td>\n",
              "      <td>0.859385</td>\n",
              "      <td>2059.000000</td>\n",
              "    </tr>\n",
              "    <tr>\n",
              "      <th>weighted avg</th>\n",
              "      <td>0.862799</td>\n",
              "      <td>0.861583</td>\n",
              "      <td>0.861562</td>\n",
              "      <td>2059.000000</td>\n",
              "    </tr>\n",
              "  </tbody>\n",
              "</table>\n",
              "</div>"
            ],
            "text/plain": [
              "              precision    recall  f1-score      support\n",
              "1              0.786704  0.860606  0.821997   330.000000\n",
              "2              0.862620  0.841121  0.851735   321.000000\n",
              "3              0.845588  0.782313  0.812721   294.000000\n",
              "4              0.851955  0.811170  0.831063   376.000000\n",
              "5              0.820513  0.857909  0.838794   373.000000\n",
              "6              1.000000  1.000000  1.000000   365.000000\n",
              "accuracy       0.861583  0.861583  0.861583     0.861583\n",
              "macro avg      0.861230  0.858853  0.859385  2059.000000\n",
              "weighted avg   0.862799  0.861583  0.861562  2059.000000"
            ]
          },
          "metadata": {},
          "output_type": "display_data"
        },
        {
          "name": "stdout",
          "output_type": "stream",
          "text": [
            "\n"
          ]
        }
      ]
    },
    {
      "cell_type": "markdown",
      "metadata": {
        "id": "PtyzOwzRMkYe"
      },
      "source": [
        "."
      ]
    },
    {
      "cell_type": "markdown",
      "metadata": {
        "id": "OmPBQgawMlON"
      },
      "source": [
        "###(3) SLP (Single Layer Perceptron)"
      ]
    },
    {
      "cell_type": "code",
      "metadata": {
        "colab": {
          "base_uri": "https://localhost:8080/",
          "height": 1000
        },
        "id": "yuSy8fGJG_XD",
        "outputId": "76e9344e-526d-47d5-b76e-c23de5073a8c"
      },
      "source": [
        "from sklearn.linear_model import Perceptron\n",
        "for i in range(0, 5): # for 5 fold\n",
        "  \n",
        "  print(\"\\nFor fold no:\", i+1)\n",
        "  print()\n",
        "  \n",
        "  slp = Perceptron(random_state=1,penalty='elasticnet')\n",
        "  slp.fit(all_x_train[0], all_y_train[0])\n",
        "  \n",
        "  print(\"Accuracy on training data: \" + str(slp.score(all_x_train[i], all_y_train[i])))\n",
        "  predicted = slp.predict(all_x_test[i])\n",
        "  \n",
        "  print(\"Testing Accuracy Score: \" + str(accuracy_score(all_y_test[i], predicted)*100))\n",
        "  \n",
        "  #confusion matrix using heat map\n",
        "  print('Confusion Matrix : \\n')\n",
        "  array=confusion_matrix(all_y_test[i], predicted)\n",
        "  df_cm = pd.DataFrame(array, index = [i for i in \"012345\"],columns = [i for i in \"012345\"])\n",
        "  plt.figure(figsize = (10,7))\n",
        "  sns.heatmap(df_cm, annot=True)\n",
        "  plt.show()\n",
        "\n",
        "  print(\"Classification Report : \")\n",
        "  report = classification_report(all_y_test[i], predicted, labels=[1, 2, 3, 4, 5, 6], digits=5,output_dict=True)\n",
        "  fi = pd.DataFrame(report).transpose()\n",
        "  fi.to_csv('result.csv', mode='a', header=False)\n",
        "  display(fi)\n",
        "  print()\n"
      ],
      "execution_count": null,
      "outputs": [
        {
          "name": "stdout",
          "output_type": "stream",
          "text": [
            "\n",
            "For fold no: 1\n",
            "\n",
            "Accuracy on training data: 0.6941376380628717\n",
            "Testing Accuracy Score: 69.07766990291262\n",
            "Confusion Matrix : \n",
            "\n"
          ]
        },
        {
          "data": {
            "image/png": "[encoded data removed]",
            "text/plain": [
              "<Figure size 720x504 with 2 Axes>"
            ]
          },
          "metadata": {},
          "output_type": "display_data"
        },
        {
          "name": "stdout",
          "output_type": "stream",
          "text": [
            "Classification Report : \n"
          ]
        },
        {
          "data": {
            "text/html": [
              "<div>\n",
              "<style scoped>\n",
              "    .dataframe tbody tr th:only-of-type {\n",
              "        vertical-align: middle;\n",
              "    }\n",
              "\n",
              "    .dataframe tbody tr th {\n",
              "        vertical-align: top;\n",
              "    }\n",
              "\n",
              "    .dataframe thead th {\n",
              "        text-align: right;\n",
              "    }\n",
              "</style>\n",
              "<table border=\"1\" class=\"dataframe\">\n",
              "  <thead>\n",
              "    <tr style=\"text-align: right;\">\n",
              "      <th></th>\n",
              "      <th>precision</th>\n",
              "      <th>recall</th>\n",
              "      <th>f1-score</th>\n",
              "      <th>support</th>\n",
              "    </tr>\n",
              "  </thead>\n",
              "  <tbody>\n",
              "    <tr>\n",
              "      <th>1</th>\n",
              "      <td>0.701220</td>\n",
              "      <td>0.366242</td>\n",
              "      <td>0.481172</td>\n",
              "      <td>314.000000</td>\n",
              "    </tr>\n",
              "    <tr>\n",
              "      <th>2</th>\n",
              "      <td>0.566591</td>\n",
              "      <td>0.871528</td>\n",
              "      <td>0.686731</td>\n",
              "      <td>288.000000</td>\n",
              "    </tr>\n",
              "    <tr>\n",
              "      <th>3</th>\n",
              "      <td>0.873913</td>\n",
              "      <td>0.656863</td>\n",
              "      <td>0.750000</td>\n",
              "      <td>306.000000</td>\n",
              "    </tr>\n",
              "    <tr>\n",
              "      <th>4</th>\n",
              "      <td>0.856436</td>\n",
              "      <td>0.467568</td>\n",
              "      <td>0.604895</td>\n",
              "      <td>370.000000</td>\n",
              "    </tr>\n",
              "    <tr>\n",
              "      <th>5</th>\n",
              "      <td>0.807692</td>\n",
              "      <td>0.803571</td>\n",
              "      <td>0.805627</td>\n",
              "      <td>392.000000</td>\n",
              "    </tr>\n",
              "    <tr>\n",
              "      <th>6</th>\n",
              "      <td>0.583201</td>\n",
              "      <td>0.943590</td>\n",
              "      <td>0.720862</td>\n",
              "      <td>390.000000</td>\n",
              "    </tr>\n",
              "    <tr>\n",
              "      <th>accuracy</th>\n",
              "      <td>0.690777</td>\n",
              "      <td>0.690777</td>\n",
              "      <td>0.690777</td>\n",
              "      <td>0.690777</td>\n",
              "    </tr>\n",
              "    <tr>\n",
              "      <th>macro avg</th>\n",
              "      <td>0.731509</td>\n",
              "      <td>0.684894</td>\n",
              "      <td>0.674881</td>\n",
              "      <td>2060.000000</td>\n",
              "    </tr>\n",
              "    <tr>\n",
              "      <th>weighted avg</th>\n",
              "      <td>0.733846</td>\n",
              "      <td>0.690777</td>\n",
              "      <td>0.679184</td>\n",
              "      <td>2060.000000</td>\n",
              "    </tr>\n",
              "  </tbody>\n",
              "</table>\n",
              "</div>"
            ],
            "text/plain": [
              "              precision    recall  f1-score      support\n",
              "1              0.701220  0.366242  0.481172   314.000000\n",
              "2              0.566591  0.871528  0.686731   288.000000\n",
              "3              0.873913  0.656863  0.750000   306.000000\n",
              "4              0.856436  0.467568  0.604895   370.000000\n",
              "5              0.807692  0.803571  0.805627   392.000000\n",
              "6              0.583201  0.943590  0.720862   390.000000\n",
              "accuracy       0.690777  0.690777  0.690777     0.690777\n",
              "macro avg      0.731509  0.684894  0.674881  2060.000000\n",
              "weighted avg   0.733846  0.690777  0.679184  2060.000000"
            ]
          },
          "metadata": {},
          "output_type": "display_data"
        },
        {
          "name": "stdout",
          "output_type": "stream",
          "text": [
            "\n",
            "\n",
            "For fold no: 2\n",
            "\n",
            "Accuracy on training data: 0.6885544362179876\n",
            "Testing Accuracy Score: 71.31067961165049\n",
            "Confusion Matrix : \n",
            "\n"
          ]
        },
        {
          "data": {
            "image/png": "[encoded data removed]",
            "text/plain": [
              "<Figure size 720x504 with 2 Axes>"
            ]
          },
          "metadata": {},
          "output_type": "display_data"
        },
        {
          "name": "stdout",
          "output_type": "stream",
          "text": [
            "Classification Report : \n"
          ]
        },
        {
          "data": {
            "text/html": [
              "<div>\n",
              "<style scoped>\n",
              "    .dataframe tbody tr th:only-of-type {\n",
              "        vertical-align: middle;\n",
              "    }\n",
              "\n",
              "    .dataframe tbody tr th {\n",
              "        vertical-align: top;\n",
              "    }\n",
              "\n",
              "    .dataframe thead th {\n",
              "        text-align: right;\n",
              "    }\n",
              "</style>\n",
              "<table border=\"1\" class=\"dataframe\">\n",
              "  <thead>\n",
              "    <tr style=\"text-align: right;\">\n",
              "      <th></th>\n",
              "      <th>precision</th>\n",
              "      <th>recall</th>\n",
              "      <th>f1-score</th>\n",
              "      <th>support</th>\n",
              "    </tr>\n",
              "  </thead>\n",
              "  <tbody>\n",
              "    <tr>\n",
              "      <th>1</th>\n",
              "      <td>0.750000</td>\n",
              "      <td>0.383721</td>\n",
              "      <td>0.507692</td>\n",
              "      <td>344.000000</td>\n",
              "    </tr>\n",
              "    <tr>\n",
              "      <th>2</th>\n",
              "      <td>0.632258</td>\n",
              "      <td>0.927445</td>\n",
              "      <td>0.751918</td>\n",
              "      <td>317.000000</td>\n",
              "    </tr>\n",
              "    <tr>\n",
              "      <th>3</th>\n",
              "      <td>0.850746</td>\n",
              "      <td>0.633333</td>\n",
              "      <td>0.726115</td>\n",
              "      <td>270.000000</td>\n",
              "    </tr>\n",
              "    <tr>\n",
              "      <th>4</th>\n",
              "      <td>0.876289</td>\n",
              "      <td>0.464481</td>\n",
              "      <td>0.607143</td>\n",
              "      <td>366.000000</td>\n",
              "    </tr>\n",
              "    <tr>\n",
              "      <th>5</th>\n",
              "      <td>0.782297</td>\n",
              "      <td>0.867374</td>\n",
              "      <td>0.822642</td>\n",
              "      <td>377.000000</td>\n",
              "    </tr>\n",
              "    <tr>\n",
              "      <th>6</th>\n",
              "      <td>0.618812</td>\n",
              "      <td>0.971503</td>\n",
              "      <td>0.756048</td>\n",
              "      <td>386.000000</td>\n",
              "    </tr>\n",
              "    <tr>\n",
              "      <th>accuracy</th>\n",
              "      <td>0.713107</td>\n",
              "      <td>0.713107</td>\n",
              "      <td>0.713107</td>\n",
              "      <td>0.713107</td>\n",
              "    </tr>\n",
              "    <tr>\n",
              "      <th>macro avg</th>\n",
              "      <td>0.751734</td>\n",
              "      <td>0.707976</td>\n",
              "      <td>0.695260</td>\n",
              "      <td>2060.000000</td>\n",
              "    </tr>\n",
              "    <tr>\n",
              "      <th>weighted avg</th>\n",
              "      <td>0.748853</td>\n",
              "      <td>0.713107</td>\n",
              "      <td>0.695748</td>\n",
              "      <td>2060.000000</td>\n",
              "    </tr>\n",
              "  </tbody>\n",
              "</table>\n",
              "</div>"
            ],
            "text/plain": [
              "              precision    recall  f1-score      support\n",
              "1              0.750000  0.383721  0.507692   344.000000\n",
              "2              0.632258  0.927445  0.751918   317.000000\n",
              "3              0.850746  0.633333  0.726115   270.000000\n",
              "4              0.876289  0.464481  0.607143   366.000000\n",
              "5              0.782297  0.867374  0.822642   377.000000\n",
              "6              0.618812  0.971503  0.756048   386.000000\n",
              "accuracy       0.713107  0.713107  0.713107     0.713107\n",
              "macro avg      0.751734  0.707976  0.695260  2060.000000\n",
              "weighted avg   0.748853  0.713107  0.695748  2060.000000"
            ]
          },
          "metadata": {},
          "output_type": "display_data"
        },
        {
          "name": "stdout",
          "output_type": "stream",
          "text": [
            "\n",
            "\n",
            "For fold no: 3\n",
            "\n",
            "Accuracy on training data: 0.6940162641097221\n",
            "Testing Accuracy Score: 69.12621359223301\n",
            "Confusion Matrix : \n",
            "\n"
          ]
        },
        {
          "data": {
            "image/png": "[encoded data removed]",
            "text/plain": [
              "<Figure size 720x504 with 2 Axes>"
            ]
          },
          "metadata": {},
          "output_type": "display_data"
        },
        {
          "name": "stdout",
          "output_type": "stream",
          "text": [
            "Classification Report : \n"
          ]
        },
        {
          "data": {
            "text/html": [
              "<div>\n",
              "<style scoped>\n",
              "    .dataframe tbody tr th:only-of-type {\n",
              "        vertical-align: middle;\n",
              "    }\n",
              "\n",
              "    .dataframe tbody tr th {\n",
              "        vertical-align: top;\n",
              "    }\n",
              "\n",
              "    .dataframe thead th {\n",
              "        text-align: right;\n",
              "    }\n",
              "</style>\n",
              "<table border=\"1\" class=\"dataframe\">\n",
              "  <thead>\n",
              "    <tr style=\"text-align: right;\">\n",
              "      <th></th>\n",
              "      <th>precision</th>\n",
              "      <th>recall</th>\n",
              "      <th>f1-score</th>\n",
              "      <th>support</th>\n",
              "    </tr>\n",
              "  </thead>\n",
              "  <tbody>\n",
              "    <tr>\n",
              "      <th>1</th>\n",
              "      <td>0.707602</td>\n",
              "      <td>0.314286</td>\n",
              "      <td>0.435252</td>\n",
              "      <td>385.000000</td>\n",
              "    </tr>\n",
              "    <tr>\n",
              "      <th>2</th>\n",
              "      <td>0.581162</td>\n",
              "      <td>0.903427</td>\n",
              "      <td>0.707317</td>\n",
              "      <td>321.000000</td>\n",
              "    </tr>\n",
              "    <tr>\n",
              "      <th>3</th>\n",
              "      <td>0.798122</td>\n",
              "      <td>0.643939</td>\n",
              "      <td>0.712788</td>\n",
              "      <td>264.000000</td>\n",
              "    </tr>\n",
              "    <tr>\n",
              "      <th>4</th>\n",
              "      <td>0.830688</td>\n",
              "      <td>0.490625</td>\n",
              "      <td>0.616896</td>\n",
              "      <td>320.000000</td>\n",
              "    </tr>\n",
              "    <tr>\n",
              "      <th>5</th>\n",
              "      <td>0.847222</td>\n",
              "      <td>0.824324</td>\n",
              "      <td>0.835616</td>\n",
              "      <td>370.000000</td>\n",
              "    </tr>\n",
              "    <tr>\n",
              "      <th>6</th>\n",
              "      <td>0.606688</td>\n",
              "      <td>0.952500</td>\n",
              "      <td>0.741245</td>\n",
              "      <td>400.000000</td>\n",
              "    </tr>\n",
              "    <tr>\n",
              "      <th>accuracy</th>\n",
              "      <td>0.691262</td>\n",
              "      <td>0.691262</td>\n",
              "      <td>0.691262</td>\n",
              "      <td>0.691262</td>\n",
              "    </tr>\n",
              "    <tr>\n",
              "      <th>macro avg</th>\n",
              "      <td>0.728581</td>\n",
              "      <td>0.688184</td>\n",
              "      <td>0.674852</td>\n",
              "      <td>2060.000000</td>\n",
              "    </tr>\n",
              "    <tr>\n",
              "      <th>weighted avg</th>\n",
              "      <td>0.724103</td>\n",
              "      <td>0.691262</td>\n",
              "      <td>0.672757</td>\n",
              "      <td>2060.000000</td>\n",
              "    </tr>\n",
              "  </tbody>\n",
              "</table>\n",
              "</div>"
            ],
            "text/plain": [
              "              precision    recall  f1-score      support\n",
              "1              0.707602  0.314286  0.435252   385.000000\n",
              "2              0.581162  0.903427  0.707317   321.000000\n",
              "3              0.798122  0.643939  0.712788   264.000000\n",
              "4              0.830688  0.490625  0.616896   320.000000\n",
              "5              0.847222  0.824324  0.835616   370.000000\n",
              "6              0.606688  0.952500  0.741245   400.000000\n",
              "accuracy       0.691262  0.691262  0.691262     0.691262\n",
              "macro avg      0.728581  0.688184  0.674852  2060.000000\n",
              "weighted avg   0.724103  0.691262  0.672757  2060.000000"
            ]
          },
          "metadata": {},
          "output_type": "display_data"
        },
        {
          "name": "stdout",
          "output_type": "stream",
          "text": [
            "\n",
            "\n",
            "For fold no: 4\n",
            "\n",
            "Accuracy on training data: 0.6949872557349193\n",
            "Testing Accuracy Score: 68.73786407766991\n",
            "Confusion Matrix : \n",
            "\n"
          ]
        },
        {
          "data": {
            "image/png": "[encoded data removed]",
            "text/plain": [
              "<Figure size 720x504 with 2 Axes>"
            ]
          },
          "metadata": {},
          "output_type": "display_data"
        },
        {
          "name": "stdout",
          "output_type": "stream",
          "text": [
            "Classification Report : \n"
          ]
        },
        {
          "data": {
            "text/html": [
              "<div>\n",
              "<style scoped>\n",
              "    .dataframe tbody tr th:only-of-type {\n",
              "        vertical-align: middle;\n",
              "    }\n",
              "\n",
              "    .dataframe tbody tr th {\n",
              "        vertical-align: top;\n",
              "    }\n",
              "\n",
              "    .dataframe thead th {\n",
              "        text-align: right;\n",
              "    }\n",
              "</style>\n",
              "<table border=\"1\" class=\"dataframe\">\n",
              "  <thead>\n",
              "    <tr style=\"text-align: right;\">\n",
              "      <th></th>\n",
              "      <th>precision</th>\n",
              "      <th>recall</th>\n",
              "      <th>f1-score</th>\n",
              "      <th>support</th>\n",
              "    </tr>\n",
              "  </thead>\n",
              "  <tbody>\n",
              "    <tr>\n",
              "      <th>1</th>\n",
              "      <td>0.694268</td>\n",
              "      <td>0.312321</td>\n",
              "      <td>0.430830</td>\n",
              "      <td>349.000000</td>\n",
              "    </tr>\n",
              "    <tr>\n",
              "      <th>2</th>\n",
              "      <td>0.571734</td>\n",
              "      <td>0.898990</td>\n",
              "      <td>0.698953</td>\n",
              "      <td>297.000000</td>\n",
              "    </tr>\n",
              "    <tr>\n",
              "      <th>3</th>\n",
              "      <td>0.793578</td>\n",
              "      <td>0.636029</td>\n",
              "      <td>0.706122</td>\n",
              "      <td>272.000000</td>\n",
              "    </tr>\n",
              "    <tr>\n",
              "      <th>4</th>\n",
              "      <td>0.835052</td>\n",
              "      <td>0.469565</td>\n",
              "      <td>0.601113</td>\n",
              "      <td>345.000000</td>\n",
              "    </tr>\n",
              "    <tr>\n",
              "      <th>5</th>\n",
              "      <td>0.813433</td>\n",
              "      <td>0.829949</td>\n",
              "      <td>0.821608</td>\n",
              "      <td>394.000000</td>\n",
              "    </tr>\n",
              "    <tr>\n",
              "      <th>6</th>\n",
              "      <td>0.607717</td>\n",
              "      <td>0.937965</td>\n",
              "      <td>0.737561</td>\n",
              "      <td>403.000000</td>\n",
              "    </tr>\n",
              "    <tr>\n",
              "      <th>accuracy</th>\n",
              "      <td>0.687379</td>\n",
              "      <td>0.687379</td>\n",
              "      <td>0.687379</td>\n",
              "      <td>0.687379</td>\n",
              "    </tr>\n",
              "    <tr>\n",
              "      <th>macro avg</th>\n",
              "      <td>0.719297</td>\n",
              "      <td>0.680803</td>\n",
              "      <td>0.666031</td>\n",
              "      <td>2060.000000</td>\n",
              "    </tr>\n",
              "    <tr>\n",
              "      <th>weighted avg</th>\n",
              "      <td>0.719152</td>\n",
              "      <td>0.687379</td>\n",
              "      <td>0.669101</td>\n",
              "      <td>2060.000000</td>\n",
              "    </tr>\n",
              "  </tbody>\n",
              "</table>\n",
              "</div>"
            ],
            "text/plain": [
              "              precision    recall  f1-score      support\n",
              "1              0.694268  0.312321  0.430830   349.000000\n",
              "2              0.571734  0.898990  0.698953   297.000000\n",
              "3              0.793578  0.636029  0.706122   272.000000\n",
              "4              0.835052  0.469565  0.601113   345.000000\n",
              "5              0.813433  0.829949  0.821608   394.000000\n",
              "6              0.607717  0.937965  0.737561   403.000000\n",
              "accuracy       0.687379  0.687379  0.687379     0.687379\n",
              "macro avg      0.719297  0.680803  0.666031  2060.000000\n",
              "weighted avg   0.719152  0.687379  0.669101  2060.000000"
            ]
          },
          "metadata": {},
          "output_type": "display_data"
        },
        {
          "name": "stdout",
          "output_type": "stream",
          "text": [
            "\n",
            "\n",
            "For fold no: 5\n",
            "\n",
            "Accuracy on training data: 0.695631067961165\n",
            "Testing Accuracy Score: 68.47984458474988\n",
            "Confusion Matrix : \n",
            "\n"
          ]
        },
        {
          "data": {
            "image/png": "[encoded data removed]",
            "text/plain": [
              "<Figure size 720x504 with 2 Axes>"
            ]
          },
          "metadata": {},
          "output_type": "display_data"
        },
        {
          "name": "stdout",
          "output_type": "stream",
          "text": [
            "Classification Report : \n"
          ]
        },
        {
          "data": {
            "text/html": [
              "<div>\n",
              "<style scoped>\n",
              "    .dataframe tbody tr th:only-of-type {\n",
              "        vertical-align: middle;\n",
              "    }\n",
              "\n",
              "    .dataframe tbody tr th {\n",
              "        vertical-align: top;\n",
              "    }\n",
              "\n",
              "    .dataframe thead th {\n",
              "        text-align: right;\n",
              "    }\n",
              "</style>\n",
              "<table border=\"1\" class=\"dataframe\">\n",
              "  <thead>\n",
              "    <tr style=\"text-align: right;\">\n",
              "      <th></th>\n",
              "      <th>precision</th>\n",
              "      <th>recall</th>\n",
              "      <th>f1-score</th>\n",
              "      <th>support</th>\n",
              "    </tr>\n",
              "  </thead>\n",
              "  <tbody>\n",
              "    <tr>\n",
              "      <th>1</th>\n",
              "      <td>0.691358</td>\n",
              "      <td>0.339394</td>\n",
              "      <td>0.455285</td>\n",
              "      <td>330.000000</td>\n",
              "    </tr>\n",
              "    <tr>\n",
              "      <th>2</th>\n",
              "      <td>0.591753</td>\n",
              "      <td>0.894081</td>\n",
              "      <td>0.712159</td>\n",
              "      <td>321.000000</td>\n",
              "    </tr>\n",
              "    <tr>\n",
              "      <th>3</th>\n",
              "      <td>0.859223</td>\n",
              "      <td>0.602041</td>\n",
              "      <td>0.708000</td>\n",
              "      <td>294.000000</td>\n",
              "    </tr>\n",
              "    <tr>\n",
              "      <th>4</th>\n",
              "      <td>0.870192</td>\n",
              "      <td>0.481383</td>\n",
              "      <td>0.619863</td>\n",
              "      <td>376.000000</td>\n",
              "    </tr>\n",
              "    <tr>\n",
              "      <th>5</th>\n",
              "      <td>0.805333</td>\n",
              "      <td>0.809651</td>\n",
              "      <td>0.807487</td>\n",
              "      <td>373.000000</td>\n",
              "    </tr>\n",
              "    <tr>\n",
              "      <th>6</th>\n",
              "      <td>0.563403</td>\n",
              "      <td>0.961644</td>\n",
              "      <td>0.710526</td>\n",
              "      <td>365.000000</td>\n",
              "    </tr>\n",
              "    <tr>\n",
              "      <th>accuracy</th>\n",
              "      <td>0.684798</td>\n",
              "      <td>0.684798</td>\n",
              "      <td>0.684798</td>\n",
              "      <td>0.684798</td>\n",
              "    </tr>\n",
              "    <tr>\n",
              "      <th>macro avg</th>\n",
              "      <td>0.730210</td>\n",
              "      <td>0.681366</td>\n",
              "      <td>0.668887</td>\n",
              "      <td>2059.000000</td>\n",
              "    </tr>\n",
              "    <tr>\n",
              "      <th>weighted avg</th>\n",
              "      <td>0.730421</td>\n",
              "      <td>0.684798</td>\n",
              "      <td>0.670521</td>\n",
              "      <td>2059.000000</td>\n",
              "    </tr>\n",
              "  </tbody>\n",
              "</table>\n",
              "</div>"
            ],
            "text/plain": [
              "              precision    recall  f1-score      support\n",
              "1              0.691358  0.339394  0.455285   330.000000\n",
              "2              0.591753  0.894081  0.712159   321.000000\n",
              "3              0.859223  0.602041  0.708000   294.000000\n",
              "4              0.870192  0.481383  0.619863   376.000000\n",
              "5              0.805333  0.809651  0.807487   373.000000\n",
              "6              0.563403  0.961644  0.710526   365.000000\n",
              "accuracy       0.684798  0.684798  0.684798     0.684798\n",
              "macro avg      0.730210  0.681366  0.668887  2059.000000\n",
              "weighted avg   0.730421  0.684798  0.670521  2059.000000"
            ]
          },
          "metadata": {},
          "output_type": "display_data"
        },
        {
          "name": "stdout",
          "output_type": "stream",
          "text": [
            "\n"
          ]
        }
      ]
    },
    {
      "cell_type": "markdown",
      "metadata": {
        "id": "DuG8UdrXmGAH"
      },
      "source": [
        "."
      ]
    },
    {
      "cell_type": "markdown",
      "metadata": {
        "id": "PwBlOX5PmBcl"
      },
      "source": [
        "###(4) MLP (Multi Layer Perceptron)"
      ]
    },
    {
      "cell_type": "code",
      "metadata": {
        "colab": {
          "background_save": true,
          "base_uri": "https://localhost:8080/",
          "height": 1000
        },
        "id": "CpG9FmS9j0cE",
        "outputId": "5c9521da-b713-4935-d5a0-6432355eec10"
      },
      "source": [
        "for i in range(0, 5): \n",
        "  \n",
        "  print(\"\\nFor fold no:\", i+1)\n",
        "  print()\n",
        "  \n",
        "  mlp = MLPClassifier(hidden_layer_sizes=(100), activation='relu',solver='lbfgs', random_state=1, max_iter=1000).fit(all_x_train[0], all_y_train[0])\n",
        "  mlp.predict(all_x_train[0])\n",
        "  \n",
        "  print(\"Accuracy on training data: \" + str(mlp.score(all_x_train[i], all_y_train[i])))\n",
        "  predicted = mlp.predict(all_x_test[i])\n",
        "\n",
        "  print(\"Testing Accuracy Score: \" + str(accuracy_score(all_y_test[i], predicted)))\n",
        "  \n",
        "  print('Confusion Matrix : \\n')\n",
        "  array=confusion_matrix(all_y_test[i], predicted)\n",
        "  df_cm = pd.DataFrame(array, index = [i for i in \"012345\"],columns = [i for i in \"012345\"])\n",
        "  plt.figure(figsize = (10,7))\n",
        "  sns.heatmap(df_cm, annot=True)\n",
        "  plt.show()\n",
        "\n",
        "  print(\"Classification Report : \")\n",
        "  labels = [1,2,3,4,5,6]\n",
        "  report = classification_report(all_y_test[i], predicted, labels=labels, digits=5, output_dict=True)\n",
        "  fi = pd.DataFrame(report).transpose()\n",
        "  fi.to_csv('result.csv', mode='a', header=False)\n",
        "  display(fi)\n",
        "  print()"
      ],
      "execution_count": null,
      "outputs": [
        {
          "name": "stdout",
          "output_type": "stream",
          "text": [
            "\n",
            "For fold no: 1\n",
            "\n",
            "Accuracy on training data: 0.9705061293846341\n",
            "Testing Accuracy Score: 0.9199029126213593\n",
            "Confusion Matrix : \n",
            "\n"
          ]
        },
        {
          "data": {
            "image/png": "[encoded data removed]",
            "text/plain": [
              "<Figure size 720x504 with 2 Axes>"
            ]
          },
          "metadata": {},
          "output_type": "display_data"
        },
        {
          "name": "stdout",
          "output_type": "stream",
          "text": [
            "Classification Report : \n"
          ]
        },
        {
          "data": {
            "text/html": [
              "<div>\n",
              "<style scoped>\n",
              "    .dataframe tbody tr th:only-of-type {\n",
              "        vertical-align: middle;\n",
              "    }\n",
              "\n",
              "    .dataframe tbody tr th {\n",
              "        vertical-align: top;\n",
              "    }\n",
              "\n",
              "    .dataframe thead th {\n",
              "        text-align: right;\n",
              "    }\n",
              "</style>\n",
              "<table border=\"1\" class=\"dataframe\">\n",
              "  <thead>\n",
              "    <tr style=\"text-align: right;\">\n",
              "      <th></th>\n",
              "      <th>precision</th>\n",
              "      <th>recall</th>\n",
              "      <th>f1-score</th>\n",
              "      <th>support</th>\n",
              "    </tr>\n",
              "  </thead>\n",
              "  <tbody>\n",
              "    <tr>\n",
              "      <th>1</th>\n",
              "      <td>0.892966</td>\n",
              "      <td>0.929936</td>\n",
              "      <td>0.911076</td>\n",
              "      <td>314.000000</td>\n",
              "    </tr>\n",
              "    <tr>\n",
              "      <th>2</th>\n",
              "      <td>0.930314</td>\n",
              "      <td>0.927083</td>\n",
              "      <td>0.928696</td>\n",
              "      <td>288.000000</td>\n",
              "    </tr>\n",
              "    <tr>\n",
              "      <th>3</th>\n",
              "      <td>0.938983</td>\n",
              "      <td>0.905229</td>\n",
              "      <td>0.921797</td>\n",
              "      <td>306.000000</td>\n",
              "    </tr>\n",
              "    <tr>\n",
              "      <th>4</th>\n",
              "      <td>0.881868</td>\n",
              "      <td>0.867568</td>\n",
              "      <td>0.874659</td>\n",
              "      <td>370.000000</td>\n",
              "    </tr>\n",
              "    <tr>\n",
              "      <th>5</th>\n",
              "      <td>0.876884</td>\n",
              "      <td>0.890306</td>\n",
              "      <td>0.883544</td>\n",
              "      <td>392.000000</td>\n",
              "    </tr>\n",
              "    <tr>\n",
              "      <th>6</th>\n",
              "      <td>1.000000</td>\n",
              "      <td>0.997436</td>\n",
              "      <td>0.998716</td>\n",
              "      <td>390.000000</td>\n",
              "    </tr>\n",
              "    <tr>\n",
              "      <th>accuracy</th>\n",
              "      <td>0.919903</td>\n",
              "      <td>0.919903</td>\n",
              "      <td>0.919903</td>\n",
              "      <td>0.919903</td>\n",
              "    </tr>\n",
              "    <tr>\n",
              "      <th>macro avg</th>\n",
              "      <td>0.920169</td>\n",
              "      <td>0.919593</td>\n",
              "      <td>0.919748</td>\n",
              "      <td>2060.000000</td>\n",
              "    </tr>\n",
              "    <tr>\n",
              "      <th>weighted avg</th>\n",
              "      <td>0.920233</td>\n",
              "      <td>0.919903</td>\n",
              "      <td>0.919944</td>\n",
              "      <td>2060.000000</td>\n",
              "    </tr>\n",
              "  </tbody>\n",
              "</table>\n",
              "</div>"
            ],
            "text/plain": [
              "              precision    recall  f1-score      support\n",
              "1              0.892966  0.929936  0.911076   314.000000\n",
              "2              0.930314  0.927083  0.928696   288.000000\n",
              "3              0.938983  0.905229  0.921797   306.000000\n",
              "4              0.881868  0.867568  0.874659   370.000000\n",
              "5              0.876884  0.890306  0.883544   392.000000\n",
              "6              1.000000  0.997436  0.998716   390.000000\n",
              "accuracy       0.919903  0.919903  0.919903     0.919903\n",
              "macro avg      0.920169  0.919593  0.919748  2060.000000\n",
              "weighted avg   0.920233  0.919903  0.919944  2060.000000"
            ]
          },
          "metadata": {},
          "output_type": "display_data"
        },
        {
          "name": "stdout",
          "output_type": "stream",
          "text": [
            "\n",
            "\n",
            "For fold no: 2\n",
            "\n",
            "Accuracy on training data: 0.9577618643039204\n",
            "Testing Accuracy Score: 0.970873786407767\n",
            "Confusion Matrix : \n",
            "\n"
          ]
        },
        {
          "data": {
            "image/png": "[encoded data removed]",
            "text/plain": [
              "<Figure size 720x504 with 2 Axes>"
            ]
          },
          "metadata": {},
          "output_type": "display_data"
        },
        {
          "name": "stdout",
          "output_type": "stream",
          "text": [
            "Classification Report : \n"
          ]
        },
        {
          "data": {
            "text/html": [
              "<div>\n",
              "<style scoped>\n",
              "    .dataframe tbody tr th:only-of-type {\n",
              "        vertical-align: middle;\n",
              "    }\n",
              "\n",
              "    .dataframe tbody tr th {\n",
              "        vertical-align: top;\n",
              "    }\n",
              "\n",
              "    .dataframe thead th {\n",
              "        text-align: right;\n",
              "    }\n",
              "</style>\n",
              "<table border=\"1\" class=\"dataframe\">\n",
              "  <thead>\n",
              "    <tr style=\"text-align: right;\">\n",
              "      <th></th>\n",
              "      <th>precision</th>\n",
              "      <th>recall</th>\n",
              "      <th>f1-score</th>\n",
              "      <th>support</th>\n",
              "    </tr>\n",
              "  </thead>\n",
              "  <tbody>\n",
              "    <tr>\n",
              "      <th>1</th>\n",
              "      <td>1.000000</td>\n",
              "      <td>1.000000</td>\n",
              "      <td>1.000000</td>\n",
              "      <td>344.000000</td>\n",
              "    </tr>\n",
              "    <tr>\n",
              "      <th>2</th>\n",
              "      <td>1.000000</td>\n",
              "      <td>1.000000</td>\n",
              "      <td>1.000000</td>\n",
              "      <td>317.000000</td>\n",
              "    </tr>\n",
              "    <tr>\n",
              "      <th>3</th>\n",
              "      <td>1.000000</td>\n",
              "      <td>1.000000</td>\n",
              "      <td>1.000000</td>\n",
              "      <td>270.000000</td>\n",
              "    </tr>\n",
              "    <tr>\n",
              "      <th>4</th>\n",
              "      <td>0.932203</td>\n",
              "      <td>0.901639</td>\n",
              "      <td>0.916667</td>\n",
              "      <td>366.000000</td>\n",
              "    </tr>\n",
              "    <tr>\n",
              "      <th>5</th>\n",
              "      <td>0.907455</td>\n",
              "      <td>0.936340</td>\n",
              "      <td>0.921671</td>\n",
              "      <td>377.000000</td>\n",
              "    </tr>\n",
              "    <tr>\n",
              "      <th>6</th>\n",
              "      <td>1.000000</td>\n",
              "      <td>1.000000</td>\n",
              "      <td>1.000000</td>\n",
              "      <td>386.000000</td>\n",
              "    </tr>\n",
              "    <tr>\n",
              "      <th>accuracy</th>\n",
              "      <td>0.970874</td>\n",
              "      <td>0.970874</td>\n",
              "      <td>0.970874</td>\n",
              "      <td>0.970874</td>\n",
              "    </tr>\n",
              "    <tr>\n",
              "      <th>macro avg</th>\n",
              "      <td>0.973276</td>\n",
              "      <td>0.972996</td>\n",
              "      <td>0.973056</td>\n",
              "      <td>2060.000000</td>\n",
              "    </tr>\n",
              "    <tr>\n",
              "      <th>weighted avg</th>\n",
              "      <td>0.971018</td>\n",
              "      <td>0.970874</td>\n",
              "      <td>0.970859</td>\n",
              "      <td>2060.000000</td>\n",
              "    </tr>\n",
              "  </tbody>\n",
              "</table>\n",
              "</div>"
            ],
            "text/plain": [
              "              precision    recall  f1-score      support\n",
              "1              1.000000  1.000000  1.000000   344.000000\n",
              "2              1.000000  1.000000  1.000000   317.000000\n",
              "3              1.000000  1.000000  1.000000   270.000000\n",
              "4              0.932203  0.901639  0.916667   366.000000\n",
              "5              0.907455  0.936340  0.921671   377.000000\n",
              "6              1.000000  1.000000  1.000000   386.000000\n",
              "accuracy       0.970874  0.970874  0.970874     0.970874\n",
              "macro avg      0.973276  0.972996  0.973056  2060.000000\n",
              "weighted avg   0.971018  0.970874  0.970859  2060.000000"
            ]
          },
          "metadata": {},
          "output_type": "display_data"
        },
        {
          "name": "stdout",
          "output_type": "stream",
          "text": [
            "\n",
            "\n",
            "For fold no: 3\n",
            "\n",
            "Accuracy on training data: 0.9571549945381721\n",
            "Testing Accuracy Score: 0.9733009708737864\n",
            "Confusion Matrix : \n",
            "\n"
          ]
        },
        {
          "data": {
            "image/png": "[encoded data removed]",
            "text/plain": [
              "<Figure size 720x504 with 2 Axes>"
            ]
          },
          "metadata": {},
          "output_type": "display_data"
        },
        {
          "name": "stdout",
          "output_type": "stream",
          "text": [
            "Classification Report : \n"
          ]
        },
        {
          "data": {
            "text/html": [
              "<div>\n",
              "<style scoped>\n",
              "    .dataframe tbody tr th:only-of-type {\n",
              "        vertical-align: middle;\n",
              "    }\n",
              "\n",
              "    .dataframe tbody tr th {\n",
              "        vertical-align: top;\n",
              "    }\n",
              "\n",
              "    .dataframe thead th {\n",
              "        text-align: right;\n",
              "    }\n",
              "</style>\n",
              "<table border=\"1\" class=\"dataframe\">\n",
              "  <thead>\n",
              "    <tr style=\"text-align: right;\">\n",
              "      <th></th>\n",
              "      <th>precision</th>\n",
              "      <th>recall</th>\n",
              "      <th>f1-score</th>\n",
              "      <th>support</th>\n",
              "    </tr>\n",
              "  </thead>\n",
              "  <tbody>\n",
              "    <tr>\n",
              "      <th>1</th>\n",
              "      <td>0.997409</td>\n",
              "      <td>1.000000</td>\n",
              "      <td>0.998703</td>\n",
              "      <td>385.000000</td>\n",
              "    </tr>\n",
              "    <tr>\n",
              "      <th>2</th>\n",
              "      <td>0.996894</td>\n",
              "      <td>1.000000</td>\n",
              "      <td>0.998445</td>\n",
              "      <td>321.000000</td>\n",
              "    </tr>\n",
              "    <tr>\n",
              "      <th>3</th>\n",
              "      <td>1.000000</td>\n",
              "      <td>0.992424</td>\n",
              "      <td>0.996198</td>\n",
              "      <td>264.000000</td>\n",
              "    </tr>\n",
              "    <tr>\n",
              "      <th>4</th>\n",
              "      <td>0.926518</td>\n",
              "      <td>0.906250</td>\n",
              "      <td>0.916272</td>\n",
              "      <td>320.000000</td>\n",
              "    </tr>\n",
              "    <tr>\n",
              "      <th>5</th>\n",
              "      <td>0.920424</td>\n",
              "      <td>0.937838</td>\n",
              "      <td>0.929050</td>\n",
              "      <td>370.000000</td>\n",
              "    </tr>\n",
              "    <tr>\n",
              "      <th>6</th>\n",
              "      <td>1.000000</td>\n",
              "      <td>1.000000</td>\n",
              "      <td>1.000000</td>\n",
              "      <td>400.000000</td>\n",
              "    </tr>\n",
              "    <tr>\n",
              "      <th>accuracy</th>\n",
              "      <td>0.973301</td>\n",
              "      <td>0.973301</td>\n",
              "      <td>0.973301</td>\n",
              "      <td>0.973301</td>\n",
              "    </tr>\n",
              "    <tr>\n",
              "      <th>macro avg</th>\n",
              "      <td>0.973541</td>\n",
              "      <td>0.972752</td>\n",
              "      <td>0.973111</td>\n",
              "      <td>2060.000000</td>\n",
              "    </tr>\n",
              "    <tr>\n",
              "      <th>weighted avg</th>\n",
              "      <td>0.973324</td>\n",
              "      <td>0.973301</td>\n",
              "      <td>0.973278</td>\n",
              "      <td>2060.000000</td>\n",
              "    </tr>\n",
              "  </tbody>\n",
              "</table>\n",
              "</div>"
            ],
            "text/plain": [
              "              precision    recall  f1-score      support\n",
              "1              0.997409  1.000000  0.998703   385.000000\n",
              "2              0.996894  1.000000  0.998445   321.000000\n",
              "3              1.000000  0.992424  0.996198   264.000000\n",
              "4              0.926518  0.906250  0.916272   320.000000\n",
              "5              0.920424  0.937838  0.929050   370.000000\n",
              "6              1.000000  1.000000  1.000000   400.000000\n",
              "accuracy       0.973301  0.973301  0.973301     0.973301\n",
              "macro avg      0.973541  0.972752  0.973111  2060.000000\n",
              "weighted avg   0.973324  0.973301  0.973278  2060.000000"
            ]
          },
          "metadata": {},
          "output_type": "display_data"
        },
        {
          "name": "stdout",
          "output_type": "stream",
          "text": [
            "\n",
            "\n",
            "For fold no: 4\n",
            "\n",
            "Accuracy on training data: 0.9590969777885666\n",
            "Testing Accuracy Score: 0.9655339805825243\n",
            "Confusion Matrix : \n",
            "\n"
          ]
        },
        {
          "data": {
            "image/png": "[encoded data removed]",
            "text/plain": [
              "<Figure size 720x504 with 2 Axes>"
            ]
          },
          "metadata": {},
          "output_type": "display_data"
        },
        {
          "name": "stdout",
          "output_type": "stream",
          "text": [
            "Classification Report : \n"
          ]
        },
        {
          "data": {
            "text/html": [
              "<div>\n",
              "<style scoped>\n",
              "    .dataframe tbody tr th:only-of-type {\n",
              "        vertical-align: middle;\n",
              "    }\n",
              "\n",
              "    .dataframe tbody tr th {\n",
              "        vertical-align: top;\n",
              "    }\n",
              "\n",
              "    .dataframe thead th {\n",
              "        text-align: right;\n",
              "    }\n",
              "</style>\n",
              "<table border=\"1\" class=\"dataframe\">\n",
              "  <thead>\n",
              "    <tr style=\"text-align: right;\">\n",
              "      <th></th>\n",
              "      <th>precision</th>\n",
              "      <th>recall</th>\n",
              "      <th>f1-score</th>\n",
              "      <th>support</th>\n",
              "    </tr>\n",
              "  </thead>\n",
              "  <tbody>\n",
              "    <tr>\n",
              "      <th>1</th>\n",
              "      <td>0.991429</td>\n",
              "      <td>0.994269</td>\n",
              "      <td>0.992847</td>\n",
              "      <td>349.000000</td>\n",
              "    </tr>\n",
              "    <tr>\n",
              "      <th>2</th>\n",
              "      <td>0.996633</td>\n",
              "      <td>0.996633</td>\n",
              "      <td>0.996633</td>\n",
              "      <td>297.000000</td>\n",
              "    </tr>\n",
              "    <tr>\n",
              "      <th>3</th>\n",
              "      <td>0.996310</td>\n",
              "      <td>0.992647</td>\n",
              "      <td>0.994475</td>\n",
              "      <td>272.000000</td>\n",
              "    </tr>\n",
              "    <tr>\n",
              "      <th>4</th>\n",
              "      <td>0.916418</td>\n",
              "      <td>0.889855</td>\n",
              "      <td>0.902941</td>\n",
              "      <td>345.000000</td>\n",
              "    </tr>\n",
              "    <tr>\n",
              "      <th>5</th>\n",
              "      <td>0.905941</td>\n",
              "      <td>0.928934</td>\n",
              "      <td>0.917293</td>\n",
              "      <td>394.000000</td>\n",
              "    </tr>\n",
              "    <tr>\n",
              "      <th>6</th>\n",
              "      <td>1.000000</td>\n",
              "      <td>1.000000</td>\n",
              "      <td>1.000000</td>\n",
              "      <td>403.000000</td>\n",
              "    </tr>\n",
              "    <tr>\n",
              "      <th>accuracy</th>\n",
              "      <td>0.965534</td>\n",
              "      <td>0.965534</td>\n",
              "      <td>0.965534</td>\n",
              "      <td>0.965534</td>\n",
              "    </tr>\n",
              "    <tr>\n",
              "      <th>macro avg</th>\n",
              "      <td>0.967788</td>\n",
              "      <td>0.967056</td>\n",
              "      <td>0.967365</td>\n",
              "      <td>2060.000000</td>\n",
              "    </tr>\n",
              "    <tr>\n",
              "      <th>weighted avg</th>\n",
              "      <td>0.965587</td>\n",
              "      <td>0.965534</td>\n",
              "      <td>0.965500</td>\n",
              "      <td>2060.000000</td>\n",
              "    </tr>\n",
              "  </tbody>\n",
              "</table>\n",
              "</div>"
            ],
            "text/plain": [
              "              precision    recall  f1-score      support\n",
              "1              0.991429  0.994269  0.992847   349.000000\n",
              "2              0.996633  0.996633  0.996633   297.000000\n",
              "3              0.996310  0.992647  0.994475   272.000000\n",
              "4              0.916418  0.889855  0.902941   345.000000\n",
              "5              0.905941  0.928934  0.917293   394.000000\n",
              "6              1.000000  1.000000  1.000000   403.000000\n",
              "accuracy       0.965534  0.965534  0.965534     0.965534\n",
              "macro avg      0.967788  0.967056  0.967365  2060.000000\n",
              "weighted avg   0.965587  0.965534  0.965500  2060.000000"
            ]
          },
          "metadata": {},
          "output_type": "display_data"
        },
        {
          "name": "stdout",
          "output_type": "stream",
          "text": [
            "\n",
            "\n",
            "For fold no: 5\n",
            "\n",
            "Accuracy on training data: 0.9574029126213592\n",
            "Testing Accuracy Score: 0.9723166585721223\n",
            "Confusion Matrix : \n",
            "\n"
          ]
        },
        {
          "data": {
            "image/png": "[encoded data removed]",
            "text/plain": [
              "<Figure size 720x504 with 2 Axes>"
            ]
          },
          "metadata": {},
          "output_type": "display_data"
        },
        {
          "name": "stdout",
          "output_type": "stream",
          "text": [
            "Classification Report : \n"
          ]
        },
        {
          "data": {
            "text/html": [
              "<div>\n",
              "<style scoped>\n",
              "    .dataframe tbody tr th:only-of-type {\n",
              "        vertical-align: middle;\n",
              "    }\n",
              "\n",
              "    .dataframe tbody tr th {\n",
              "        vertical-align: top;\n",
              "    }\n",
              "\n",
              "    .dataframe thead th {\n",
              "        text-align: right;\n",
              "    }\n",
              "</style>\n",
              "<table border=\"1\" class=\"dataframe\">\n",
              "  <thead>\n",
              "    <tr style=\"text-align: right;\">\n",
              "      <th></th>\n",
              "      <th>precision</th>\n",
              "      <th>recall</th>\n",
              "      <th>f1-score</th>\n",
              "      <th>support</th>\n",
              "    </tr>\n",
              "  </thead>\n",
              "  <tbody>\n",
              "    <tr>\n",
              "      <th>1</th>\n",
              "      <td>0.996970</td>\n",
              "      <td>0.996970</td>\n",
              "      <td>0.996970</td>\n",
              "      <td>330.000000</td>\n",
              "    </tr>\n",
              "    <tr>\n",
              "      <th>2</th>\n",
              "      <td>0.996875</td>\n",
              "      <td>0.993769</td>\n",
              "      <td>0.995320</td>\n",
              "      <td>321.000000</td>\n",
              "    </tr>\n",
              "    <tr>\n",
              "      <th>3</th>\n",
              "      <td>0.993220</td>\n",
              "      <td>0.996599</td>\n",
              "      <td>0.994907</td>\n",
              "      <td>294.000000</td>\n",
              "    </tr>\n",
              "    <tr>\n",
              "      <th>4</th>\n",
              "      <td>0.930667</td>\n",
              "      <td>0.928191</td>\n",
              "      <td>0.929427</td>\n",
              "      <td>376.000000</td>\n",
              "    </tr>\n",
              "    <tr>\n",
              "      <th>5</th>\n",
              "      <td>0.927807</td>\n",
              "      <td>0.930295</td>\n",
              "      <td>0.929050</td>\n",
              "      <td>373.000000</td>\n",
              "    </tr>\n",
              "    <tr>\n",
              "      <th>6</th>\n",
              "      <td>1.000000</td>\n",
              "      <td>1.000000</td>\n",
              "      <td>1.000000</td>\n",
              "      <td>365.000000</td>\n",
              "    </tr>\n",
              "    <tr>\n",
              "      <th>accuracy</th>\n",
              "      <td>0.972317</td>\n",
              "      <td>0.972317</td>\n",
              "      <td>0.972317</td>\n",
              "      <td>0.972317</td>\n",
              "    </tr>\n",
              "    <tr>\n",
              "      <th>macro avg</th>\n",
              "      <td>0.974257</td>\n",
              "      <td>0.974304</td>\n",
              "      <td>0.974279</td>\n",
              "      <td>2059.000000</td>\n",
              "    </tr>\n",
              "    <tr>\n",
              "      <th>weighted avg</th>\n",
              "      <td>0.972320</td>\n",
              "      <td>0.972317</td>\n",
              "      <td>0.972317</td>\n",
              "      <td>2059.000000</td>\n",
              "    </tr>\n",
              "  </tbody>\n",
              "</table>\n",
              "</div>"
            ],
            "text/plain": [
              "              precision    recall  f1-score      support\n",
              "1              0.996970  0.996970  0.996970   330.000000\n",
              "2              0.996875  0.993769  0.995320   321.000000\n",
              "3              0.993220  0.996599  0.994907   294.000000\n",
              "4              0.930667  0.928191  0.929427   376.000000\n",
              "5              0.927807  0.930295  0.929050   373.000000\n",
              "6              1.000000  1.000000  1.000000   365.000000\n",
              "accuracy       0.972317  0.972317  0.972317     0.972317\n",
              "macro avg      0.974257  0.974304  0.974279  2059.000000\n",
              "weighted avg   0.972320  0.972317  0.972317  2059.000000"
            ]
          },
          "metadata": {},
          "output_type": "display_data"
        },
        {
          "name": "stdout",
          "output_type": "stream",
          "text": [
            "\n"
          ]
        }
      ]
    },
    {
      "cell_type": "markdown",
      "metadata": {
        "id": "PUPKkXDilC_3"
      },
      "source": [
        "."
      ]
    },
    {
      "cell_type": "markdown",
      "metadata": {
        "id": "uZ1rfgfFYCoO"
      },
      "source": [
        "<p align='center'><b><font size=\"+3\" face='arial'>Clustering</font></p>"
      ]
    },
    {
      "cell_type": "markdown",
      "metadata": {
        "id": "CT_yfU-GYi1p"
      },
      "source": [
        "##K-means"
      ]
    },
    {
      "cell_type": "code",
      "metadata": {
        "colab": {
          "background_save": true
        },
        "id": "szvhpkq2WKHM",
        "outputId": "f76ae34d-dc01-49c5-e373-67df285c9022"
      },
      "source": [
        "kmean = KMeans(n_clusters=6)\n",
        "kmean.fit(X)"
      ],
      "execution_count": null,
      "outputs": [
        {
          "data": {
            "text/plain": [
              "KMeans(algorithm='auto', copy_x=True, init='k-means++', max_iter=300,\n",
              "       n_clusters=6, n_init=10, n_jobs=None, precompute_distances='auto',\n",
              "       random_state=None, tol=0.0001, verbose=0)"
            ]
          },
          "execution_count": null,
          "metadata": {},
          "output_type": "execute_result"
        }
      ]
    },
    {
      "cell_type": "code",
      "metadata": {
        "colab": {
          "background_save": true
        },
        "id": "w-T9gP7uZFXG",
        "outputId": "a422afce-e8a5-4e77-c1cd-0946183ae2f2"
      },
      "source": [
        "kmean.cluster_centers_"
      ],
      "execution_count": null,
      "outputs": [
        {
          "data": {
            "text/plain": [
              "array([[ 0.26930958, -0.02498289, -0.02498289, -0.10795613, -0.17472635,\n",
              "         0.01935934, -0.18023106, -0.2108133 , -0.03997119, -0.29630781,\n",
              "        -0.16332103, -0.01819079, -0.18822767, -0.04145716,  0.50302895,\n",
              "        -0.73999968, -0.01101691, -0.69896343,  0.23247542,  0.08652417],\n",
              "       [ 0.27649025, -0.01471015, -0.01471015, -0.10693731, -0.98542657,\n",
              "        -0.93869772, -0.94365159, -0.9838464 , -0.94926673, -0.9600616 ,\n",
              "        -0.98625696, -0.9370523 , -0.93938931,  0.00961843,  0.0059067 ,\n",
              "         0.00939365, -0.00736125, -0.74868374,  0.11447376, -0.01577492],\n",
              "       [ 0.27395823, -0.01955122, -0.01955122, -0.10981334, -0.12178146,\n",
              "         0.01738501, -0.18946491, -0.15194676, -0.0174143 , -0.27658551,\n",
              "        -0.11307135, -0.03133031, -0.21187141,  0.02839158, -0.53376881,\n",
              "         0.75015803, -0.18033037, -0.73505992,  0.22995064,  0.07939952],\n",
              "       [ 0.27356632, -0.01745513, -0.01745513, -0.10903819, -0.96322599,\n",
              "        -0.94424675, -0.94735844, -0.96931052, -0.95380031, -0.96029686,\n",
              "        -0.96125877, -0.94293413, -0.9445294 ,  0.01331388,  0.01888761,\n",
              "         0.01583987,  0.00952594,  0.4971998 , -0.43556891, -0.4460474 ],\n",
              "       [ 0.28366012, -0.01877761, -0.01877761, -0.12213692, -0.13725964,\n",
              "         0.01150351, -0.2009362 , -0.17488179, -0.03444169, -0.29878882,\n",
              "        -0.12559626, -0.03129703, -0.2167227 , -0.04285392,  0.51491248,\n",
              "         0.74151212,  0.06228379, -0.72753554,  0.23115901,  0.07958   ],\n",
              "       [ 0.26618655, -0.01759005, -0.01759005, -0.10357881, -0.16510566,\n",
              "         0.01445211, -0.18063548, -0.20775311, -0.04518766, -0.30064837,\n",
              "        -0.15127019, -0.02181593, -0.18688397,  0.07674957, -0.50167653,\n",
              "        -0.74017075,  0.0736653 , -0.71904232,  0.23505523,  0.08623632]])"
            ]
          },
          "execution_count": null,
          "metadata": {},
          "output_type": "execute_result"
        }
      ]
    },
    {
      "cell_type": "code",
      "metadata": {
        "colab": {
          "background_save": true
        },
        "id": "N7X3rtnmbBrQ",
        "outputId": "da6bbf24-8565-4323-8e0b-faeca303721e"
      },
      "source": [
        "y_kmeans = kmean.predict(X)\n",
        "silhouette_score(X, y_kmeans)"
      ],
      "execution_count": null,
      "outputs": [
        {
          "data": {
            "text/plain": [
              "0.29876295061160935"
            ]
          },
          "execution_count": null,
          "metadata": {},
          "output_type": "execute_result"
        }
      ]
    },
    {
      "cell_type": "code",
      "metadata": {
        "colab": {
          "background_save": true
        },
        "id": "Go1NLsJYtwnc",
        "outputId": "2036ab10-4217-48d8-a0bc-ef5943d6cace"
      },
      "source": [
        "kmean.inertia_"
      ],
      "execution_count": null,
      "outputs": [
        {
          "data": {
            "text/plain": [
              "6668.993399562416"
            ]
          },
          "execution_count": null,
          "metadata": {},
          "output_type": "execute_result"
        }
      ]
    },
    {
      "cell_type": "code",
      "metadata": {
        "colab": {
          "background_save": true
        },
        "id": "sUJd-u-MXrRD",
        "outputId": "62292fce-b8c9-4ecc-c8c4-3e447f07beed"
      },
      "source": [
        "y_kmeans = kmean.predict(X_test)\n",
        "silhouette_score(X_test, y_kmeans)"
      ],
      "execution_count": null,
      "outputs": [
        {
          "data": {
            "text/plain": [
              "0.2918999840135626"
            ]
          },
          "execution_count": null,
          "metadata": {},
          "output_type": "execute_result"
        }
      ]
    },
    {
      "cell_type": "code",
      "metadata": {
        "colab": {
          "background_save": true
        },
        "id": "SAn4fQAwgBpV",
        "outputId": "d50e8b47-8c23-4b65-a609-785b812353c5"
      },
      "source": [
        "y_kmeans = kmean.predict(x)\n",
        "silhouette_score(x, y_kmeans)"
      ],
      "execution_count": null,
      "outputs": [
        {
          "data": {
            "text/plain": [
              "0.2962418580884486"
            ]
          },
          "execution_count": null,
          "metadata": {},
          "output_type": "execute_result"
        }
      ]
    },
    {
      "cell_type": "code",
      "metadata": {
        "colab": {
          "background_save": true
        },
        "id": "wY2hzCoc0sVw"
      },
      "source": [
        "kme = [dict(collections.Counter(y_kmeans))[x] for x in range(6)] "
      ],
      "execution_count": null,
      "outputs": []
    },
    {
      "cell_type": "code",
      "metadata": {
        "colab": {
          "background_save": true
        },
        "id": "TVa1Qhpq0qHf",
        "outputId": "8e4fd33a-7e99-43b2-85fa-3ebbecacc845"
      },
      "source": [
        "plt.figure(figsize=(16,6))\n",
        "plt.pie(kme,labels= set(y_kmeans), autopct = '%0.2f')"
      ],
      "execution_count": null,
      "outputs": [
        {
          "data": {
            "text/plain": [
              "([<matplotlib.patches.Wedge at 0x7fd4c588c750>,\n",
              "  <matplotlib.patches.Wedge at 0x7fd4c588cf50>,\n",
              "  <matplotlib.patches.Wedge at 0x7fd4c5882890>,\n",
              "  <matplotlib.patches.Wedge at 0x7fd4c58561d0>,\n",
              "  <matplotlib.patches.Wedge at 0x7fd4c5856c90>,\n",
              "  <matplotlib.patches.Wedge at 0x7fd4c58547d0>],\n",
              " [Text(1.0378792196102073, 0.3644265707948683, '0'),\n",
              "  Text(-0.22505847247975377, 1.0767305530935212, '1'),\n",
              "  Text(-1.095117205951156, -0.10352924818491449, '2'),\n",
              "  Text(-0.5389208739951349, -0.9589391490456108, '3'),\n",
              "  Text(0.5004805417554407, -0.9795505231095438, '4'),\n",
              "  Text(1.029271055823731, -0.3880735673084449, '5')],\n",
              " [Text(0.566115937969204, 0.19877812952447357, '10.75'),\n",
              "  Text(-0.12275916680713841, 0.5873075744146479, '35.06'),\n",
              "  Text(-0.5973366577915395, -0.05647049900995335, '11.38'),\n",
              "  Text(-0.29395684036098263, -0.5230577176612422, '19.32'),\n",
              "  Text(0.2729893864120585, -0.5343002853324784, '12.01'),\n",
              "  Text(0.5614205759038532, -0.21167649125915172, '11.48')])"
            ]
          },
          "execution_count": null,
          "metadata": {},
          "output_type": "execute_result"
        },
        {
          "data": {
            "image/png": "[encoded data removed]",
            "text/plain": [
              "<Figure size 1152x432 with 1 Axes>"
            ]
          },
          "metadata": {},
          "output_type": "display_data"
        }
      ]
    },
    {
      "cell_type": "markdown",
      "metadata": {
        "id": "evKeyD0zcrXb"
      },
      "source": [
        "."
      ]
    },
    {
      "cell_type": "markdown",
      "metadata": {
        "id": "klWnazykcgMi"
      },
      "source": [
        "###The Elbow Method is not working well as there must be 6 clusters as per our need."
      ]
    },
    {
      "cell_type": "code",
      "metadata": {
        "colab": {
          "background_save": true
        },
        "id": "iw9iVgRzR8LD",
        "outputId": "2a3d31c5-cd5a-4a5d-f2bf-f281657c17b3"
      },
      "source": [
        "error = []\n",
        "for i in range(1, 10):\n",
        "    kmeans = KMeans(n_clusters = i)\n",
        "    kmeans.fit(X)\n",
        "    error.append(kmeans.inertia_)\n",
        "plt.plot(range(1, 10), error)\n",
        "plt.title('The Elbow Method')\n",
        "plt.xlabel('Number of clusters')\n",
        "plt.ylabel('error')\n",
        "plt.show()"
      ],
      "execution_count": null,
      "outputs": [
        {
          "data": {
            "image/png": "[encoded data removed]",
            "text/plain": [
              "<Figure size 432x288 with 1 Axes>"
            ]
          },
          "metadata": {},
          "output_type": "display_data"
        }
      ]
    },
    {
      "cell_type": "markdown",
      "metadata": {
        "id": "YKobsCeudh9u"
      },
      "source": [
        "##K-medoid"
      ]
    },
    {
      "cell_type": "code",
      "metadata": {
        "colab": {
          "background_save": true
        },
        "id": "2rnrFgeRdlRy"
      },
      "source": [
        "kmedoids = KMedoids(n_clusters=6, random_state=0).fit(X)\n"
      ],
      "execution_count": null,
      "outputs": []
    },
    {
      "cell_type": "code",
      "metadata": {
        "colab": {
          "background_save": true
        },
        "id": "nuqVwWKgikhy",
        "outputId": "7a1ec1ce-2abd-4c42-9896-8a53f7783c1a"
      },
      "source": [
        "y_kmed = kmedoids.predict(X)\n",
        "silhouette_score(X, y_kmed)"
      ],
      "execution_count": null,
      "outputs": [
        {
          "data": {
            "text/plain": [
              "0.20422496460449857"
            ]
          },
          "execution_count": null,
          "metadata": {},
          "output_type": "execute_result"
        }
      ]
    },
    {
      "cell_type": "code",
      "metadata": {
        "colab": {
          "background_save": true
        },
        "id": "HWEP5immuYQi",
        "outputId": "a895bf49-9e71-4ea7-d849-ff48f5b93df8"
      },
      "source": [
        "kmedoids.inertia_"
      ],
      "execution_count": null,
      "outputs": [
        {
          "data": {
            "text/plain": [
              "6967.723460015684"
            ]
          },
          "execution_count": null,
          "metadata": {},
          "output_type": "execute_result"
        }
      ]
    },
    {
      "cell_type": "code",
      "metadata": {
        "colab": {
          "background_save": true
        },
        "id": "GFCzhz8pepIv",
        "outputId": "74b1d11d-e76b-421d-fc81-1834b9cbbee7"
      },
      "source": [
        "y_kmed = kmedoids.predict(X_test)\n",
        "silhouette_score(X_test, y_kmed)"
      ],
      "execution_count": null,
      "outputs": [
        {
          "data": {
            "text/plain": [
              "0.2114440243325775"
            ]
          },
          "execution_count": null,
          "metadata": {},
          "output_type": "execute_result"
        }
      ]
    },
    {
      "cell_type": "code",
      "metadata": {
        "colab": {
          "background_save": true
        },
        "id": "_g7Roe2auTXV",
        "outputId": "77930b72-6187-4e75-a4a6-29296a6ff142"
      },
      "source": [
        "y_kmed = kmedoids.predict(x)\n",
        "silhouette_score(x, y_kmed)"
      ],
      "execution_count": null,
      "outputs": [
        {
          "data": {
            "text/plain": [
              "0.20563284479085722"
            ]
          },
          "execution_count": null,
          "metadata": {},
          "output_type": "execute_result"
        }
      ]
    },
    {
      "cell_type": "code",
      "metadata": {
        "colab": {
          "background_save": true
        },
        "id": "fyq_qyYjxVDI"
      },
      "source": [
        "kmed = [dict(collections.Counter(y_kmed))[x] for x in range(6)] "
      ],
      "execution_count": null,
      "outputs": []
    },
    {
      "cell_type": "code",
      "metadata": {
        "colab": {
          "background_save": true
        },
        "id": "zNo9gdzBvMab",
        "outputId": "6d3c979f-d5e9-49c2-855b-646b7b2de880"
      },
      "source": [
        "plt.figure(figsize=(16,6))\n",
        "plt.pie(kmed,labels= set(y_kmed), autopct = '%0.2f')"
      ],
      "execution_count": null,
      "outputs": [
        {
          "data": {
            "text/plain": [
              "([<matplotlib.patches.Wedge at 0x7fd4c5ccb990>,\n",
              "  <matplotlib.patches.Wedge at 0x7fd4c58c32d0>,\n",
              "  <matplotlib.patches.Wedge at 0x7fd4c5c3f650>,\n",
              "  <matplotlib.patches.Wedge at 0x7fd4cec06bd0>,\n",
              "  <matplotlib.patches.Wedge at 0x7fd4c58ff590>,\n",
              "  <matplotlib.patches.Wedge at 0x7fd4c6071550>],\n",
              " [Text(0.9558826002229266, 0.5443238508379519, '0'),\n",
              "  Text(-0.14802714536436515, 1.0899944789930256, '1'),\n",
              "  Text(-0.9547181919005444, 0.5463635914426908, '2'),\n",
              "  Text(-1.0389860130013249, -0.3612589995939354, '3'),\n",
              "  Text(0.041429747936250004, -1.0992195303877834, '4'),\n",
              "  Text(0.997987768787416, -0.46262340337548347, '5')],\n",
              " [Text(0.5213905092125053, 0.29690391863888277, '16.48'),\n",
              "  Text(-0.0807420792896537, 0.5945424430871048, '21.34'),\n",
              "  Text(-0.5207553774002969, 0.2980165044232858, '7.82'),\n",
              "  Text(-0.566719643455268, -0.19705036341487384, '19.38'),\n",
              "  Text(0.02259804432886364, -0.5995742893024272, '21.17'),\n",
              "  Text(0.5443569647931359, -0.2523400382048091, '13.82')])"
            ]
          },
          "execution_count": null,
          "metadata": {},
          "output_type": "execute_result"
        },
        {
          "data": {
            "image/png": "[encoded data removed]",
            "text/plain": [
              "<Figure size 1152x432 with 1 Axes>"
            ]
          },
          "metadata": {},
          "output_type": "display_data"
        }
      ]
    },
    {
      "cell_type": "code",
      "metadata": {
        "colab": {
          "background_save": true
        },
        "id": "EbBzH3NbgXIK",
        "outputId": "45a85508-4762-4626-da52-1090ced8993b"
      },
      "source": [
        "error = []\n",
        "for i in range(1, 10):\n",
        "    kmedoid = KMedoids(n_clusters = i, random_state = 42)\n",
        "    kmedoid.fit(X)\n",
        "    error.append(kmedoid.inertia_)\n",
        "plt.plot(range(1, 10), error)\n",
        "plt.title('The Elbow Method')\n",
        "plt.xlabel('Number of clusters')\n",
        "plt.ylabel('error')\n",
        "plt.show()"
      ],
      "execution_count": null,
      "outputs": [
        {
          "data": {
            "image/png": "[encoded data removed]",
            "text/plain": [
              "<Figure size 432x288 with 1 Axes>"
            ]
          },
          "metadata": {},
          "output_type": "display_data"
        }
      ]
    },
    {
      "cell_type": "code",
      "metadata": {
        "colab": {
          "background_save": true
        },
        "id": "58sJHQEsKNeB",
        "outputId": "e4ff426b-3945-4b25-9886-71c7124ed06f"
      },
      "source": [
        "fcm = FCM(n_clusters=6)\n",
        "fcm.fit(x)\n",
        "y_fcm=fcm.predict(x)\n",
        "y_fcm"
      ],
      "execution_count": null,
      "outputs": [
        {
          "data": {
            "text/plain": [
              "array([4, 4, 5, ..., 1, 3, 5])"
            ]
          },
          "execution_count": null,
          "metadata": {},
          "output_type": "execute_result"
        }
      ]
    },
    {
      "cell_type": "code",
      "metadata": {
        "colab": {
          "background_save": true
        },
        "id": "R5Sxwg-aZwde",
        "outputId": "10a1a2a7-02e8-4cee-ad19-c57c7c57d3f1"
      },
      "source": [
        "silhouette_score(x, y_fcm)"
      ],
      "execution_count": null,
      "outputs": [
        {
          "data": {
            "text/plain": [
              "0.24481882556013523"
            ]
          },
          "execution_count": null,
          "metadata": {},
          "output_type": "execute_result"
        }
      ]
    },
    {
      "cell_type": "code",
      "metadata": {
        "colab": {
          "background_save": true
        },
        "id": "xZGfo1Bva7JY"
      },
      "source": [
        "def calc_sse(centers,x,y):\n",
        "  sse=0\n",
        "  for i in range(x.shape[0]):\n",
        "    sse+=np.sum((x[i]-centers[y[i]])**2)\n",
        "\n",
        "  return sse"
      ],
      "execution_count": null,
      "outputs": []
    },
    {
      "cell_type": "code",
      "metadata": {
        "colab": {
          "background_save": true
        },
        "id": "Jeu37kD3arXQ",
        "outputId": "fc671803-879a-4b3d-c7ac-516c8f8e0323"
      },
      "source": [
        "calc_sse(fcm.centers,x,y_fcm)"
      ],
      "execution_count": null,
      "outputs": [
        {
          "data": {
            "text/plain": [
              "11381.700666365678"
            ]
          },
          "execution_count": null,
          "metadata": {},
          "output_type": "execute_result"
        }
      ]
    }
  ]
}